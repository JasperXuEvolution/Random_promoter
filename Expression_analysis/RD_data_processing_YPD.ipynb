{
 "cells": [
  {
   "cell_type": "code",
   "execution_count": 1,
   "id": "5810c1d1-b816-43e4-8a72-ae77b5641c5b",
   "metadata": {},
   "outputs": [],
   "source": [
    "# This module is for filtering data and add promoter information"
   ]
  },
  {
   "cell_type": "markdown",
   "id": "59443497-9d36-49cf-937c-aed7b65a6370",
   "metadata": {},
   "source": [
    "## 1 Functions and module"
   ]
  },
  {
   "cell_type": "markdown",
   "id": "a03232bf-99b4-4be0-a0d0-4304e94348ea",
   "metadata": {
    "tags": []
   },
   "source": [
    "### 1.1 Modules"
   ]
  },
  {
   "cell_type": "code",
   "execution_count": 1,
   "id": "b87bc57f-f050-42f9-9868-eb12ef16ae6f",
   "metadata": {},
   "outputs": [],
   "source": [
    "import pandas as pd\n",
    "import numpy as np\n",
    "import math\n",
    "import copy\n",
    "import statistics as ST"
   ]
  },
  {
   "cell_type": "markdown",
   "id": "521cfb57-c2f6-42ab-808c-c412a8b3c929",
   "metadata": {},
   "source": [
    "### 1.2 Functions"
   ]
  },
  {
   "cell_type": "code",
   "execution_count": null,
   "id": "1d4f7660-6cb8-47ed-9deb-1b6d2dc23c16",
   "metadata": {},
   "outputs": [],
   "source": []
  },
  {
   "cell_type": "code",
   "execution_count": 2,
   "id": "ba5ec30f-564c-47ee-be93-dd1dfb2dd850",
   "metadata": {},
   "outputs": [],
   "source": [
    "def Read_Random_Promoter_with_DNA_only(input_address):\n",
    "    # read random promoter with only DNA reads\n",
    "    temp_df= pd.read_csv(input_address)\n",
    "    temp_df['RNA_absolute_count'] = 0 # give 0 to RNA reads\n",
    "    temp_df['RNA_relative_count'] = 0\n",
    "    return(temp_df)"
   ]
  },
  {
   "cell_type": "code",
   "execution_count": 3,
   "id": "0523219a-c22f-4d3f-a1bc-782d1606b2bd",
   "metadata": {},
   "outputs": [],
   "source": [
    "def Read_Random_Promoter_with_Both(input_address):\n",
    "    # read random promoter with Both reads\n",
    "    temp_df= pd.read_csv(input_address,\n",
    "                         usecols = ['barcode_cluster', 'representative_sequence',\n",
    "                                    'DNA_absolute_count', 'DNA_relative_count',\n",
    "                                    'RNA_absolute_count', 'RNA_relative_count',])\n",
    "    return(temp_df)"
   ]
  },
  {
   "cell_type": "code",
   "execution_count": 4,
   "id": "15888f99-7a2f-413b-8cf6-396e1f3711b0",
   "metadata": {},
   "outputs": [],
   "source": [
    "def Calculate_Total_Count(input_address,input_p):\n",
    "    temp = pd.read_csv(input_address, sep=';')\n",
    "    return(temp[input_p].sum())"
   ]
  },
  {
   "cell_type": "code",
   "execution_count": 5,
   "id": "89658b1f-c950-4aa3-9db4-bd10ec18b245",
   "metadata": {},
   "outputs": [],
   "source": [
    "def all_present_total_new(input_df,cutoff_DNA,cutoff_RNA,count_type):\n",
    "    # count_type specify I am using absolute or relative count as a cutoff\n",
    "    if count_type == 'absolute':\n",
    "        temp_df=input_df[(input_df['DNA_absolute_count_S1']>=cutoff_DNA)&\n",
    "                         (input_df['DNA_absolute_count_S2']>=cutoff_DNA)&\n",
    "                         (input_df['DNA_absolute_count_S3']>=cutoff_DNA)&\n",
    "                         (input_df['RNA_absolute_count_S1']>=cutoff_RNA)&\n",
    "                         (input_df['RNA_absolute_count_S2']>=cutoff_RNA)&\n",
    "                         (input_df['RNA_absolute_count_S3']>=cutoff_RNA)]\n",
    "    else:\n",
    "        temp_df=input_df[(input_df['DNA_relative_count_S1']>=cutoff_DNA)&\n",
    "                         (input_df['DNA_relative_count_S2']>=cutoff_DNA)&\n",
    "                         (input_df['DNA_relative_count_S3']>=cutoff_DNA)&\n",
    "                         (input_df['RNA_relative_count_S1']>=cutoff_RNA)&\n",
    "                         (input_df['RNA_relative_count_S2']>=cutoff_RNA)&\n",
    "                         (input_df['RNA_relative_count_S3']>=cutoff_RNA)]\n",
    "    return(temp_df)"
   ]
  },
  {
   "cell_type": "code",
   "execution_count": 6,
   "id": "2e905a95-f3e4-4498-a309-6d245adf2bbb",
   "metadata": {},
   "outputs": [],
   "source": [
    "def add_sample_specific_relative_expression(input_df):\n",
    "# This function will take a dataframe and filtere add Sample specific normalized relative expression\n",
    "    input_data_frame = input_df.copy()\n",
    "    input_data_frame['S1_normalized_relative']=input_data_frame['N_RNA_relative_count_S1']/input_data_frame['N_DNA_relative_count_S1']\n",
    "    input_data_frame['S2_normalized_relative']=input_data_frame['N_RNA_relative_count_S2']/input_data_frame['N_DNA_relative_count_S2']\n",
    "    input_data_frame['S3_normalized_relative']=input_data_frame['N_RNA_relative_count_S3']/input_data_frame['N_DNA_relative_count_S3']\n",
    "    input_data_frame['Mean_normalized_relative']=(input_data_frame['S1_normalized_relative']+input_data_frame['S2_normalized_relative']+input_data_frame['S3_normalized_relative'])/3\n",
    "    input_data_frame['SD_normalized_relative']=input_data_frame[['S1_normalized_relative','S2_normalized_relative','S3_normalized_relative']].apply(lambda x: ST.stdev(x), axis=1)\n",
    "    #this i calculate the std for the expression between three samples\n",
    "    input_data_frame['CV_normalized_relative']=input_data_frame['SD_normalized_relative']/input_data_frame['Mean_normalized_relative']\n",
    "    return(input_data_frame)"
   ]
  },
  {
   "cell_type": "code",
   "execution_count": 7,
   "id": "500e21f9-c153-4743-9ccb-91ff12608710",
   "metadata": {},
   "outputs": [],
   "source": [
    "def Expression_Preprocessing(input_df):\n",
    "# I add expression based on combined reads or individual reads\n",
    "    temp = input_df.copy()\n",
    "    temp['expression']=temp['RNA_relative_count_Total']/temp['DNA_relative_count_Total'] # add expression based on combined reads\n",
    "    temp['expression_normalized']=temp['N_RNA_relative_count_Total']/temp['N_DNA_relative_count_Total'] # expression based on normalized combined relative reads\n",
    "    temp = add_sample_specific_relative_expression(temp)\n",
    "    temp['expression_normalized_absolute'] = temp['N_RNA_absolute_count_Total']/temp['N_DNA_absolute_count_Total']\n",
    "    temp['S1_normalized_absolute'] = temp['N_RNA_absolute_count_S1']/temp['N_DNA_absolute_count_S1']\n",
    "    temp['S2_normalized_absolute'] = temp['N_RNA_absolute_count_S2']/temp['N_DNA_absolute_count_S2']\n",
    "    temp['S3_normalized_absolute'] = temp['N_RNA_absolute_count_S3']/temp['N_DNA_absolute_count_S3']\n",
    "    temp['S1_absolute'] = temp['RNA_absolute_count_S1']/temp['DNA_absolute_count_S1']\n",
    "    temp['S2_absolute'] = temp['RNA_absolute_count_S2']/temp['DNA_absolute_count_S2']\n",
    "    temp['S3_absolute'] = temp['RNA_absolute_count_S3']/temp['DNA_absolute_count_S3']\n",
    "    temp['S1_relative'] = temp['RNA_relative_count_S1']/temp['DNA_relative_count_S1']\n",
    "    temp['S2_relative'] = temp['RNA_relative_count_S2']/temp['DNA_relative_count_S2']\n",
    "    temp['S3_relative'] = temp['RNA_relative_count_S3']/temp['DNA_relative_count_S3']\n",
    "    return(temp)\n"
   ]
  },
  {
   "cell_type": "markdown",
   "id": "69103324-72cf-4bb5-9aeb-2b1e9876b1dd",
   "metadata": {
    "tags": []
   },
   "source": [
    "-----"
   ]
  },
  {
   "cell_type": "markdown",
   "id": "34429a3e-9720-43a7-b60b-7b62b4d16b9a",
   "metadata": {
    "tags": []
   },
   "source": [
    "## 2 Input and output address"
   ]
  },
  {
   "cell_type": "markdown",
   "id": "b470f0b4-67bc-44c3-beff-05137b71a4d8",
   "metadata": {},
   "source": [
    "### 2.1 Input address"
   ]
  },
  {
   "cell_type": "code",
   "execution_count": 8,
   "id": "7a54668d-fb56-4a6d-a09b-612d13e0bec5",
   "metadata": {},
   "outputs": [],
   "source": [
    "dr1='Data/'\n",
    "# YPD\n",
    "# data with at only DNA count\n",
    "D_S1_address = dr1 + 'YPD_new_N6_Q20_total_S1_d.csv'\n",
    "D_S2_address = dr1 + 'YPD_new_N6_Q20_total_S2_d.csv'\n",
    "D_S3_address = dr1 + 'YPD_new_N6_Q20_total_S3_d.csv'\n",
    "# data with both DNA count and RNA count\n",
    "B_S1_address = dr1 + 'YPD_new_N6_Q20_total_S1_b.csv'\n",
    "B_S2_address = dr1 + 'YPD_new_N6_Q20_total_S2_b.csv'\n",
    "B_S3_address = dr1 + 'YPD_new_N6_Q20_total_S3_b.csv'\n",
    "\n",
    "# total DNA count\n",
    "Total_DNA_S1_address = dr1 + 'YPD_new_N6_Q20_total_DNA_S1.csv'\n",
    "Total_DNA_S2_address = dr1 + 'YPD_new_N6_Q20_total_DNA_S2.csv'\n",
    "Total_DNA_S3_address = dr1 + 'YPD_new_N6_Q20_total_DNA_S3.csv'\n",
    "# total RNA count\n",
    "\n",
    "Total_RNA_S1_address = dr1 + 'YPD_new_N6_Q20_total_RNA_S1.csv'\n",
    "Total_RNA_S2_address = dr1 + 'YPD_new_N6_Q20_total_RNA_S2.csv'\n",
    "Total_RNA_S3_address = dr1 + 'YPD_new_N6_Q20_total_RNA_S3.csv'"
   ]
  },
  {
   "cell_type": "code",
   "execution_count": 9,
   "id": "fcfe4a92-6376-4da1-be44-6c4e9bea2fd3",
   "metadata": {},
   "outputs": [],
   "source": [
    "Total_linkage_resolved_address=dr1+'Linkage_barcode_promoter_combined_Summary'#This let me the linkage information between barcode and promoter. No conflict "
   ]
  },
  {
   "cell_type": "code",
   "execution_count": 10,
   "id": "9ebe52f5-1aba-4f2f-9686-820529f9d880",
   "metadata": {},
   "outputs": [],
   "source": [
    "total_output_address = dr1 + 'YPD_RD_expression_total.csv'\n",
    "PC_output_address = dr1 + 'YPD_PC_expression.csv'\n",
    "NC_output_address = dr1 + 'YPD_NC_expression.csv'\n",
    "promoter_output_address = dr1 +'YPD_promoter_output.csv'"
   ]
  },
  {
   "cell_type": "markdown",
   "id": "1df0b5de-6567-4a26-95a2-b00a8950cdbc",
   "metadata": {},
   "source": [
    "-----"
   ]
  },
  {
   "cell_type": "markdown",
   "id": "7feb4954-ab19-4ae5-8bb9-9ce5fb9c1ec7",
   "metadata": {},
   "source": [
    "## 3 Proprocessing data"
   ]
  },
  {
   "cell_type": "markdown",
   "id": "3e3af137-32a3-4560-a340-293c51fd0263",
   "metadata": {},
   "source": [
    "### 3.1 Read Raw data"
   ]
  },
  {
   "cell_type": "code",
   "execution_count": 11,
   "id": "2b4dee2d-2eb5-4b03-bcb6-81b4d4a07a46",
   "metadata": {},
   "outputs": [],
   "source": [
    "D_S1_df = Read_Random_Promoter_with_DNA_only(D_S1_address)\n",
    "D_S2_df = Read_Random_Promoter_with_DNA_only(D_S2_address)\n",
    "D_S3_df = Read_Random_Promoter_with_DNA_only(D_S3_address)"
   ]
  },
  {
   "cell_type": "code",
   "execution_count": 12,
   "id": "c7b27e20-92d6-4331-a8eb-f9803c2fd716",
   "metadata": {},
   "outputs": [],
   "source": [
    "B_S1_df = Read_Random_Promoter_with_Both(B_S1_address)\n",
    "B_S2_df = Read_Random_Promoter_with_Both(B_S2_address)\n",
    "B_S3_df = Read_Random_Promoter_with_Both(B_S3_address)"
   ]
  },
  {
   "cell_type": "code",
   "execution_count": 13,
   "id": "4187f946-c3e9-4cce-9e9c-5b2fd14f34af",
   "metadata": {},
   "outputs": [],
   "source": [
    "S1_df = pd.concat([D_S1_df.reset_index(drop=True),\n",
    "                   B_S1_df.reset_index(drop=True)]).reset_index(drop=True)"
   ]
  },
  {
   "cell_type": "code",
   "execution_count": 14,
   "id": "d61f7851-1b84-446d-bc31-0744e2d988ba",
   "metadata": {},
   "outputs": [],
   "source": [
    "S2_df = pd.concat([D_S2_df.reset_index(drop=True),\n",
    "                   B_S2_df.reset_index(drop=True)]).reset_index(drop=True)"
   ]
  },
  {
   "cell_type": "code",
   "execution_count": 15,
   "id": "2b59f89f-d71e-430c-b2be-b319bcae3d75",
   "metadata": {},
   "outputs": [],
   "source": [
    "S3_df = pd.concat([D_S3_df.reset_index(drop=True),\n",
    "                   B_S3_df.reset_index(drop=True)]).reset_index(drop=True)"
   ]
  },
  {
   "cell_type": "code",
   "execution_count": 16,
   "id": "eae59f98-37d4-4710-a373-e578efbc90e7",
   "metadata": {},
   "outputs": [],
   "source": [
    "# total reltaive count for DNA or RNA in each sample\n",
    "TC_DNA_S1=Calculate_Total_Count(Total_DNA_S1_address,'absolute_count')\n",
    "TC_DNA_S2=Calculate_Total_Count(Total_DNA_S2_address,'absolute_count')\n",
    "TC_DNA_S3=Calculate_Total_Count(Total_DNA_S3_address,'absolute_count')\n",
    "TC_RNA_S1=Calculate_Total_Count(Total_RNA_S1_address,'absolute_count')\n",
    "TC_RNA_S2=Calculate_Total_Count(Total_RNA_S2_address,'absolute_count')\n",
    "TC_RNA_S3=Calculate_Total_Count(Total_RNA_S3_address,'absolute_count')"
   ]
  },
  {
   "cell_type": "code",
   "execution_count": 17,
   "id": "bf88969f-1302-4ed2-a4d3-d460e47b4367",
   "metadata": {},
   "outputs": [],
   "source": [
    "# total reltaive count for DNA or RNA in each sample\n",
    "TC_DNA_S1_r=Calculate_Total_Count(Total_DNA_S1_address,'relative_count')\n",
    "TC_DNA_S2_r=Calculate_Total_Count(Total_DNA_S2_address,'relative_count')\n",
    "TC_DNA_S3_r=Calculate_Total_Count(Total_DNA_S3_address,'relative_count')\n",
    "TC_RNA_S1_r=Calculate_Total_Count(Total_RNA_S1_address,'relative_count')\n",
    "TC_RNA_S2_r=Calculate_Total_Count(Total_RNA_S2_address,'relative_count')\n",
    "TC_RNA_S3_r=Calculate_Total_Count(Total_RNA_S3_address,'relative_count')"
   ]
  },
  {
   "cell_type": "markdown",
   "id": "0d1537ef-7cc7-462f-a619-941dc578c833",
   "metadata": {},
   "source": [
    "### 3.2 Raw data preprocessing and combine"
   ]
  },
  {
   "cell_type": "code",
   "execution_count": 18,
   "id": "44edd457-ac07-4ae1-9719-7fe2af772dad",
   "metadata": {},
   "outputs": [],
   "source": [
    "S1_df[\"N_DNA_absolute_count\"] = S1_df[\"DNA_absolute_count\"]/TC_DNA_S1\n",
    "S1_df[\"N_RNA_absolute_count\"] = S1_df[\"RNA_absolute_count\"]/TC_RNA_S1\n",
    "S2_df[\"N_DNA_absolute_count\"] = S2_df[\"DNA_absolute_count\"]/TC_DNA_S2\n",
    "S2_df[\"N_RNA_absolute_count\"] = S2_df[\"RNA_absolute_count\"]/TC_RNA_S2\n",
    "S3_df[\"N_DNA_absolute_count\"] = S3_df[\"DNA_absolute_count\"]/TC_DNA_S3\n",
    "S3_df[\"N_RNA_absolute_count\"] = S3_df[\"RNA_absolute_count\"]/TC_RNA_S3"
   ]
  },
  {
   "cell_type": "code",
   "execution_count": 19,
   "id": "9b4fdf3d-be0e-43b2-b052-8073cecbaad3",
   "metadata": {},
   "outputs": [],
   "source": [
    "S1_df[\"N_DNA_relative_count\"] = S1_df[\"DNA_relative_count\"]/TC_DNA_S1_r\n",
    "S1_df[\"N_RNA_relative_count\"] = S1_df[\"RNA_relative_count\"]/TC_RNA_S1_r\n",
    "S2_df[\"N_DNA_relative_count\"] = S2_df[\"DNA_relative_count\"]/TC_DNA_S2_r\n",
    "S2_df[\"N_RNA_relative_count\"] = S2_df[\"RNA_relative_count\"]/TC_RNA_S2_r\n",
    "S3_df[\"N_DNA_relative_count\"] = S3_df[\"DNA_relative_count\"]/TC_DNA_S3_r\n",
    "S3_df[\"N_RNA_relative_count\"] = S3_df[\"RNA_relative_count\"]/TC_RNA_S3_r"
   ]
  },
  {
   "cell_type": "code",
   "execution_count": 20,
   "id": "6cbd9e57-08f1-444a-a365-d7ef9c5c9182",
   "metadata": {},
   "outputs": [],
   "source": [
    "# add sample suffix\n",
    "S1_df = S1_df.rename(columns={c: c+'_S1' for c in S1_df.columns if c not in ['barcode_cluster', 'representative_sequence']})\n",
    "S2_df = S2_df.rename(columns={c: c+'_S2' for c in S2_df.columns if c not in ['barcode_cluster', 'representative_sequence']})\n",
    "S3_df = S3_df.rename(columns={c: c+'_S3' for c in S3_df.columns if c not in ['barcode_cluster', 'representative_sequence']})"
   ]
  },
  {
   "cell_type": "code",
   "execution_count": 21,
   "id": "dedfd23f-9c54-4ad4-a189-d48117dde268",
   "metadata": {},
   "outputs": [],
   "source": [
    "# merge three sample\n",
    "temp_df = S1_df.merge(S2_df, on=['barcode_cluster', 'representative_sequence'], how = 'outer')\n",
    "Raw_df = temp_df.merge(S3_df, on=['barcode_cluster', 'representative_sequence'], how = 'outer')\n",
    "del temp_df\n",
    "Raw_df = Raw_df.fillna(0)"
   ]
  },
  {
   "cell_type": "code",
   "execution_count": 22,
   "id": "61c63ce8-0578-44bd-bf62-12c80259658e",
   "metadata": {},
   "outputs": [],
   "source": [
    "Raw_df[\"DNA_absolute_count_Total\"] = Raw_df['DNA_absolute_count_S1'] + Raw_df['DNA_absolute_count_S2'] + Raw_df['DNA_absolute_count_S3']\n",
    "Raw_df[\"DNA_relative_count_Total\"] = Raw_df['DNA_relative_count_S1'] + Raw_df['DNA_relative_count_S2'] + Raw_df['DNA_relative_count_S3']\n",
    "Raw_df[\"RNA_absolute_count_Total\"] = Raw_df['RNA_absolute_count_S1'] + Raw_df['RNA_absolute_count_S2'] + Raw_df['RNA_absolute_count_S3']\n",
    "Raw_df[\"RNA_relative_count_Total\"] = Raw_df['RNA_relative_count_S1'] + Raw_df['RNA_relative_count_S2'] + Raw_df['RNA_relative_count_S3']"
   ]
  },
  {
   "cell_type": "code",
   "execution_count": 23,
   "id": "56f11f15-25ad-4e2e-98c0-f1b47282e706",
   "metadata": {},
   "outputs": [],
   "source": [
    "Raw_df[\"N_DNA_absolute_count_Total\"] = Raw_df['N_DNA_absolute_count_S1'] + Raw_df['N_DNA_absolute_count_S2'] + Raw_df['N_DNA_absolute_count_S3']\n",
    "Raw_df[\"N_DNA_relative_count_Total\"] = Raw_df['N_DNA_relative_count_S1'] + Raw_df['N_DNA_relative_count_S2'] + Raw_df['N_DNA_relative_count_S3']\n",
    "Raw_df[\"N_RNA_absolute_count_Total\"] = Raw_df['N_RNA_absolute_count_S1'] + Raw_df['N_RNA_absolute_count_S2'] + Raw_df['N_RNA_absolute_count_S3']\n",
    "Raw_df[\"N_RNA_relative_count_Total\"] = Raw_df['N_RNA_relative_count_S1'] + Raw_df['N_RNA_relative_count_S2'] + Raw_df['N_RNA_relative_count_S3']"
   ]
  },
  {
   "cell_type": "code",
   "execution_count": 24,
   "id": "2d6cfcfd-4473-434b-84a6-998c888e803c",
   "metadata": {},
   "outputs": [
    {
     "data": {
      "text/html": [
       "<div>\n",
       "<style scoped>\n",
       "    .dataframe tbody tr th:only-of-type {\n",
       "        vertical-align: middle;\n",
       "    }\n",
       "\n",
       "    .dataframe tbody tr th {\n",
       "        vertical-align: top;\n",
       "    }\n",
       "\n",
       "    .dataframe thead th {\n",
       "        text-align: right;\n",
       "    }\n",
       "</style>\n",
       "<table border=\"1\" class=\"dataframe\">\n",
       "  <thead>\n",
       "    <tr style=\"text-align: right;\">\n",
       "      <th></th>\n",
       "      <th>barcode_cluster</th>\n",
       "      <th>representative_sequence</th>\n",
       "      <th>DNA_absolute_count_S1</th>\n",
       "      <th>DNA_relative_count_S1</th>\n",
       "      <th>RNA_absolute_count_S1</th>\n",
       "      <th>RNA_relative_count_S1</th>\n",
       "      <th>N_DNA_absolute_count_S1</th>\n",
       "      <th>N_RNA_absolute_count_S1</th>\n",
       "      <th>N_DNA_relative_count_S1</th>\n",
       "      <th>N_RNA_relative_count_S1</th>\n",
       "      <th>...</th>\n",
       "      <th>N_DNA_relative_count_S3</th>\n",
       "      <th>N_RNA_relative_count_S3</th>\n",
       "      <th>DNA_absolute_count_Total</th>\n",
       "      <th>DNA_relative_count_Total</th>\n",
       "      <th>RNA_absolute_count_Total</th>\n",
       "      <th>RNA_relative_count_Total</th>\n",
       "      <th>N_DNA_absolute_count_Total</th>\n",
       "      <th>N_DNA_relative_count_Total</th>\n",
       "      <th>N_RNA_absolute_count_Total</th>\n",
       "      <th>N_RNA_relative_count_Total</th>\n",
       "    </tr>\n",
       "  </thead>\n",
       "  <tbody>\n",
       "    <tr>\n",
       "      <th>0</th>\n",
       "      <td>1</td>\n",
       "      <td>GCTAAGAGGGCTGGGGAGTG</td>\n",
       "      <td>1.0</td>\n",
       "      <td>1.0</td>\n",
       "      <td>0.0</td>\n",
       "      <td>0.0</td>\n",
       "      <td>2.357128e-08</td>\n",
       "      <td>0.0</td>\n",
       "      <td>3.700074e-08</td>\n",
       "      <td>0.0</td>\n",
       "      <td>...</td>\n",
       "      <td>0.0</td>\n",
       "      <td>0.0</td>\n",
       "      <td>1.0</td>\n",
       "      <td>1.0</td>\n",
       "      <td>0.0</td>\n",
       "      <td>0.0</td>\n",
       "      <td>2.357128e-08</td>\n",
       "      <td>3.700074e-08</td>\n",
       "      <td>0.0</td>\n",
       "      <td>0.0</td>\n",
       "    </tr>\n",
       "    <tr>\n",
       "      <th>1</th>\n",
       "      <td>5</td>\n",
       "      <td>TAGGCTAACATCATCACCTC</td>\n",
       "      <td>1.0</td>\n",
       "      <td>1.0</td>\n",
       "      <td>0.0</td>\n",
       "      <td>0.0</td>\n",
       "      <td>2.357128e-08</td>\n",
       "      <td>0.0</td>\n",
       "      <td>3.700074e-08</td>\n",
       "      <td>0.0</td>\n",
       "      <td>...</td>\n",
       "      <td>0.0</td>\n",
       "      <td>0.0</td>\n",
       "      <td>1.0</td>\n",
       "      <td>1.0</td>\n",
       "      <td>0.0</td>\n",
       "      <td>0.0</td>\n",
       "      <td>2.357128e-08</td>\n",
       "      <td>3.700074e-08</td>\n",
       "      <td>0.0</td>\n",
       "      <td>0.0</td>\n",
       "    </tr>\n",
       "    <tr>\n",
       "      <th>2</th>\n",
       "      <td>9</td>\n",
       "      <td>TGTTAGCGGTCACCAGACAG</td>\n",
       "      <td>1.0</td>\n",
       "      <td>1.0</td>\n",
       "      <td>0.0</td>\n",
       "      <td>0.0</td>\n",
       "      <td>2.357128e-08</td>\n",
       "      <td>0.0</td>\n",
       "      <td>3.700074e-08</td>\n",
       "      <td>0.0</td>\n",
       "      <td>...</td>\n",
       "      <td>0.0</td>\n",
       "      <td>0.0</td>\n",
       "      <td>1.0</td>\n",
       "      <td>1.0</td>\n",
       "      <td>0.0</td>\n",
       "      <td>0.0</td>\n",
       "      <td>2.357128e-08</td>\n",
       "      <td>3.700074e-08</td>\n",
       "      <td>0.0</td>\n",
       "      <td>0.0</td>\n",
       "    </tr>\n",
       "    <tr>\n",
       "      <th>3</th>\n",
       "      <td>12</td>\n",
       "      <td>AAGAGATACTTTACCCAATT</td>\n",
       "      <td>1.0</td>\n",
       "      <td>1.0</td>\n",
       "      <td>0.0</td>\n",
       "      <td>0.0</td>\n",
       "      <td>2.357128e-08</td>\n",
       "      <td>0.0</td>\n",
       "      <td>3.700074e-08</td>\n",
       "      <td>0.0</td>\n",
       "      <td>...</td>\n",
       "      <td>0.0</td>\n",
       "      <td>0.0</td>\n",
       "      <td>1.0</td>\n",
       "      <td>1.0</td>\n",
       "      <td>0.0</td>\n",
       "      <td>0.0</td>\n",
       "      <td>2.357128e-08</td>\n",
       "      <td>3.700074e-08</td>\n",
       "      <td>0.0</td>\n",
       "      <td>0.0</td>\n",
       "    </tr>\n",
       "    <tr>\n",
       "      <th>4</th>\n",
       "      <td>14</td>\n",
       "      <td>AATTTTTAGGTGTATCTATG</td>\n",
       "      <td>1.0</td>\n",
       "      <td>1.0</td>\n",
       "      <td>0.0</td>\n",
       "      <td>0.0</td>\n",
       "      <td>2.357128e-08</td>\n",
       "      <td>0.0</td>\n",
       "      <td>3.700074e-08</td>\n",
       "      <td>0.0</td>\n",
       "      <td>...</td>\n",
       "      <td>0.0</td>\n",
       "      <td>0.0</td>\n",
       "      <td>1.0</td>\n",
       "      <td>1.0</td>\n",
       "      <td>0.0</td>\n",
       "      <td>0.0</td>\n",
       "      <td>2.357128e-08</td>\n",
       "      <td>3.700074e-08</td>\n",
       "      <td>0.0</td>\n",
       "      <td>0.0</td>\n",
       "    </tr>\n",
       "  </tbody>\n",
       "</table>\n",
       "<p>5 rows × 34 columns</p>\n",
       "</div>"
      ],
      "text/plain": [
       "   barcode_cluster representative_sequence  DNA_absolute_count_S1  \\\n",
       "0                1    GCTAAGAGGGCTGGGGAGTG                    1.0   \n",
       "1                5    TAGGCTAACATCATCACCTC                    1.0   \n",
       "2                9    TGTTAGCGGTCACCAGACAG                    1.0   \n",
       "3               12    AAGAGATACTTTACCCAATT                    1.0   \n",
       "4               14    AATTTTTAGGTGTATCTATG                    1.0   \n",
       "\n",
       "   DNA_relative_count_S1  RNA_absolute_count_S1  RNA_relative_count_S1  \\\n",
       "0                    1.0                    0.0                    0.0   \n",
       "1                    1.0                    0.0                    0.0   \n",
       "2                    1.0                    0.0                    0.0   \n",
       "3                    1.0                    0.0                    0.0   \n",
       "4                    1.0                    0.0                    0.0   \n",
       "\n",
       "   N_DNA_absolute_count_S1  N_RNA_absolute_count_S1  N_DNA_relative_count_S1  \\\n",
       "0             2.357128e-08                      0.0             3.700074e-08   \n",
       "1             2.357128e-08                      0.0             3.700074e-08   \n",
       "2             2.357128e-08                      0.0             3.700074e-08   \n",
       "3             2.357128e-08                      0.0             3.700074e-08   \n",
       "4             2.357128e-08                      0.0             3.700074e-08   \n",
       "\n",
       "   N_RNA_relative_count_S1  ...  N_DNA_relative_count_S3  \\\n",
       "0                      0.0  ...                      0.0   \n",
       "1                      0.0  ...                      0.0   \n",
       "2                      0.0  ...                      0.0   \n",
       "3                      0.0  ...                      0.0   \n",
       "4                      0.0  ...                      0.0   \n",
       "\n",
       "   N_RNA_relative_count_S3  DNA_absolute_count_Total  \\\n",
       "0                      0.0                       1.0   \n",
       "1                      0.0                       1.0   \n",
       "2                      0.0                       1.0   \n",
       "3                      0.0                       1.0   \n",
       "4                      0.0                       1.0   \n",
       "\n",
       "   DNA_relative_count_Total  RNA_absolute_count_Total  \\\n",
       "0                       1.0                       0.0   \n",
       "1                       1.0                       0.0   \n",
       "2                       1.0                       0.0   \n",
       "3                       1.0                       0.0   \n",
       "4                       1.0                       0.0   \n",
       "\n",
       "   RNA_relative_count_Total  N_DNA_absolute_count_Total  \\\n",
       "0                       0.0                2.357128e-08   \n",
       "1                       0.0                2.357128e-08   \n",
       "2                       0.0                2.357128e-08   \n",
       "3                       0.0                2.357128e-08   \n",
       "4                       0.0                2.357128e-08   \n",
       "\n",
       "   N_DNA_relative_count_Total  N_RNA_absolute_count_Total  \\\n",
       "0                3.700074e-08                         0.0   \n",
       "1                3.700074e-08                         0.0   \n",
       "2                3.700074e-08                         0.0   \n",
       "3                3.700074e-08                         0.0   \n",
       "4                3.700074e-08                         0.0   \n",
       "\n",
       "   N_RNA_relative_count_Total  \n",
       "0                         0.0  \n",
       "1                         0.0  \n",
       "2                         0.0  \n",
       "3                         0.0  \n",
       "4                         0.0  \n",
       "\n",
       "[5 rows x 34 columns]"
      ]
     },
     "execution_count": 24,
     "metadata": {},
     "output_type": "execute_result"
    }
   ],
   "source": [
    "Raw_df.head()"
   ]
  },
  {
   "cell_type": "markdown",
   "id": "bc6cf06e-f067-492e-9c8b-f9302fd6085c",
   "metadata": {},
   "source": [
    "### 3.3 Identify negative and positive control"
   ]
  },
  {
   "cell_type": "code",
   "execution_count": 25,
   "id": "ae0bba12-cb4f-4d1f-a33c-17165a4fd272",
   "metadata": {},
   "outputs": [],
   "source": [
    "# n_control = [1769576,2281214,2698104,4741707,2328337,1871693,3375381,2102647] \n",
    "# p_control = [2140910,3304444,3556204,3944581,2442367,3375101,1981999]\n",
    "nc_list = ['TATAGTGGGCATTAGTAGAC','CTCGATCGTCTAGGGCGAGG',\n",
    "           'GACTGGAAAGCGGTGCGGTG','AGTGTAGGTGGGGGTATCCA',\n",
    "           'ATGAGCGAGGCGTTGTCGAA','TGATTTAATTACCGCGTAGT',\n",
    "           'AAGCGCATGGAGTCATCCGT', 'AGGTCCGTCGGCGATGTCAG']\n",
    "pc_list = ['GTCTAACGCTAGCTTGGTAG','CAGTAGAGGTGTACGTGTGT',\n",
    "           'CGGGGACCGAGGCGAGATGC','TTATTGAACTGTAGCGACTT',\n",
    "           'GGTTGTGTTACAGTTGGGCT','CTCGTGGTTCGATGGGTAGT',\n",
    "           'TGTAGGTTGCAGGGAGTCAA','GGTCACGGATAAATGAAGGA',]"
   ]
  },
  {
   "cell_type": "code",
   "execution_count": 26,
   "id": "872bebcc-9e3c-455e-b950-3c94adb704a6",
   "metadata": {},
   "outputs": [],
   "source": [
    "Final_nc = Raw_df[Raw_df.representative_sequence.isin(nc_list)]\n",
    "Final_pc = Raw_df[Raw_df.representative_sequence.isin(pc_list)]"
   ]
  },
  {
   "cell_type": "code",
   "execution_count": 27,
   "id": "b26975a0-c3fd-4b69-9a54-df032b1b65c7",
   "metadata": {},
   "outputs": [],
   "source": [
    "Final_df = Raw_df[~Raw_df.representative_sequence.isin(nc_list+pc_list)]\n",
    "# I request the barcode has 1 dna count in all  three replicate\n",
    "Final_df_filtered=copy.deepcopy(all_present_total_new(Final_df,1,0,'absolute'))"
   ]
  },
  {
   "cell_type": "markdown",
   "id": "6579f062-e086-4cf5-9b4a-eeebef8801a2",
   "metadata": {},
   "source": [
    "### 3.3 Calculate expression "
   ]
  },
  {
   "cell_type": "code",
   "execution_count": 32,
   "id": "6f9b8c15-a8a7-405b-98e9-44be2d8fd0e6",
   "metadata": {},
   "outputs": [],
   "source": [
    "Expression_df = Expression_Preprocessing(Final_df_filtered)\n",
    "Expression_pc_df = Expression_Preprocessing(Final_pc)\n",
    "Expression_nc_df= Expression_Preprocessing(Final_nc)"
   ]
  },
  {
   "cell_type": "code",
   "execution_count": null,
   "id": "4452fc97-4287-4cf4-9cc8-ad278ae16b05",
   "metadata": {},
   "outputs": [],
   "source": []
  },
  {
   "cell_type": "markdown",
   "id": "d477e106-df1d-4e41-afa2-5a519b586759",
   "metadata": {},
   "source": [
    "### 3.4 Add promoter information"
   ]
  },
  {
   "cell_type": "code",
   "execution_count": 33,
   "id": "ccb999ba-47a8-4945-ae5e-0274b770e0fe",
   "metadata": {
    "tags": []
   },
   "outputs": [],
   "source": [
    "#First I read the linkage information\n",
    "df = pd.read_csv(Total_linkage_resolved_address,skiprows=1,header=None, usecols=range(0,6))\n",
    "df.columns = ['P_Cluster_ID', 'B_Clustser_ID','P_Clustser_seq','representative_sequence','Total_count','Seq_ID'] # rename the columns"
   ]
  },
  {
   "cell_type": "code",
   "execution_count": 34,
   "id": "cd36af8e-0b8f-40ca-9685-96160be80120",
   "metadata": {},
   "outputs": [],
   "source": [
    "Promoter_expression_df = pd.merge(df, Expression_df, on = 'representative_sequence', how = 'inner')"
   ]
  },
  {
   "cell_type": "markdown",
   "id": "13f07116-9d84-4a7d-8da5-dae1a27b6b88",
   "metadata": {},
   "source": [
    "### 3.5 Output"
   ]
  },
  {
   "cell_type": "code",
   "execution_count": 35,
   "id": "534fe6ca-07c5-427f-a72a-5ad3d1411272",
   "metadata": {},
   "outputs": [
    {
     "data": {
      "text/html": [
       "<div>\n",
       "<style scoped>\n",
       "    .dataframe tbody tr th:only-of-type {\n",
       "        vertical-align: middle;\n",
       "    }\n",
       "\n",
       "    .dataframe tbody tr th {\n",
       "        vertical-align: top;\n",
       "    }\n",
       "\n",
       "    .dataframe thead th {\n",
       "        text-align: right;\n",
       "    }\n",
       "</style>\n",
       "<table border=\"1\" class=\"dataframe\">\n",
       "  <thead>\n",
       "    <tr style=\"text-align: right;\">\n",
       "      <th></th>\n",
       "      <th>barcode_cluster</th>\n",
       "      <th>representative_sequence</th>\n",
       "      <th>DNA_absolute_count_S1</th>\n",
       "      <th>DNA_relative_count_S1</th>\n",
       "      <th>RNA_absolute_count_S1</th>\n",
       "      <th>RNA_relative_count_S1</th>\n",
       "      <th>N_DNA_absolute_count_S1</th>\n",
       "      <th>N_RNA_absolute_count_S1</th>\n",
       "      <th>N_DNA_relative_count_S1</th>\n",
       "      <th>N_RNA_relative_count_S1</th>\n",
       "      <th>...</th>\n",
       "      <th>expression_normalized_absolute</th>\n",
       "      <th>S1_normalized_absolute</th>\n",
       "      <th>S2_normalized_absolute</th>\n",
       "      <th>S3_normalized_absolute</th>\n",
       "      <th>S1_absolute</th>\n",
       "      <th>S2_absolute</th>\n",
       "      <th>S3_absolute</th>\n",
       "      <th>S1_relative</th>\n",
       "      <th>S2_relative</th>\n",
       "      <th>S3_relative</th>\n",
       "    </tr>\n",
       "  </thead>\n",
       "  <tbody>\n",
       "    <tr>\n",
       "      <th>1532059</th>\n",
       "      <td>1981999</td>\n",
       "      <td>GGTCACGGATAAATGAAGGA</td>\n",
       "      <td>383920.0</td>\n",
       "      <td>61239.0</td>\n",
       "      <td>4551213.0</td>\n",
       "      <td>52123.0</td>\n",
       "      <td>0.009049</td>\n",
       "      <td>0.100603</td>\n",
       "      <td>0.002266</td>\n",
       "      <td>0.048660</td>\n",
       "      <td>...</td>\n",
       "      <td>8.651450</td>\n",
       "      <td>11.116975</td>\n",
       "      <td>8.073567</td>\n",
       "      <td>6.647242</td>\n",
       "      <td>11.854587</td>\n",
       "      <td>3.637936</td>\n",
       "      <td>1.474891</td>\n",
       "      <td>0.851141</td>\n",
       "      <td>1.119227</td>\n",
       "      <td>0.884528</td>\n",
       "    </tr>\n",
       "    <tr>\n",
       "      <th>1534369</th>\n",
       "      <td>2140910</td>\n",
       "      <td>GTCTAACGCTAGCTTGGTAG</td>\n",
       "      <td>356772.0</td>\n",
       "      <td>59486.0</td>\n",
       "      <td>2281207.0</td>\n",
       "      <td>36001.0</td>\n",
       "      <td>0.008410</td>\n",
       "      <td>0.050425</td>\n",
       "      <td>0.002201</td>\n",
       "      <td>0.033609</td>\n",
       "      <td>...</td>\n",
       "      <td>7.289223</td>\n",
       "      <td>5.996173</td>\n",
       "      <td>8.012961</td>\n",
       "      <td>8.048500</td>\n",
       "      <td>6.394019</td>\n",
       "      <td>3.610627</td>\n",
       "      <td>1.785802</td>\n",
       "      <td>0.605201</td>\n",
       "      <td>0.987492</td>\n",
       "      <td>0.767754</td>\n",
       "    </tr>\n",
       "    <tr>\n",
       "      <th>1545735</th>\n",
       "      <td>2442367</td>\n",
       "      <td>GGTTGTGTTACAGTTGGGCT</td>\n",
       "      <td>361590.0</td>\n",
       "      <td>59050.0</td>\n",
       "      <td>2993352.0</td>\n",
       "      <td>42303.0</td>\n",
       "      <td>0.008523</td>\n",
       "      <td>0.066167</td>\n",
       "      <td>0.002185</td>\n",
       "      <td>0.039492</td>\n",
       "      <td>...</td>\n",
       "      <td>10.015849</td>\n",
       "      <td>7.763214</td>\n",
       "      <td>11.053840</td>\n",
       "      <td>11.689670</td>\n",
       "      <td>8.278304</td>\n",
       "      <td>4.980842</td>\n",
       "      <td>2.593705</td>\n",
       "      <td>0.716393</td>\n",
       "      <td>1.092315</td>\n",
       "      <td>0.880485</td>\n",
       "    </tr>\n",
       "    <tr>\n",
       "      <th>1562574</th>\n",
       "      <td>3304444</td>\n",
       "      <td>CAGTAGAGGTGTACGTGTGT</td>\n",
       "      <td>309736.0</td>\n",
       "      <td>56875.0</td>\n",
       "      <td>2937826.0</td>\n",
       "      <td>42265.0</td>\n",
       "      <td>0.007301</td>\n",
       "      <td>0.064940</td>\n",
       "      <td>0.002104</td>\n",
       "      <td>0.039457</td>\n",
       "      <td>...</td>\n",
       "      <td>10.738579</td>\n",
       "      <td>8.894767</td>\n",
       "      <td>11.879432</td>\n",
       "      <td>11.804353</td>\n",
       "      <td>9.484936</td>\n",
       "      <td>5.352853</td>\n",
       "      <td>2.619151</td>\n",
       "      <td>0.743121</td>\n",
       "      <td>1.137458</td>\n",
       "      <td>0.885150</td>\n",
       "    </tr>\n",
       "    <tr>\n",
       "      <th>1563270</th>\n",
       "      <td>3375101</td>\n",
       "      <td>TGTAGGTTGCAGGGAGTCAA</td>\n",
       "      <td>672965.0</td>\n",
       "      <td>68617.0</td>\n",
       "      <td>3747228.0</td>\n",
       "      <td>46913.0</td>\n",
       "      <td>0.015863</td>\n",
       "      <td>0.082831</td>\n",
       "      <td>0.002539</td>\n",
       "      <td>0.043796</td>\n",
       "      <td>...</td>\n",
       "      <td>6.237483</td>\n",
       "      <td>5.221771</td>\n",
       "      <td>6.511694</td>\n",
       "      <td>7.095894</td>\n",
       "      <td>5.568236</td>\n",
       "      <td>2.934159</td>\n",
       "      <td>1.574438</td>\n",
       "      <td>0.683694</td>\n",
       "      <td>0.951702</td>\n",
       "      <td>0.836665</td>\n",
       "    </tr>\n",
       "    <tr>\n",
       "      <th>1565035</th>\n",
       "      <td>3556204</td>\n",
       "      <td>CGGGGACCGAGGCGAGATGC</td>\n",
       "      <td>191121.0</td>\n",
       "      <td>47540.0</td>\n",
       "      <td>1657781.0</td>\n",
       "      <td>28538.0</td>\n",
       "      <td>0.004505</td>\n",
       "      <td>0.036645</td>\n",
       "      <td>0.001759</td>\n",
       "      <td>0.026642</td>\n",
       "      <td>...</td>\n",
       "      <td>8.781125</td>\n",
       "      <td>8.134277</td>\n",
       "      <td>9.219061</td>\n",
       "      <td>9.086775</td>\n",
       "      <td>8.673987</td>\n",
       "      <td>4.154094</td>\n",
       "      <td>2.016174</td>\n",
       "      <td>0.600294</td>\n",
       "      <td>1.069529</td>\n",
       "      <td>0.748693</td>\n",
       "    </tr>\n",
       "    <tr>\n",
       "      <th>1566719</th>\n",
       "      <td>3944581</td>\n",
       "      <td>TTATTGAACTGTAGCGACTT</td>\n",
       "      <td>281039.0</td>\n",
       "      <td>55942.0</td>\n",
       "      <td>1494959.0</td>\n",
       "      <td>28419.0</td>\n",
       "      <td>0.006624</td>\n",
       "      <td>0.033046</td>\n",
       "      <td>0.002070</td>\n",
       "      <td>0.026531</td>\n",
       "      <td>...</td>\n",
       "      <td>5.334923</td>\n",
       "      <td>4.988419</td>\n",
       "      <td>5.474225</td>\n",
       "      <td>5.571461</td>\n",
       "      <td>5.319401</td>\n",
       "      <td>2.466677</td>\n",
       "      <td>1.236196</td>\n",
       "      <td>0.508008</td>\n",
       "      <td>0.882796</td>\n",
       "      <td>0.662835</td>\n",
       "    </tr>\n",
       "  </tbody>\n",
       "</table>\n",
       "<p>7 rows × 52 columns</p>\n",
       "</div>"
      ],
      "text/plain": [
       "         barcode_cluster representative_sequence  DNA_absolute_count_S1  \\\n",
       "1532059          1981999    GGTCACGGATAAATGAAGGA               383920.0   \n",
       "1534369          2140910    GTCTAACGCTAGCTTGGTAG               356772.0   \n",
       "1545735          2442367    GGTTGTGTTACAGTTGGGCT               361590.0   \n",
       "1562574          3304444    CAGTAGAGGTGTACGTGTGT               309736.0   \n",
       "1563270          3375101    TGTAGGTTGCAGGGAGTCAA               672965.0   \n",
       "1565035          3556204    CGGGGACCGAGGCGAGATGC               191121.0   \n",
       "1566719          3944581    TTATTGAACTGTAGCGACTT               281039.0   \n",
       "\n",
       "         DNA_relative_count_S1  RNA_absolute_count_S1  RNA_relative_count_S1  \\\n",
       "1532059                61239.0              4551213.0                52123.0   \n",
       "1534369                59486.0              2281207.0                36001.0   \n",
       "1545735                59050.0              2993352.0                42303.0   \n",
       "1562574                56875.0              2937826.0                42265.0   \n",
       "1563270                68617.0              3747228.0                46913.0   \n",
       "1565035                47540.0              1657781.0                28538.0   \n",
       "1566719                55942.0              1494959.0                28419.0   \n",
       "\n",
       "         N_DNA_absolute_count_S1  N_RNA_absolute_count_S1  \\\n",
       "1532059                 0.009049                 0.100603   \n",
       "1534369                 0.008410                 0.050425   \n",
       "1545735                 0.008523                 0.066167   \n",
       "1562574                 0.007301                 0.064940   \n",
       "1563270                 0.015863                 0.082831   \n",
       "1565035                 0.004505                 0.036645   \n",
       "1566719                 0.006624                 0.033046   \n",
       "\n",
       "         N_DNA_relative_count_S1  N_RNA_relative_count_S1  ...  \\\n",
       "1532059                 0.002266                 0.048660  ...   \n",
       "1534369                 0.002201                 0.033609  ...   \n",
       "1545735                 0.002185                 0.039492  ...   \n",
       "1562574                 0.002104                 0.039457  ...   \n",
       "1563270                 0.002539                 0.043796  ...   \n",
       "1565035                 0.001759                 0.026642  ...   \n",
       "1566719                 0.002070                 0.026531  ...   \n",
       "\n",
       "         expression_normalized_absolute  S1_normalized_absolute  \\\n",
       "1532059                        8.651450               11.116975   \n",
       "1534369                        7.289223                5.996173   \n",
       "1545735                       10.015849                7.763214   \n",
       "1562574                       10.738579                8.894767   \n",
       "1563270                        6.237483                5.221771   \n",
       "1565035                        8.781125                8.134277   \n",
       "1566719                        5.334923                4.988419   \n",
       "\n",
       "         S2_normalized_absolute  S3_normalized_absolute  S1_absolute  \\\n",
       "1532059                8.073567                6.647242    11.854587   \n",
       "1534369                8.012961                8.048500     6.394019   \n",
       "1545735               11.053840               11.689670     8.278304   \n",
       "1562574               11.879432               11.804353     9.484936   \n",
       "1563270                6.511694                7.095894     5.568236   \n",
       "1565035                9.219061                9.086775     8.673987   \n",
       "1566719                5.474225                5.571461     5.319401   \n",
       "\n",
       "         S2_absolute  S3_absolute  S1_relative  S2_relative  S3_relative  \n",
       "1532059     3.637936     1.474891     0.851141     1.119227     0.884528  \n",
       "1534369     3.610627     1.785802     0.605201     0.987492     0.767754  \n",
       "1545735     4.980842     2.593705     0.716393     1.092315     0.880485  \n",
       "1562574     5.352853     2.619151     0.743121     1.137458     0.885150  \n",
       "1563270     2.934159     1.574438     0.683694     0.951702     0.836665  \n",
       "1565035     4.154094     2.016174     0.600294     1.069529     0.748693  \n",
       "1566719     2.466677     1.236196     0.508008     0.882796     0.662835  \n",
       "\n",
       "[7 rows x 52 columns]"
      ]
     },
     "execution_count": 35,
     "metadata": {},
     "output_type": "execute_result"
    }
   ],
   "source": [
    "Expression_pc_df"
   ]
  },
  {
   "cell_type": "code",
   "execution_count": 36,
   "id": "b90b9332-ff57-49e3-902b-28f1b8e16931",
   "metadata": {},
   "outputs": [],
   "source": [
    "# YPD Output\n",
    "Expression_df.to_csv(total_output_address, index=False)\n",
    "Expression_pc_df.to_csv(PC_output_address, index = False)\n",
    "Expression_nc_df.to_csv(NC_output_address, index = False)"
   ]
  },
  {
   "cell_type": "code",
   "execution_count": 37,
   "id": "a4d94372-f6c6-4266-aaa5-f59cecbd0ee5",
   "metadata": {},
   "outputs": [],
   "source": [
    "Promoter_expression_df.to_csv(promoter_output_address, index = False)"
   ]
  },
  {
   "cell_type": "code",
   "execution_count": null,
   "id": "19dd1f6d-eaae-4220-8d12-9ccd481fa126",
   "metadata": {},
   "outputs": [],
   "source": [
    "Expression_pc_df"
   ]
  },
  {
   "cell_type": "code",
   "execution_count": null,
   "id": "206b8e52-501d-4e05-96c7-fce7b09fd7cc",
   "metadata": {},
   "outputs": [],
   "source": []
  }
 ],
 "metadata": {
  "kernelspec": {
   "display_name": "HX_basic",
   "language": "python",
   "name": "hx_basic"
  },
  "language_info": {
   "codemirror_mode": {
    "name": "ipython",
    "version": 3
   },
   "file_extension": ".py",
   "mimetype": "text/x-python",
   "name": "python",
   "nbconvert_exporter": "python",
   "pygments_lexer": "ipython3",
   "version": "3.10.0"
  }
 },
 "nbformat": 4,
 "nbformat_minor": 5
}
