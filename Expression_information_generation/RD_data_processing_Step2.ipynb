{
 "cells": [
  {
   "cell_type": "code",
   "execution_count": 1,
   "id": "5810c1d1-b816-43e4-8a72-ae77b5641c5b",
   "metadata": {},
   "outputs": [],
   "source": [
    "# This module is for comparing expression of random promoters to negative and positive control"
   ]
  },
  {
   "cell_type": "code",
   "execution_count": 2,
   "id": "b87bc57f-f050-42f9-9868-eb12ef16ae6f",
   "metadata": {},
   "outputs": [],
   "source": [
    "import pandas as pd\n",
    "import scipy.stats\n",
    "import numpy as np\n",
    "import statsmodels.stats.multitest as STM\n",
    "import math\n",
    "import copy\n",
    "import statistics as ST"
   ]
  },
  {
   "cell_type": "markdown",
   "id": "5306a660-90aa-4bd9-8117-37123b21a93b",
   "metadata": {},
   "source": [
    "## 0. Functions"
   ]
  },
  {
   "cell_type": "code",
   "execution_count": 3,
   "id": "89658b1f-c950-4aa3-9db4-bd10ec18b245",
   "metadata": {},
   "outputs": [],
   "source": [
    "def all_present_total_new(input_df,cutoff_DNA,cutoff_RNA,count_type):\n",
    "    # count_type specify I am using absolute or relative count as a cutoff\n",
    "    if count_type == 'absolute':\n",
    "        temp_df=input_df[(input_df['DNA_absolute_count_S1']>=cutoff_DNA)&\n",
    "                         (input_df['DNA_absolute_count_S2']>=cutoff_DNA)&\n",
    "                         (input_df['DNA_absolute_count_S3']>=cutoff_DNA)&\n",
    "                         (input_df['RNA_absolute_count_S1']>=cutoff_RNA)&\n",
    "                         (input_df['RNA_absolute_count_S2']>=cutoff_RNA)&\n",
    "                         (input_df['RNA_absolute_count_S3']>=cutoff_RNA)]\n",
    "    else:\n",
    "        temp_df=input_df[(input_df['DNA_relative_count_S1']>=cutoff_DNA)&\n",
    "                         (input_df['DNA_relative_count_S2']>=cutoff_DNA)&\n",
    "                         (input_df['DNA_relative_count_S3']>=cutoff_DNA)&\n",
    "                         (input_df['RNA_relative_count_S1']>=cutoff_RNA)&\n",
    "                         (input_df['RNA_relative_count_S2']>=cutoff_RNA)&\n",
    "                         (input_df['RNA_relative_count_S3']>=cutoff_RNA)]\n",
    "    return(temp_df)"
   ]
  },
  {
   "cell_type": "code",
   "execution_count": 4,
   "id": "659b9e8c-fba9-46fe-bf0a-9119d153fe41",
   "metadata": {},
   "outputs": [],
   "source": [
    "def summarize_expression_RD_median_new(input_df, cutoff_list_DNA,cutoff_list_RNA,percentile_list,input_fdr,\n",
    "                                        pc_df, nc_df,conversion_factor,trait_of_interest,count_type):\n",
    "    # I need to specify both DNA and RNA cutoff\n",
    "    # this version also compare expression to different percentile of positive control\n",
    "    total_barcode_t,sig_worse_than_pc,sig_worse_than_nc,sig_worse_than_pc_ratio,sig_worse_than_nc_ratio=[],[],[],[],[]\n",
    "    sig_better_than_pc,sig_better_than_nc,sig_better_than_pc_ratio,sig_better_than_nc_ratio=[],[],[],[]\n",
    "    \n",
    "    #list of barcode sequence with significant expression\n",
    "    \n",
    "    sig_better_than_pc_list, sig_worse_than_pc_list, sig_better_than_nc_list, sig_worse_than_nc_list = [], [], [], []\n",
    "    \n",
    "    # list of barcode under each cutoff\n",
    "    total_barcode_list = []\n",
    "    for temp_cut_D in cutoff_list_DNA: # cutoff_list_DNA is the list of cutoff for DNA \n",
    "        for temp_cut_R in cutoff_list_RNA:\n",
    "            # filter the data according to read count for DNA.\n",
    "            test_df =all_present_total_new(input_df,temp_cut_D,temp_cut_R,count_type)\n",
    "            \n",
    "            # total number of unique barcode\n",
    "            temp_total=test_df.shape[0]\n",
    "            total_barcode_t.append(temp_total)\n",
    "            \n",
    "            temp = np.tile(test_df[trait_of_interest].tolist(),(pc_df.shape[0],1)).transpose()*conversion_factor/pc_df[trait_of_interest].tolist()\n",
    "            temp_pc_fold_matrix = np.array(temp).transpose()\n",
    "            \n",
    "            temp = np.tile(test_df[trait_of_interest].tolist(),(nc_df.shape[0],1)).transpose()/nc_df[trait_of_interest].tolist()\n",
    "            temp_nc_fold_matrix = np.array(temp).transpose()\n",
    "            #nc control\n",
    "\n",
    "            #t test \n",
    "            temp_t_test = scipy.stats.ttest_1samp(temp_nc_fold_matrix,1)\n",
    "            temp_nc_statistic = temp_t_test.statistic\n",
    "            temp_nc_pvalue= temp_t_test.pvalue        \n",
    "\n",
    "            #FDR correction\n",
    "            temp_nc_pvalue_adjusted=STM.multipletests(temp_nc_pvalue,alpha=input_fdr,method='fdr_bh')[0]\n",
    "            temp_sig1 = temp_nc_pvalue_adjusted&(temp_nc_statistic<0) #the number of barcode that has significantly lower expression than negative control\n",
    "            temp_sig_worse_nc_number=sum(temp_sig1) \n",
    "            temp_sig_worse_nc_list = list(test_df[temp_sig1].index)\n",
    "            temp_sig2 = temp_nc_pvalue_adjusted&(temp_nc_statistic>0) #the number of barcode that has significantly higher expression than negative control\n",
    "            temp_sig_better_nc_number=sum(temp_sig2)\n",
    "            temp_sig_better_nc_list = list(test_df[temp_sig2].index)\n",
    "\n",
    "            for temp_p in percentile_list:\n",
    "            #pc control\n",
    "                #using temp_p percentile of PC is equal to fold expression/temp_p\n",
    "                temp_t_test = scipy.stats.ttest_1samp(temp_pc_fold_matrix/temp_p,1)\n",
    "                temp_pc_statistic = temp_t_test.statistic\n",
    "                temp_pc_pvalue= temp_t_test.pvalue\n",
    "\n",
    "\n",
    "\n",
    "                # FDR correctiojn\n",
    "                temp_pc_pvalue_adjusted=STM.multipletests(temp_pc_pvalue,alpha=input_fdr,method='fdr_bh')[0]\n",
    "                temp_sig3 = temp_pc_pvalue_adjusted&(temp_pc_statistic<0)#the number of barcode that has significantly lower expression than positive control\n",
    "                temp_sig_worse_pc_number=sum(temp_sig3) \n",
    "                temp_sig_worse_pc_list = list(test_df[temp_sig3].index)\n",
    "                temp_sig4 = temp_pc_pvalue_adjusted&(temp_pc_statistic>0) #the number of barcode that has significantly higher expression than postive control\n",
    "                temp_sig_better_pc_number=sum(temp_sig4)\n",
    "                temp_sig_better_pc_list = list(test_df[temp_sig4].index)\n",
    "\n",
    "                sig_worse_than_pc.append(temp_sig_worse_pc_number)\n",
    "                sig_worse_than_pc_list.append(temp_sig_worse_pc_list)\n",
    "                sig_worse_than_nc.append(temp_sig_worse_nc_number)\n",
    "                sig_worse_than_nc_list.append(temp_sig_worse_nc_list)\n",
    "                sig_better_than_pc.append(temp_sig_better_pc_number)\n",
    "                sig_better_than_pc_list.append(temp_sig_better_pc_list)\n",
    "                sig_better_than_nc.append(temp_sig_better_nc_number)\n",
    "                sig_better_than_nc_list.append(temp_sig_better_nc_list)\n",
    "                sig_worse_than_pc_ratio.append(temp_sig_worse_pc_number/temp_total)\n",
    "                sig_worse_than_nc_ratio.append(temp_sig_worse_nc_number/temp_total)\n",
    "                sig_better_than_pc_ratio.append(temp_sig_better_pc_number/temp_total)\n",
    "                sig_better_than_nc_ratio.append(temp_sig_better_nc_number/temp_total)\n",
    "                total_barcode_list.append(list(test_df.index))\n",
    "    temp_df=pd.DataFrame({'DNA_cut_off':np.repeat(cutoff_list_DNA,len(percentile_list)*len(cutoff_list_RNA),axis=0),\n",
    "                          'RNA_cut_off':list(np.repeat(cutoff_list_RNA,len(percentile_list),axis=0))*len(cutoff_list_DNA),\n",
    "                          'Total_barcode':np.repeat(total_barcode_t,len(percentile_list),axis=0),\n",
    "                          'Percentile_of_PC':percentile_list*(len(cutoff_list_DNA)*len(cutoff_list_RNA)),\n",
    "                          'barcode_list': total_barcode_list,\n",
    "                          'barcode_better_than_pc':sig_better_than_pc,'better_than_pc_ratio':sig_better_than_pc_ratio,\n",
    "                          'barcode_better_than_pc_list':sig_better_than_pc_list,\n",
    "                          'barcode_better_than_nc':sig_better_than_nc,'better_than_nc_ratio':sig_better_than_nc_ratio,\n",
    "                          'barcode_better_than_nc_list':sig_better_than_nc_list,\n",
    "                          'barcode_worse_than_pc':sig_worse_than_pc,'worse_than_pc_ratio':sig_worse_than_pc_ratio,\n",
    "                          'barcode_worse_than_pc_list':sig_worse_than_pc_list,\n",
    "                          'barcode_worse_than_nc':sig_worse_than_nc,'worse_than_nc_ratio':sig_worse_than_nc_ratio,\n",
    "                          'barcode_worse_than_nc_list':sig_worse_than_nc_list,})\n",
    "    return(temp_df)"
   ]
  },
  {
   "cell_type": "markdown",
   "id": "69103324-72cf-4bb5-9aeb-2b1e9876b1dd",
   "metadata": {},
   "source": [
    "-----"
   ]
  },
  {
   "cell_type": "markdown",
   "id": "86f7ca59-ff66-46ed-965d-f280f74d7067",
   "metadata": {},
   "source": [
    "## 1. Input and Output"
   ]
  },
  {
   "cell_type": "markdown",
   "id": "a285a095-8373-4b66-aa04-8c006292043c",
   "metadata": {},
   "source": [
    "### 1.1 Input address"
   ]
  },
  {
   "cell_type": "code",
   "execution_count": 5,
   "id": "9ebe52f5-1aba-4f2f-9686-820529f9d880",
   "metadata": {},
   "outputs": [],
   "source": [
    "dr1='Data/'\n",
    "Total_linkage_resolved_address=dr1+'Linkage_barcode_promoter_combined_Summary'#This let me the linkage information between barcode and promoter. No conflict \n",
    "# YPD expression info\n",
    "YPD_expression_address=dr1+'YPD_RD_expression_total.csv'\n",
    "YPD_pc_address=dr1+'YPD_PC_expression.csv'\n",
    "YPD_nc_address=dr1+'YPD_NC_expression.csv'\n",
    "# SCD expression info\n",
    "SCD_expression_address=dr1+'SCD_RD_expression_total.csv'\n",
    "SCD_pc_address=dr1+'SCD_PC_expression.csv'\n",
    "SCD_nc_address=dr1+'SCD_NC_expression.csv'"
   ]
  },
  {
   "cell_type": "markdown",
   "id": "1df0b5de-6567-4a26-95a2-b00a8950cdbc",
   "metadata": {},
   "source": [
    "-----"
   ]
  },
  {
   "cell_type": "markdown",
   "id": "7feb4954-ab19-4ae5-8bb9-9ce5fb9c1ec7",
   "metadata": {},
   "source": [
    "## 2 Read data"
   ]
  },
  {
   "cell_type": "markdown",
   "id": "5c33642b-376f-42b5-a352-3568a2201c33",
   "metadata": {
    "tags": []
   },
   "source": [
    "### 2.1 YPD "
   ]
  },
  {
   "cell_type": "markdown",
   "id": "f2abdcb7-7ac8-44df-a8e7-060fabb37153",
   "metadata": {},
   "source": [
    "#### 2.1.1 Control expression"
   ]
  },
  {
   "cell_type": "code",
   "execution_count": 6,
   "id": "4caa2bd3-a364-420b-856f-c0e1ec5be2cc",
   "metadata": {},
   "outputs": [],
   "source": [
    "YPD_expression_pc=pd.read_csv(YPD_pc_address)\n",
    "YPD_expression_nc=pd.read_csv(YPD_nc_address)"
   ]
  },
  {
   "cell_type": "markdown",
   "id": "a71528da-6d81-47e1-8268-07cc966d4460",
   "metadata": {},
   "source": [
    "#### 2.1.2 Random promoter expression"
   ]
  },
  {
   "cell_type": "code",
   "execution_count": 7,
   "id": "666e63e2-0138-4281-87df-3410aa1895e0",
   "metadata": {},
   "outputs": [],
   "source": [
    "YPD_expression_f = pd.read_csv(YPD_expression_address)"
   ]
  },
  {
   "cell_type": "markdown",
   "id": "9cd043d2-3be4-4e27-b342-9b27bbd460b5",
   "metadata": {
    "tags": []
   },
   "source": [
    "### 2.2 SCD "
   ]
  },
  {
   "cell_type": "markdown",
   "id": "293568ed-fbbb-431d-a7ed-f98a1572d726",
   "metadata": {},
   "source": [
    "#### 2.2.1 Control expression"
   ]
  },
  {
   "cell_type": "code",
   "execution_count": 8,
   "id": "b7fff381-a674-4aca-a1bf-bb34002da6d8",
   "metadata": {},
   "outputs": [],
   "source": [
    "SCD_expression_pc=pd.read_csv(SCD_pc_address)\n",
    "SCD_expression_nc=pd.read_csv(SCD_nc_address)"
   ]
  },
  {
   "cell_type": "markdown",
   "id": "3bba82be-ffdf-4d75-8379-8d4b445f458e",
   "metadata": {},
   "source": [
    "#### 2.2.2 Random promoter expression"
   ]
  },
  {
   "cell_type": "code",
   "execution_count": 9,
   "id": "498f7857-964c-490d-81c4-ab56772bb0ac",
   "metadata": {},
   "outputs": [],
   "source": [
    "SCD_expression_f = pd.read_csv(SCD_expression_address)"
   ]
  },
  {
   "cell_type": "markdown",
   "id": "3c0d3827-45bd-4e5e-a646-3c1c108dd7f4",
   "metadata": {},
   "source": [
    "----"
   ]
  },
  {
   "cell_type": "markdown",
   "id": "ff565b0c-bb2a-4d5f-a215-77d7b5d77c9f",
   "metadata": {},
   "source": [
    "## 3 Random promoter expression comparing to different control"
   ]
  },
  {
   "cell_type": "markdown",
   "id": "d4166a71-aa58-4a78-b29c-a6beea722218",
   "metadata": {},
   "source": [
    "### 3.1 YPD"
   ]
  },
  {
   "cell_type": "markdown",
   "id": "1c876516-a670-4e78-a375-177de00809e2",
   "metadata": {},
   "source": [
    "#### 3.1.1 Using different DNA cutoff"
   ]
  },
  {
   "cell_type": "code",
   "execution_count": 10,
   "id": "2a8f6575-f3bd-4299-9dd3-601c2417eed4",
   "metadata": {},
   "outputs": [],
   "source": [
    "YPD_expression_f = YPD_expression_f.set_index('representative_sequence')"
   ]
  },
  {
   "cell_type": "code",
   "execution_count": 11,
   "id": "76e253fa-f7b1-488f-bbe0-b71230a03823",
   "metadata": {},
   "outputs": [],
   "source": [
    "# Total normalized relative expression\n",
    "YPD_RD_summary= summarize_expression_RD_median_new(YPD_expression_f,\n",
    "                                                      [1,5,10,20,50,100,200,400],[0],\n",
    "                                                      list(np.linspace(1,10,10)/10),0.05,\n",
    "                                                      YPD_expression_pc,YPD_expression_nc,1.906,'expression_normalized','absolute')"
   ]
  },
  {
   "cell_type": "code",
   "execution_count": 12,
   "id": "7019158b-28d6-4f65-9c79-2aab7595528e",
   "metadata": {},
   "outputs": [],
   "source": [
    "# relative size for individual sample using the same data filter as the above one \n",
    "YPD_RD_summary_S1= summarize_expression_RD_median_new(YPD_expression_f,\n",
    "                                                      [1,5,10,20,50,100,200,400],[0],\n",
    "                                                      list(np.linspace(1,10,10)/10),0.05,\n",
    "                                                      YPD_expression_pc,YPD_expression_nc,1.906,'S1_normalized_relative','absolute')\n",
    "YPD_RD_summary_S2= summarize_expression_RD_median_new(YPD_expression_f,\n",
    "                                                      [1,5,10,20,50,100,200,400],[0],\n",
    "                                                      list(np.linspace(1,10,10)/10),0.05,\n",
    "                                                      YPD_expression_pc,YPD_expression_nc,1.906,'S2_normalized_relative','absolute')\n",
    "YPD_RD_summary_S3= summarize_expression_RD_median_new(YPD_expression_f,\n",
    "                                                      [1,5,10,20,50,100,200,400],[0],\n",
    "                                                      list(np.linspace(1,10,10)/10),0.05,\n",
    "                                                      YPD_expression_pc,YPD_expression_nc,1.906,'S3_normalized_relative','absolute')"
   ]
  },
  {
   "cell_type": "markdown",
   "id": "0d9bcff1-f321-41a7-ab92-ffa67d40339c",
   "metadata": {},
   "source": [
    "#### 5.1.2 Comparing to different percentile of controls"
   ]
  },
  {
   "cell_type": "code",
   "execution_count": 13,
   "id": "0a904973-702b-4b10-af34-6df9843f66f7",
   "metadata": {},
   "outputs": [],
   "source": [
    "test_range = list(np.linspace(0.5,20,40)/10)"
   ]
  },
  {
   "cell_type": "code",
   "execution_count": 14,
   "id": "c7027149-b1ee-4cd8-836a-d2fde4e1707f",
   "metadata": {},
   "outputs": [],
   "source": [
    "\n",
    "# relative size for individual sample using the same data filter as the above one \n",
    "\n",
    "YPD_RD_summary_extra= summarize_expression_RD_median_new(YPD_expression_f,\n",
    "                                                      [100],[0],\n",
    "                                                      test_range,0.05,\n",
    "                                                      YPD_expression_pc,YPD_expression_nc,1.906,'expression_normalized','absolute')\n",
    "YPD_RD_summary_S1_extra= summarize_expression_RD_median_new(YPD_expression_f,\n",
    "                                                      [100],[0],\n",
    "                                                      test_range,0.05,\n",
    "                                                      YPD_expression_pc,YPD_expression_nc,1.906,'S1_normalized_relative','absolute')\n",
    "YPD_RD_summary_S2_extra= summarize_expression_RD_median_new(YPD_expression_f,\n",
    "                                                      [100],[0],\n",
    "                                                      test_range,0.05,\n",
    "                                                      YPD_expression_pc,YPD_expression_nc,1.906,'S2_normalized_relative','absolute')\n",
    "YPD_RD_summary_S3_extra= summarize_expression_RD_median_new(YPD_expression_f,\n",
    "                                                     [100],[0],\n",
    "                                                      test_range,0.05,\n",
    "                                                      YPD_expression_pc,YPD_expression_nc,1.906,'S3_normalized_relative','absolute')"
   ]
  },
  {
   "cell_type": "markdown",
   "id": "235d6d89-2fe7-4403-ba7b-e712575d60de",
   "metadata": {},
   "source": [
    "### 5.2 SCD"
   ]
  },
  {
   "cell_type": "markdown",
   "id": "2a9e7e6d-7aee-41fa-aaab-6669a8524e88",
   "metadata": {},
   "source": [
    "#### 5.2.1 Using different DNA cutoff"
   ]
  },
  {
   "cell_type": "code",
   "execution_count": 15,
   "id": "de81b7f7-3d06-4c64-86ca-7074ff6c6ed5",
   "metadata": {},
   "outputs": [],
   "source": [
    "SCD_expression_f = SCD_expression_f.set_index('representative_sequence')"
   ]
  },
  {
   "cell_type": "code",
   "execution_count": 16,
   "id": "e5d78427-54a1-4350-bf1d-f5266cfcbdba",
   "metadata": {},
   "outputs": [],
   "source": [
    "# Total normalized relative expression\n",
    "SCD_RD_summary= summarize_expression_RD_median_new(SCD_expression_f,\n",
    "                                                      [1,5,10,20,50,100,200,400],[0],\n",
    "                                                      list(np.linspace(1,10,10)/10),0.05,\n",
    "                                                      SCD_expression_pc,SCD_expression_nc,0.782,'expression_normalized','absolute')"
   ]
  },
  {
   "cell_type": "code",
   "execution_count": 17,
   "id": "45d8f720-644c-4dab-94f5-2ed39a4c9940",
   "metadata": {},
   "outputs": [],
   "source": [
    "# relative size for individual sample using the same data filter as the above one \n",
    "SCD_RD_summary_S1= summarize_expression_RD_median_new(SCD_expression_f,\n",
    "                                                      [1,5,10,20,50,100,200,400],[0],\n",
    "                                                      list(np.linspace(1,10,10)/10),0.05,\n",
    "                                                      SCD_expression_pc,SCD_expression_nc,0.782,'S1_normalized_relative','absolute')\n",
    "SCD_RD_summary_S2= summarize_expression_RD_median_new(SCD_expression_f,\n",
    "                                                      [1,5,10,20,50,100,200,400],[0],\n",
    "                                                      list(np.linspace(1,10,10)/10),0.05,\n",
    "                                                      SCD_expression_pc,SCD_expression_nc,0.782,'S2_normalized_relative','absolute')\n",
    "SCD_RD_summary_S3= summarize_expression_RD_median_new(SCD_expression_f,\n",
    "                                                      [1,5,10,20,50,100,200,400],[0],\n",
    "                                                      list(np.linspace(1,10,10)/10),0.05,\n",
    "                                                      SCD_expression_pc,SCD_expression_nc,0.782,'S3_normalized_relative','absolute')"
   ]
  },
  {
   "cell_type": "markdown",
   "id": "9dcd6235-baa9-440f-8ac0-faeae26c2128",
   "metadata": {},
   "source": [
    "#### 5.2.2 Comparing to different percentile of controls"
   ]
  },
  {
   "cell_type": "code",
   "execution_count": 18,
   "id": "c2cf1c9d-907a-454a-bb8e-4ed6610790a2",
   "metadata": {},
   "outputs": [],
   "source": [
    "test_range = list(np.linspace(0.5,20,40)/10)"
   ]
  },
  {
   "cell_type": "code",
   "execution_count": 19,
   "id": "37878fda-c4b8-4843-ac05-876719c02225",
   "metadata": {},
   "outputs": [],
   "source": [
    "\n",
    "# relative size for individual sample using the same data filter as the above one \n",
    "\n",
    "SCD_RD_summary_extra= summarize_expression_RD_median_new(SCD_expression_f,\n",
    "                                                      [100],[0],\n",
    "                                                      test_range,0.05,\n",
    "                                                      SCD_expression_pc,SCD_expression_nc,0.782,'expression_normalized','absolute')\n",
    "SCD_RD_summary_S1_extra= summarize_expression_RD_median_new(SCD_expression_f,\n",
    "                                                      [100],[0],\n",
    "                                                      test_range,0.05,\n",
    "                                                      SCD_expression_pc,SCD_expression_nc,0.782,'S1_normalized_relative','absolute')\n",
    "SCD_RD_summary_S2_extra= summarize_expression_RD_median_new(SCD_expression_f,\n",
    "                                                      [100],[0],\n",
    "                                                      test_range,0.05,\n",
    "                                                      SCD_expression_pc,SCD_expression_nc,0.782,'S2_normalized_relative','absolute')\n",
    "SCD_RD_summary_S3_extra= summarize_expression_RD_median_new(SCD_expression_f,\n",
    "                                                     [100],[0],\n",
    "                                                      test_range,0.05,\n",
    "                                                      SCD_expression_pc,SCD_expression_nc,0.782,'S3_normalized_relative','absolute')"
   ]
  },
  {
   "cell_type": "markdown",
   "id": "255b00c2-8cad-4627-9048-5bc8686f8bbb",
   "metadata": {},
   "source": [
    "### 5.3 Output"
   ]
  },
  {
   "cell_type": "code",
   "execution_count": 20,
   "id": "3d2de885-2946-4796-a665-85e96df7143f",
   "metadata": {},
   "outputs": [],
   "source": [
    "YPD_RD_summary.to_csv(\n",
    "    dr1 + 'YPD_RD_summary_median_total_dna_cutoff_extra.csv',index = False)"
   ]
  },
  {
   "cell_type": "code",
   "execution_count": 21,
   "id": "2b8530c0-3fb8-4a4e-9177-48cddfda84b4",
   "metadata": {},
   "outputs": [],
   "source": [
    "YPD_RD_summary_S1.drop(columns =['barcode_list','barcode_better_than_pc_list','barcode_better_than_nc_list'\n",
    "                                 ,'barcode_worse_than_pc_list','barcode_worse_than_nc_list']).to_csv(\n",
    "    dr1 + 'YPD_RD_summary_median_S1_dna_cutoff_extra.csv',index = False)"
   ]
  },
  {
   "cell_type": "code",
   "execution_count": 22,
   "id": "40130b12-52c7-4aa0-bf45-fdd3f1f65b88",
   "metadata": {},
   "outputs": [],
   "source": [
    "YPD_RD_summary_S2.drop(columns =['barcode_list','barcode_better_than_pc_list','barcode_better_than_nc_list'\n",
    "                                 ,'barcode_worse_than_pc_list','barcode_worse_than_nc_list']).to_csv(\n",
    "    dr1 + 'YPD_RD_summary_median_S2_dna_cutoff_extra.csv',index = False)"
   ]
  },
  {
   "cell_type": "code",
   "execution_count": 23,
   "id": "4aedc5dc-99a5-4710-85ec-cc9bcacf28e6",
   "metadata": {},
   "outputs": [],
   "source": [
    "YPD_RD_summary_S3.drop(columns =['barcode_list','barcode_better_than_pc_list','barcode_better_than_nc_list'\n",
    "                                 ,'barcode_worse_than_pc_list','barcode_worse_than_nc_list']).to_csv(\n",
    "    dr1 + 'YPD_RD_summary_median_S3_dna_cutoff_extra.csv',index = False)"
   ]
  },
  {
   "cell_type": "code",
   "execution_count": 24,
   "id": "112afae9-fcf6-4c6d-aeaf-6e768b1f8b0b",
   "metadata": {},
   "outputs": [],
   "source": [
    "YPD_RD_summary_extra.to_csv(dr1 + 'YPD_RD_summary_median_total_extra.csv',index = False)"
   ]
  },
  {
   "cell_type": "code",
   "execution_count": 25,
   "id": "18122619-d2f0-4516-a8f5-9b9ca2edd799",
   "metadata": {},
   "outputs": [],
   "source": [
    "YPD_RD_summary_S1_extra.drop(columns =['barcode_list','barcode_better_than_pc_list','barcode_better_than_nc_list'\n",
    "                                 ,'barcode_worse_than_pc_list','barcode_worse_than_nc_list']).to_csv(dr1 + 'YPD_RD_summary_median_S1_extra.csv',index = False)\n",
    "YPD_RD_summary_S2_extra.drop(columns =['barcode_list','barcode_better_than_pc_list','barcode_better_than_nc_list'\n",
    "                                 ,'barcode_worse_than_pc_list','barcode_worse_than_nc_list']).to_csv(dr1 + 'YPD_RD_summary_median_S2_extra.csv',index = False)\n",
    "YPD_RD_summary_S3_extra.drop(columns =['barcode_list','barcode_better_than_pc_list','barcode_better_than_nc_list'\n",
    "                                 ,'barcode_worse_than_pc_list','barcode_worse_than_nc_list']).to_csv(dr1 + 'YPD_RD_summary_median_S3_extra.csv',index = False)"
   ]
  },
  {
   "cell_type": "code",
   "execution_count": 26,
   "id": "88f554ca-4f8b-466b-9b9f-1fa228ad6edb",
   "metadata": {
    "tags": []
   },
   "outputs": [],
   "source": [
    "SCD_RD_summary.to_csv(\n",
    "    dr1 + 'SCD_RD_summary_median_total_dna_cutoff_extra.csv',index = False)"
   ]
  },
  {
   "cell_type": "code",
   "execution_count": 27,
   "id": "5fa41262-510d-43a5-82ff-99bdf5041886",
   "metadata": {},
   "outputs": [],
   "source": [
    "SCD_RD_summary_S1.drop(columns =['barcode_list','barcode_better_than_pc_list','barcode_better_than_nc_list'\n",
    "                                 ,'barcode_worse_than_pc_list','barcode_worse_than_nc_list']).to_csv(\n",
    "    dr1 + 'SCD_RD_summary_median_S1_dna_cutoff_extra.csv',index = False)"
   ]
  },
  {
   "cell_type": "code",
   "execution_count": 28,
   "id": "cbb31544-a1f8-4727-8710-b75b12660dcc",
   "metadata": {},
   "outputs": [],
   "source": [
    "SCD_RD_summary_S2.drop(columns =['barcode_list','barcode_better_than_pc_list','barcode_better_than_nc_list'\n",
    "                                 ,'barcode_worse_than_pc_list','barcode_worse_than_nc_list']).to_csv(\n",
    "    dr1 + 'SCD_RD_summary_median_S2_dna_cutoff_extra.csv',index = False)"
   ]
  },
  {
   "cell_type": "code",
   "execution_count": 29,
   "id": "4158b73f-e188-4026-9b55-328b7a58bbf4",
   "metadata": {},
   "outputs": [],
   "source": [
    "SCD_RD_summary_S3.drop(columns =['barcode_list','barcode_better_than_pc_list','barcode_better_than_nc_list'\n",
    "                                 ,'barcode_worse_than_pc_list','barcode_worse_than_nc_list']).to_csv(\n",
    "    dr1 + 'SCD_RD_summary_median_S3_dna_cutoff_extra.csv',index = False)"
   ]
  },
  {
   "cell_type": "code",
   "execution_count": 30,
   "id": "b7f60b04-f895-4ec3-9fcd-7cf63066afa7",
   "metadata": {},
   "outputs": [],
   "source": [
    "SCD_RD_summary_extra.to_csv(dr1 + 'SCD_RD_summary_median_total_extra.csv',index = False)"
   ]
  },
  {
   "cell_type": "code",
   "execution_count": 31,
   "id": "aff6181c-9466-416f-9735-e021a6bf22e3",
   "metadata": {},
   "outputs": [],
   "source": [
    "SCD_RD_summary_S1_extra.drop(columns =['barcode_list','barcode_better_than_pc_list','barcode_better_than_nc_list'\n",
    "                                 ,'barcode_worse_than_pc_list','barcode_worse_than_nc_list']).to_csv(dr1 + 'SCD_RD_summary_median_S1_extra.csv',index = False)\n",
    "SCD_RD_summary_S2_extra.drop(columns =['barcode_list','barcode_better_than_pc_list','barcode_better_than_nc_list'\n",
    "                                 ,'barcode_worse_than_pc_list','barcode_worse_than_nc_list']).to_csv(dr1 + 'SCD_RD_summary_median_S2_extra.csv',index = False)\n",
    "SCD_RD_summary_S3_extra.drop(columns =['barcode_list','barcode_better_than_pc_list','barcode_better_than_nc_list'\n",
    "                                 ,'barcode_worse_than_pc_list','barcode_worse_than_nc_list']).to_csv(dr1 + 'SCD_RD_summary_median_S3_extra.csv',index = False)"
   ]
  },
  {
   "cell_type": "code",
   "execution_count": null,
   "id": "8d5fef87-5c4c-4725-a131-e24be1130fb8",
   "metadata": {},
   "outputs": [],
   "source": []
  },
  {
   "cell_type": "markdown",
   "id": "69089339-3400-494b-8f3d-343036efe55a",
   "metadata": {},
   "source": [
    "## 6 Shared promoters across method"
   ]
  },
  {
   "cell_type": "markdown",
   "id": "6c343013-5e3a-4958-84f5-841d9d89417b",
   "metadata": {},
   "source": [
    "### 6.1 YPD"
   ]
  },
  {
   "cell_type": "code",
   "execution_count": 32,
   "id": "9f80b4ea-1046-4a59-a076-df677dee1306",
   "metadata": {},
   "outputs": [],
   "source": [
    "temp_input_0 = YPD_RD_summary\n",
    "temp_input_1 = YPD_RD_summary_S1\n",
    "temp_input_2 = YPD_RD_summary_S2\n",
    "temp_input_3 = YPD_RD_summary_S3"
   ]
  },
  {
   "cell_type": "code",
   "execution_count": 33,
   "id": "a70caf1a-a450-490e-9dc0-3135871c1365",
   "metadata": {},
   "outputs": [],
   "source": [
    "temp_out_ad1 = dr1 + 'ACRF_random_promoter_summary_YPD.csv'\n",
    "temp_out_ad2 = dr1 + 'ACRF_random_promoter_shared_more_than_pc_YPD.csv'\n",
    "temp_out_ad3 = dr1 + 'ACRF_random_promoter_shared_more_than_nc_YPD.csv'"
   ]
  },
  {
   "cell_type": "code",
   "execution_count": 34,
   "id": "c2c3c1c0-1218-41c9-9c46-45a9bec212ce",
   "metadata": {},
   "outputs": [],
   "source": [
    "temp = temp_input_0\n",
    "temp = copy.deepcopy(temp)\n",
    "temp['Method'] = ['Total_expression']*temp.shape[0]\n",
    "\n",
    "temp_s_df = temp\n",
    "\n",
    "temp = copy.deepcopy(temp_input_1)\n",
    "\n",
    "temp['Method'] = ['S1']*temp.shape[0]\n",
    "temp_s_df = pd.concat([temp_s_df.reset_index(drop = True),temp.reset_index(drop = True)])\n",
    "\n",
    "temp = copy.deepcopy(temp_input_2)\n",
    "\n",
    "temp['Method'] = ['S2']*temp.shape[0]\n",
    "temp_s_df = pd.concat([temp_s_df.reset_index(drop = True),temp.reset_index(drop = True)])\n",
    "\n",
    "temp = copy.deepcopy(temp_input_3)\n",
    "\n",
    "temp['Method'] = ['S3']*temp.shape[0]\n",
    "temp_s_df = pd.concat([temp_s_df.reset_index(drop = True),temp.reset_index(drop = True)])"
   ]
  },
  {
   "cell_type": "code",
   "execution_count": 35,
   "id": "3228131d-acf0-4174-a639-11e55a37a00a",
   "metadata": {},
   "outputs": [],
   "source": [
    "temp_s_df = temp_s_df.reset_index(drop = True)"
   ]
  },
  {
   "cell_type": "code",
   "execution_count": 36,
   "id": "5588cac4-8eba-459c-9cfd-37176293c631",
   "metadata": {},
   "outputs": [],
   "source": [
    "temp_traits2= ['Method','DNA_cut_off','Total_barcode',\n",
    "               'better_than_pc_ratio','better_than_nc_ratio',\n",
    "              'worse_than_pc_ratio','worse_than_nc_ratio',\n",
    "               'barcode_better_than_pc','barcode_better_than_nc',\n",
    "              'barcode_worse_than_pc','barcode_worse_than_nc']"
   ]
  },
  {
   "cell_type": "code",
   "execution_count": 37,
   "id": "3345a7e9-2e14-4526-a499-492e886c43fb",
   "metadata": {},
   "outputs": [
    {
     "data": {
      "text/html": [
       "<div>\n",
       "<style scoped>\n",
       "    .dataframe tbody tr th:only-of-type {\n",
       "        vertical-align: middle;\n",
       "    }\n",
       "\n",
       "    .dataframe tbody tr th {\n",
       "        vertical-align: top;\n",
       "    }\n",
       "\n",
       "    .dataframe thead th {\n",
       "        text-align: right;\n",
       "    }\n",
       "</style>\n",
       "<table border=\"1\" class=\"dataframe\">\n",
       "  <thead>\n",
       "    <tr style=\"text-align: right;\">\n",
       "      <th></th>\n",
       "      <th>Method</th>\n",
       "      <th>DNA_cut_off</th>\n",
       "      <th>Total_barcode</th>\n",
       "      <th>better_than_pc_ratio</th>\n",
       "      <th>better_than_nc_ratio</th>\n",
       "      <th>worse_than_pc_ratio</th>\n",
       "      <th>worse_than_nc_ratio</th>\n",
       "      <th>barcode_better_than_pc</th>\n",
       "      <th>barcode_better_than_nc</th>\n",
       "      <th>barcode_worse_than_pc</th>\n",
       "      <th>barcode_worse_than_nc</th>\n",
       "    </tr>\n",
       "  </thead>\n",
       "  <tbody>\n",
       "    <tr>\n",
       "      <th>59</th>\n",
       "      <td>Total_expression</td>\n",
       "      <td>100</td>\n",
       "      <td>49169</td>\n",
       "      <td>0.000244</td>\n",
       "      <td>0.632065</td>\n",
       "      <td>0.999349</td>\n",
       "      <td>0.253290</td>\n",
       "      <td>12</td>\n",
       "      <td>31078</td>\n",
       "      <td>49137</td>\n",
       "      <td>12454</td>\n",
       "    </tr>\n",
       "    <tr>\n",
       "      <th>139</th>\n",
       "      <td>S1</td>\n",
       "      <td>100</td>\n",
       "      <td>49169</td>\n",
       "      <td>0.000488</td>\n",
       "      <td>0.490878</td>\n",
       "      <td>0.997905</td>\n",
       "      <td>0.430739</td>\n",
       "      <td>24</td>\n",
       "      <td>24136</td>\n",
       "      <td>49066</td>\n",
       "      <td>21179</td>\n",
       "    </tr>\n",
       "    <tr>\n",
       "      <th>219</th>\n",
       "      <td>S2</td>\n",
       "      <td>100</td>\n",
       "      <td>49169</td>\n",
       "      <td>0.001912</td>\n",
       "      <td>0.621082</td>\n",
       "      <td>0.996197</td>\n",
       "      <td>0.313734</td>\n",
       "      <td>94</td>\n",
       "      <td>30538</td>\n",
       "      <td>48982</td>\n",
       "      <td>15426</td>\n",
       "    </tr>\n",
       "    <tr>\n",
       "      <th>299</th>\n",
       "      <td>S3</td>\n",
       "      <td>100</td>\n",
       "      <td>49169</td>\n",
       "      <td>0.000346</td>\n",
       "      <td>0.510403</td>\n",
       "      <td>0.999471</td>\n",
       "      <td>0.359088</td>\n",
       "      <td>17</td>\n",
       "      <td>25096</td>\n",
       "      <td>49143</td>\n",
       "      <td>17656</td>\n",
       "    </tr>\n",
       "  </tbody>\n",
       "</table>\n",
       "</div>"
      ],
      "text/plain": [
       "               Method  DNA_cut_off  Total_barcode  better_than_pc_ratio  \\\n",
       "59   Total_expression          100          49169              0.000244   \n",
       "139                S1          100          49169              0.000488   \n",
       "219                S2          100          49169              0.001912   \n",
       "299                S3          100          49169              0.000346   \n",
       "\n",
       "     better_than_nc_ratio  worse_than_pc_ratio  worse_than_nc_ratio  \\\n",
       "59               0.632065             0.999349             0.253290   \n",
       "139              0.490878             0.997905             0.430739   \n",
       "219              0.621082             0.996197             0.313734   \n",
       "299              0.510403             0.999471             0.359088   \n",
       "\n",
       "     barcode_better_than_pc  barcode_better_than_nc  barcode_worse_than_pc  \\\n",
       "59                       12                   31078                  49137   \n",
       "139                      24                   24136                  49066   \n",
       "219                      94                   30538                  48982   \n",
       "299                      17                   25096                  49143   \n",
       "\n",
       "     barcode_worse_than_nc  \n",
       "59                   12454  \n",
       "139                  21179  \n",
       "219                  15426  \n",
       "299                  17656  "
      ]
     },
     "execution_count": 37,
     "metadata": {},
     "output_type": "execute_result"
    }
   ],
   "source": [
    "temp_percentile_cut = [1.0]\n",
    "temp_cut_DNA = [100]\n",
    "temp_cut_RNA = [0]\n",
    "temp_YPD_df = temp_s_df\n",
    "temp_o = temp_YPD_df[(temp_YPD_df['Percentile_of_PC'].isin(temp_percentile_cut))&(temp_YPD_df['RNA_cut_off'].isin(temp_cut_RNA))&(temp_YPD_df['DNA_cut_off'].isin(temp_cut_DNA))]\n",
    "temp_o[temp_traits2]"
   ]
  },
  {
   "cell_type": "markdown",
   "id": "5eb8c9b7-14b3-4cf2-9744-523dfe033800",
   "metadata": {},
   "source": [
    "* <font size=\"5\" color = 'Red'> They are similar to the total expression results</font>"
   ]
  },
  {
   "cell_type": "markdown",
   "id": "6bc4fc72-c2a7-45fc-9ff2-8ec506115757",
   "metadata": {},
   "source": [
    "#### 6.1.1 Shared fraction for PC"
   ]
  },
  {
   "cell_type": "code",
   "execution_count": 38,
   "id": "634cd8ab-d8d6-45c2-9f8c-531765df7782",
   "metadata": {},
   "outputs": [],
   "source": [
    "# compare to positive control"
   ]
  },
  {
   "cell_type": "code",
   "execution_count": 39,
   "id": "ebe65e00-ac75-49ad-a682-d6c7076af304",
   "metadata": {},
   "outputs": [],
   "source": [
    "temp_percentile_cut = 1.0\n",
    "temp_cut_DNA = 100\n",
    "temp_cut_RNA = 0\n",
    "temp_i = 'barcode_better_than_pc_list'\n",
    "temp_YPD_df = temp_input_0\n",
    "t0 = temp_YPD_df[(temp_YPD_df['Percentile_of_PC']==temp_percentile_cut)&(temp_YPD_df['RNA_cut_off']==temp_cut_RNA)&(temp_YPD_df['DNA_cut_off']==temp_cut_DNA)]\n",
    "temp_YPD_df = temp_input_1\n",
    "t1 = temp_YPD_df[(temp_YPD_df['Percentile_of_PC']==temp_percentile_cut)&(temp_YPD_df['RNA_cut_off']==temp_cut_RNA)&(temp_YPD_df['DNA_cut_off']==temp_cut_DNA)]\n",
    "temp_YPD_df = temp_input_2\n",
    "t2 = temp_YPD_df[(temp_YPD_df['Percentile_of_PC']==temp_percentile_cut)&(temp_YPD_df['RNA_cut_off']==temp_cut_RNA)&(temp_YPD_df['DNA_cut_off']==temp_cut_DNA)]\n",
    "temp_YPD_df = temp_input_3\n",
    "t3 = temp_YPD_df[(temp_YPD_df['Percentile_of_PC']==temp_percentile_cut)&(temp_YPD_df['RNA_cut_off']==temp_cut_RNA)&(temp_YPD_df['DNA_cut_off']==temp_cut_DNA)]\n",
    "\n",
    "# total barcode list\n",
    "temp_total_bc = list(set(t0[temp_i].values[0]))\n",
    "#print(len(temp_total_bc))\n",
    "\n",
    "temp_S1_bc = list(set(t1[temp_i].values[0]))\n",
    "#print(len(temp_S1_bc))\n",
    "\n",
    "temp_S2_bc = list(set(t2[temp_i].values[0]))\n",
    "#print(len(temp_S2_bc))\n",
    "\n",
    "temp_S3_bc = list(set(t3[temp_i].values[0]))\n",
    "#print(len(temp_S3_bc))\n",
    "#print('\\n')\n",
    "\n",
    "temp_S1_bc_o = set(temp_total_bc)&set(temp_S1_bc)\n",
    "#print(len(temp_S1_bc_o)/len(temp_S1_bc))\n",
    "#print(len(temp_S1_bc_o)/len(temp_total_bc))\n",
    "#print('\\n')\n",
    "temp_S2_bc_o = set(temp_total_bc)&set(temp_S2_bc)\n",
    "#print(len(temp_S2_bc_o)/len(temp_S2_bc))\n",
    "#print(len(temp_S2_bc_o)/len(temp_total_bc))\n",
    "#print('\\n')\n",
    "temp_S3_bc_o = set(temp_total_bc)&set(temp_S3_bc)\n",
    "#print(len(temp_S3_bc_o)/len(temp_S3_bc))\n",
    "#print(len(temp_S3_bc_o)/len(temp_total_bc))\n",
    "#print('\\n')\n",
    "\n",
    "#print(len(set(temp_S1_bc)&set(temp_S2_bc)&set(temp_S3_bc)))\n",
    "#print(len(set(temp_S1_bc)|set(temp_S2_bc)|set(temp_S3_bc))/t3['Total_barcode'].values[0]) # at most\n",
    "#print(len(set(temp_S1_bc)&set(temp_S2_bc)&set(temp_S3_bc))/t3['Total_barcode'].values[0]) # at least"
   ]
  },
  {
   "cell_type": "code",
   "execution_count": 40,
   "id": "1ddc8c85-2391-4361-b735-a151dc4bf298",
   "metadata": {},
   "outputs": [],
   "source": [
    "temp_shared_fraction_df_pc = pd.DataFrame({'Method':['S1','S2','S3'], # the method use to generate the summary \n",
    "                                          'Number_of_total_barcode':[len(temp_total_bc)]*3,\n",
    "                                          'Number_of_barcode':[len(temp_S1_bc),len(temp_S2_bc),len(temp_S3_bc)],\n",
    "                                          'Number_of_barcode_overlap_with_Total_method':[len(temp_S1_bc_o),len(temp_S2_bc_o),len(temp_S3_bc_o)],\n",
    "                                          'Number_of_overlap_among_IndividualMethod':[len(set(temp_S1_bc)&set(temp_S2_bc)&set(temp_S3_bc))]*3,})\n"
   ]
  },
  {
   "cell_type": "code",
   "execution_count": 41,
   "id": "faee0990-8d10-4a22-bd91-08b31a6e8ab2",
   "metadata": {},
   "outputs": [],
   "source": [
    "temp_shared_fraction_df_pc['Fraction_of_overlap_with_TotalMethod'] = temp_shared_fraction_df_pc['Number_of_barcode_overlap_with_Total_method']/temp_shared_fraction_df_pc['Number_of_barcode']\n",
    "temp_shared_fraction_df_pc['Fraction_TotalMethod_overlap_with'] = temp_shared_fraction_df_pc['Number_of_barcode_overlap_with_Total_method']/temp_shared_fraction_df_pc['Number_of_total_barcode'].values[0]\n",
    "temp_shared_fraction_df_pc['Fraction_of_overlap_among_IndividualMethod'] = temp_shared_fraction_df_pc['Number_of_overlap_among_IndividualMethod']/temp_shared_fraction_df_pc['Number_of_barcode']\n",
    "temp_shared_fraction_df_pc['Number_of_barcode_unique'] = temp_shared_fraction_df_pc['Number_of_barcode'] - temp_shared_fraction_df_pc['Number_of_barcode_overlap_with_Total_method']"
   ]
  },
  {
   "cell_type": "markdown",
   "id": "82e78b06-371d-4e6f-8932-4c65330bb1d0",
   "metadata": {},
   "source": [
    "##### Output"
   ]
  },
  {
   "cell_type": "code",
   "execution_count": 42,
   "id": "fa889556-f825-479d-959a-e081325846b7",
   "metadata": {},
   "outputs": [],
   "source": [
    "temp_shared_fraction_df_pc.to_csv(temp_out_ad2,index =False)"
   ]
  },
  {
   "cell_type": "markdown",
   "id": "d3ab1700-842d-436f-8cf0-5ffccb2404e0",
   "metadata": {},
   "source": [
    "#### 6.1.2 Shared fraction for NC"
   ]
  },
  {
   "cell_type": "code",
   "execution_count": 43,
   "id": "a1d47111-76a2-404f-b3cf-751633f2920d",
   "metadata": {},
   "outputs": [],
   "source": [
    "# compare to negative control"
   ]
  },
  {
   "cell_type": "code",
   "execution_count": 44,
   "id": "13a8b484-3e03-4380-ba1a-362e254dbb4b",
   "metadata": {},
   "outputs": [],
   "source": [
    "temp_percentile_cut = 1.0\n",
    "temp_cut_DNA = 100\n",
    "temp_cut_RNA = 0\n",
    "temp_i = 'barcode_better_than_nc_list'\n",
    "temp_YPD_df = temp_input_0\n",
    "t0 = temp_YPD_df[(temp_YPD_df['Percentile_of_PC']==temp_percentile_cut)&(temp_YPD_df['RNA_cut_off']==temp_cut_RNA)&(temp_YPD_df['DNA_cut_off']==temp_cut_DNA)]\n",
    "temp_YPD_df = temp_input_1\n",
    "t1 = temp_YPD_df[(temp_YPD_df['Percentile_of_PC']==temp_percentile_cut)&(temp_YPD_df['RNA_cut_off']==temp_cut_RNA)&(temp_YPD_df['DNA_cut_off']==temp_cut_DNA)]\n",
    "temp_YPD_df = temp_input_2\n",
    "t2 = temp_YPD_df[(temp_YPD_df['Percentile_of_PC']==temp_percentile_cut)&(temp_YPD_df['RNA_cut_off']==temp_cut_RNA)&(temp_YPD_df['DNA_cut_off']==temp_cut_DNA)]\n",
    "temp_YPD_df = temp_input_3\n",
    "t3 = temp_YPD_df[(temp_YPD_df['Percentile_of_PC']==temp_percentile_cut)&(temp_YPD_df['RNA_cut_off']==temp_cut_RNA)&(temp_YPD_df['DNA_cut_off']==temp_cut_DNA)]\n",
    "\n",
    "# total barcode list\n",
    "temp_total_bc = list(set(t0[temp_i].values[0]))\n",
    "#print(len(temp_total_bc))\n",
    "\n",
    "temp_S1_bc = list(set(t1[temp_i].values[0]))\n",
    "#print(len(temp_S1_bc))\n",
    "\n",
    "temp_S2_bc = list(set(t2[temp_i].values[0]))\n",
    "#print(len(temp_S2_bc))\n",
    "\n",
    "temp_S3_bc = list(set(t3[temp_i].values[0]))\n",
    "#print(len(temp_S3_bc))\n",
    "#print('\\n')\n",
    "\n",
    "temp_S1_bc_o = set(temp_total_bc)&set(temp_S1_bc)\n",
    "#print(len(temp_S1_bc_o)/len(temp_S1_bc))\n",
    "#print(len(temp_S1_bc_o)/len(temp_total_bc))\n",
    "#print('\\n')\n",
    "temp_S2_bc_o = set(temp_total_bc)&set(temp_S2_bc)\n",
    "#print(len(temp_S2_bc_o)/len(temp_S2_bc))\n",
    "#print(len(temp_S2_bc_o)/len(temp_total_bc))\n",
    "#print('\\n')\n",
    "temp_S3_bc_o = set(temp_total_bc)&set(temp_S3_bc)\n",
    "#print(len(temp_S3_bc_o)/len(temp_S3_bc))\n",
    "#print(len(temp_S3_bc_o)/len(temp_total_bc))\n",
    "#print('\\n')\n",
    "\n",
    "#print(len(set(temp_S1_bc)&set(temp_S2_bc)&set(temp_S3_bc)))\n",
    "#print(len(set(temp_S1_bc)|set(temp_S2_bc)|set(temp_S3_bc))/t3['Total_barcode'].values[0]) # at most\n",
    "#print(len(set(temp_S1_bc)&set(temp_S2_bc)&set(temp_S3_bc))/t3['Total_barcode'].values[0]) # at least"
   ]
  },
  {
   "cell_type": "code",
   "execution_count": 45,
   "id": "85cf2897-c9a6-4f2d-b3e4-6a313485f508",
   "metadata": {},
   "outputs": [],
   "source": [
    "temp_shared_fraction_df_nc = pd.DataFrame({'Method':['S1','S2','S3'], # the method use to generate the summary \n",
    "                                          'Number_of_total_barcode':[len(temp_total_bc)]*3,\n",
    "                                          'Number_of_barcode':[len(temp_S1_bc),len(temp_S2_bc),len(temp_S3_bc)],\n",
    "                                          'Number_of_barcode_overlap_with_Total_method':[len(temp_S1_bc_o),len(temp_S2_bc_o),len(temp_S3_bc_o)],\n",
    "                                          'Number_of_overlap_among_IndividualMethod':[len(set(temp_S1_bc)&set(temp_S2_bc)&set(temp_S3_bc))]*3,})\n"
   ]
  },
  {
   "cell_type": "code",
   "execution_count": 46,
   "id": "c1387036-cbcc-44d5-9dbe-14be7713c9b2",
   "metadata": {},
   "outputs": [],
   "source": [
    "temp_shared_fraction_df_nc['Fraction_of_overlap_with_TotalMethod'] = temp_shared_fraction_df_nc['Number_of_barcode_overlap_with_Total_method']/temp_shared_fraction_df_nc['Number_of_barcode']\n",
    "temp_shared_fraction_df_nc['Number_of_barcode_overlap_with_Total_method']/temp_shared_fraction_df_nc['Number_of_total_barcode'].values[0]\n",
    "temp_shared_fraction_df_nc['Fraction_of_overlap_among_IndividualMethod'] = temp_shared_fraction_df_nc['Number_of_overlap_among_IndividualMethod']/temp_shared_fraction_df_nc['Number_of_barcode']\n",
    "temp_shared_fraction_df_nc['Number_of_barcode_unique'] = temp_shared_fraction_df_nc['Number_of_barcode'] - temp_shared_fraction_df_nc['Number_of_barcode_overlap_with_Total_method']"
   ]
  },
  {
   "cell_type": "markdown",
   "id": "81092dc8-1baf-46e2-8db7-5606df8be193",
   "metadata": {},
   "source": [
    "##### Output"
   ]
  },
  {
   "cell_type": "code",
   "execution_count": 47,
   "id": "78826d1b-27f6-48c2-8bed-217fbd9bcef6",
   "metadata": {},
   "outputs": [],
   "source": [
    "temp_shared_fraction_df_nc.to_csv(temp_out_ad3,index =False)"
   ]
  },
  {
   "cell_type": "code",
   "execution_count": null,
   "id": "bb92bd8b-120d-40e0-b8b6-573644f26079",
   "metadata": {},
   "outputs": [],
   "source": []
  },
  {
   "cell_type": "markdown",
   "id": "05f0010d-ce97-4dc1-bb57-36ac73efec40",
   "metadata": {},
   "source": [
    "### 6.2 SCD"
   ]
  },
  {
   "cell_type": "code",
   "execution_count": 48,
   "id": "928d521e-5d0f-4953-8c2a-4eb62ffb8d08",
   "metadata": {},
   "outputs": [],
   "source": [
    "temp_input_0 = SCD_RD_summary\n",
    "temp_input_1 = SCD_RD_summary_S1\n",
    "temp_input_2 = SCD_RD_summary_S2\n",
    "temp_input_3 = SCD_RD_summary_S3"
   ]
  },
  {
   "cell_type": "code",
   "execution_count": 49,
   "id": "57e53d05-5267-41a6-9166-791308cda16b",
   "metadata": {},
   "outputs": [],
   "source": [
    "temp_out_ad1 = dr1 + 'ACRF_random_promoter_summary_SCD.csv'\n",
    "temp_out_ad2 = dr1 + 'ACRF_random_promoter_shared_more_than_pc_SCD.csv'\n",
    "temp_out_ad3 = dr1 + 'ACRF_random_promoter_shared_more_than_nc_SCD.csv'"
   ]
  },
  {
   "cell_type": "code",
   "execution_count": 50,
   "id": "f5892aa9-9c14-4763-86c9-ba39ab678cf3",
   "metadata": {},
   "outputs": [],
   "source": [
    "temp = temp_input_0\n",
    "temp = copy.deepcopy(temp)\n",
    "temp['Method'] = ['Total_expression']*temp.shape[0]\n",
    "\n",
    "temp_s_df = temp\n",
    "\n",
    "temp = copy.deepcopy(temp_input_1)\n",
    "\n",
    "temp['Method'] = ['S1']*temp.shape[0]\n",
    "temp_s_df = pd.concat([temp_s_df.reset_index(drop = True),temp.reset_index(drop = True)])\n",
    "\n",
    "temp = copy.deepcopy(temp_input_2)\n",
    "\n",
    "temp['Method'] = ['S2']*temp.shape[0]\n",
    "temp_s_df = pd.concat([temp_s_df.reset_index(drop = True),temp.reset_index(drop = True)])\n",
    "\n",
    "temp = copy.deepcopy(temp_input_3)\n",
    "\n",
    "temp['Method'] = ['S3']*temp.shape[0]\n",
    "temp_s_df = pd.concat([temp_s_df.reset_index(drop = True),temp.reset_index(drop = True)])"
   ]
  },
  {
   "cell_type": "code",
   "execution_count": 51,
   "id": "cc3dee6c-58a1-46cb-9288-6e41f8064b78",
   "metadata": {},
   "outputs": [],
   "source": [
    "temp_s_df = temp_s_df.reset_index(drop = True)"
   ]
  },
  {
   "cell_type": "code",
   "execution_count": 52,
   "id": "314caefc-2674-4b20-bb86-d4db2ee019a7",
   "metadata": {},
   "outputs": [],
   "source": [
    "temp_traits2= ['Method','DNA_cut_off','Total_barcode',\n",
    "               'better_than_pc_ratio','better_than_nc_ratio',\n",
    "              'worse_than_pc_ratio','worse_than_nc_ratio',\n",
    "               'barcode_better_than_pc','barcode_better_than_nc',\n",
    "              'barcode_worse_than_pc','barcode_worse_than_nc']"
   ]
  },
  {
   "cell_type": "code",
   "execution_count": 53,
   "id": "9e08d71d-6b07-4af0-b115-8090beefb4f0",
   "metadata": {},
   "outputs": [
    {
     "data": {
      "text/html": [
       "<div>\n",
       "<style scoped>\n",
       "    .dataframe tbody tr th:only-of-type {\n",
       "        vertical-align: middle;\n",
       "    }\n",
       "\n",
       "    .dataframe tbody tr th {\n",
       "        vertical-align: top;\n",
       "    }\n",
       "\n",
       "    .dataframe thead th {\n",
       "        text-align: right;\n",
       "    }\n",
       "</style>\n",
       "<table border=\"1\" class=\"dataframe\">\n",
       "  <thead>\n",
       "    <tr style=\"text-align: right;\">\n",
       "      <th></th>\n",
       "      <th>Method</th>\n",
       "      <th>DNA_cut_off</th>\n",
       "      <th>Total_barcode</th>\n",
       "      <th>better_than_pc_ratio</th>\n",
       "      <th>better_than_nc_ratio</th>\n",
       "      <th>worse_than_pc_ratio</th>\n",
       "      <th>worse_than_nc_ratio</th>\n",
       "      <th>barcode_better_than_pc</th>\n",
       "      <th>barcode_better_than_nc</th>\n",
       "      <th>barcode_worse_than_pc</th>\n",
       "      <th>barcode_worse_than_nc</th>\n",
       "    </tr>\n",
       "  </thead>\n",
       "  <tbody>\n",
       "    <tr>\n",
       "      <th>59</th>\n",
       "      <td>Total_expression</td>\n",
       "      <td>100</td>\n",
       "      <td>146291</td>\n",
       "      <td>0.000294</td>\n",
       "      <td>0.413450</td>\n",
       "      <td>0.999556</td>\n",
       "      <td>0.430170</td>\n",
       "      <td>43</td>\n",
       "      <td>60484</td>\n",
       "      <td>146226</td>\n",
       "      <td>62930</td>\n",
       "    </tr>\n",
       "    <tr>\n",
       "      <th>139</th>\n",
       "      <td>S1</td>\n",
       "      <td>100</td>\n",
       "      <td>146291</td>\n",
       "      <td>0.000465</td>\n",
       "      <td>0.337246</td>\n",
       "      <td>0.999125</td>\n",
       "      <td>0.581546</td>\n",
       "      <td>68</td>\n",
       "      <td>49336</td>\n",
       "      <td>146163</td>\n",
       "      <td>85075</td>\n",
       "    </tr>\n",
       "    <tr>\n",
       "      <th>219</th>\n",
       "      <td>S2</td>\n",
       "      <td>100</td>\n",
       "      <td>146291</td>\n",
       "      <td>0.000561</td>\n",
       "      <td>0.330512</td>\n",
       "      <td>0.998899</td>\n",
       "      <td>0.608445</td>\n",
       "      <td>82</td>\n",
       "      <td>48351</td>\n",
       "      <td>146130</td>\n",
       "      <td>89010</td>\n",
       "    </tr>\n",
       "    <tr>\n",
       "      <th>299</th>\n",
       "      <td>S3</td>\n",
       "      <td>100</td>\n",
       "      <td>146291</td>\n",
       "      <td>0.000492</td>\n",
       "      <td>0.355087</td>\n",
       "      <td>0.999077</td>\n",
       "      <td>0.600386</td>\n",
       "      <td>72</td>\n",
       "      <td>51946</td>\n",
       "      <td>146156</td>\n",
       "      <td>87831</td>\n",
       "    </tr>\n",
       "  </tbody>\n",
       "</table>\n",
       "</div>"
      ],
      "text/plain": [
       "               Method  DNA_cut_off  Total_barcode  better_than_pc_ratio  \\\n",
       "59   Total_expression          100         146291              0.000294   \n",
       "139                S1          100         146291              0.000465   \n",
       "219                S2          100         146291              0.000561   \n",
       "299                S3          100         146291              0.000492   \n",
       "\n",
       "     better_than_nc_ratio  worse_than_pc_ratio  worse_than_nc_ratio  \\\n",
       "59               0.413450             0.999556             0.430170   \n",
       "139              0.337246             0.999125             0.581546   \n",
       "219              0.330512             0.998899             0.608445   \n",
       "299              0.355087             0.999077             0.600386   \n",
       "\n",
       "     barcode_better_than_pc  barcode_better_than_nc  barcode_worse_than_pc  \\\n",
       "59                       43                   60484                 146226   \n",
       "139                      68                   49336                 146163   \n",
       "219                      82                   48351                 146130   \n",
       "299                      72                   51946                 146156   \n",
       "\n",
       "     barcode_worse_than_nc  \n",
       "59                   62930  \n",
       "139                  85075  \n",
       "219                  89010  \n",
       "299                  87831  "
      ]
     },
     "execution_count": 53,
     "metadata": {},
     "output_type": "execute_result"
    }
   ],
   "source": [
    "temp_percentile_cut = [1.0]\n",
    "temp_cut_DNA = [100]\n",
    "temp_cut_RNA = [0]\n",
    "temp_SCD_df = temp_s_df\n",
    "temp_o = temp_SCD_df[(temp_SCD_df['Percentile_of_PC'].isin(temp_percentile_cut))&(temp_SCD_df['RNA_cut_off'].isin(temp_cut_RNA))&(temp_SCD_df['DNA_cut_off'].isin(temp_cut_DNA))]\n",
    "temp_o[temp_traits2]"
   ]
  },
  {
   "cell_type": "markdown",
   "id": "8221e0c0-a194-4e32-8ae1-af1944261679",
   "metadata": {},
   "source": [
    "* <font size=\"5\" color = 'Red'> They are similar to the total expression results</font>"
   ]
  },
  {
   "cell_type": "markdown",
   "id": "efeb6dc7-47d9-4a61-8bf6-b965081d3c8a",
   "metadata": {},
   "source": [
    "#### 6.2.1 Shared fraction for PC"
   ]
  },
  {
   "cell_type": "code",
   "execution_count": 54,
   "id": "472ab594-8903-4b11-a535-83eabdfefa39",
   "metadata": {},
   "outputs": [],
   "source": [
    "# compare to positive control"
   ]
  },
  {
   "cell_type": "code",
   "execution_count": 55,
   "id": "94fd4277-38df-45d0-9090-f1c108893018",
   "metadata": {},
   "outputs": [],
   "source": [
    "temp_percentile_cut = 1.0\n",
    "temp_cut_DNA = 100\n",
    "temp_cut_RNA = 0\n",
    "temp_i = 'barcode_better_than_pc_list'\n",
    "temp_SCD_df = temp_input_0\n",
    "t0 = temp_SCD_df[(temp_SCD_df['Percentile_of_PC']==temp_percentile_cut)&(temp_SCD_df['RNA_cut_off']==temp_cut_RNA)&(temp_SCD_df['DNA_cut_off']==temp_cut_DNA)]\n",
    "temp_SCD_df = temp_input_1\n",
    "t1 = temp_SCD_df[(temp_SCD_df['Percentile_of_PC']==temp_percentile_cut)&(temp_SCD_df['RNA_cut_off']==temp_cut_RNA)&(temp_SCD_df['DNA_cut_off']==temp_cut_DNA)]\n",
    "temp_SCD_df = temp_input_2\n",
    "t2 = temp_SCD_df[(temp_SCD_df['Percentile_of_PC']==temp_percentile_cut)&(temp_SCD_df['RNA_cut_off']==temp_cut_RNA)&(temp_SCD_df['DNA_cut_off']==temp_cut_DNA)]\n",
    "temp_SCD_df = temp_input_3\n",
    "t3 = temp_SCD_df[(temp_SCD_df['Percentile_of_PC']==temp_percentile_cut)&(temp_SCD_df['RNA_cut_off']==temp_cut_RNA)&(temp_SCD_df['DNA_cut_off']==temp_cut_DNA)]\n",
    "\n",
    "# total barcode list\n",
    "temp_total_bc = list(set(t0[temp_i].values[0]))\n",
    "#print(len(temp_total_bc))\n",
    "\n",
    "temp_S1_bc = list(set(t1[temp_i].values[0]))\n",
    "#print(len(temp_S1_bc))\n",
    "\n",
    "temp_S2_bc = list(set(t2[temp_i].values[0]))\n",
    "#print(len(temp_S2_bc))\n",
    "\n",
    "temp_S3_bc = list(set(t3[temp_i].values[0]))\n",
    "#print(len(temp_S3_bc))\n",
    "#print('\\n')\n",
    "\n",
    "temp_S1_bc_o = set(temp_total_bc)&set(temp_S1_bc)\n",
    "#print(len(temp_S1_bc_o)/len(temp_S1_bc))\n",
    "#print(len(temp_S1_bc_o)/len(temp_total_bc))\n",
    "#print('\\n')\n",
    "temp_S2_bc_o = set(temp_total_bc)&set(temp_S2_bc)\n",
    "#print(len(temp_S2_bc_o)/len(temp_S2_bc))\n",
    "#print(len(temp_S2_bc_o)/len(temp_total_bc))\n",
    "#print('\\n')\n",
    "temp_S3_bc_o = set(temp_total_bc)&set(temp_S3_bc)\n",
    "#print(len(temp_S3_bc_o)/len(temp_S3_bc))\n",
    "#print(len(temp_S3_bc_o)/len(temp_total_bc))\n",
    "#print('\\n')\n",
    "\n",
    "#print(len(set(temp_S1_bc)&set(temp_S2_bc)&set(temp_S3_bc)))\n",
    "#print(len(set(temp_S1_bc)|set(temp_S2_bc)|set(temp_S3_bc))/t3['Total_barcode'].values[0]) # at most\n",
    "#print(len(set(temp_S1_bc)&set(temp_S2_bc)&set(temp_S3_bc))/t3['Total_barcode'].values[0]) # at least"
   ]
  },
  {
   "cell_type": "code",
   "execution_count": 56,
   "id": "3f431c55-49c1-4c2b-bd31-380775b8abce",
   "metadata": {},
   "outputs": [],
   "source": [
    "temp_shared_fraction_df_pc = pd.DataFrame({'Method':['S1','S2','S3'], # the method use to generate the summary \n",
    "                                          'Number_of_total_barcode':[len(temp_total_bc)]*3,\n",
    "                                          'Number_of_barcode':[len(temp_S1_bc),len(temp_S2_bc),len(temp_S3_bc)],\n",
    "                                          'Number_of_barcode_overlap_with_Total_method':[len(temp_S1_bc_o),len(temp_S2_bc_o),len(temp_S3_bc_o)],\n",
    "                                          'Number_of_overlap_among_IndividualMethod':[len(set(temp_S1_bc)&set(temp_S2_bc)&set(temp_S3_bc))]*3,})\n"
   ]
  },
  {
   "cell_type": "code",
   "execution_count": 57,
   "id": "864c2426-17b4-44a2-8454-363dd068a272",
   "metadata": {},
   "outputs": [],
   "source": [
    "temp_shared_fraction_df_pc['Fraction_of_overlap_with_TotalMethod'] = temp_shared_fraction_df_pc['Number_of_barcode_overlap_with_Total_method']/temp_shared_fraction_df_pc['Number_of_barcode']\n",
    "temp_shared_fraction_df_pc['Fraction_TotalMethod_overlap_with'] = temp_shared_fraction_df_pc['Number_of_barcode_overlap_with_Total_method']/temp_shared_fraction_df_pc['Number_of_total_barcode'].values[0]\n",
    "temp_shared_fraction_df_pc['Fraction_of_overlap_among_IndividualMethod'] = temp_shared_fraction_df_pc['Number_of_overlap_among_IndividualMethod']/temp_shared_fraction_df_pc['Number_of_barcode']\n",
    "temp_shared_fraction_df_pc['Number_of_barcode_unique'] = temp_shared_fraction_df_pc['Number_of_barcode'] - temp_shared_fraction_df_pc['Number_of_barcode_overlap_with_Total_method']"
   ]
  },
  {
   "cell_type": "markdown",
   "id": "479a73c6-2977-497a-b693-473b82cf9b62",
   "metadata": {},
   "source": [
    "##### Output"
   ]
  },
  {
   "cell_type": "code",
   "execution_count": 58,
   "id": "c30ffe69-3597-4e75-894c-82ae0a76caa6",
   "metadata": {},
   "outputs": [],
   "source": [
    "temp_shared_fraction_df_pc.to_csv(temp_out_ad2,index =False)"
   ]
  },
  {
   "cell_type": "markdown",
   "id": "c4e75f25-b0aa-4191-95d0-1bd349f21162",
   "metadata": {},
   "source": [
    "#### 6.2.2 Shared fraction for NC"
   ]
  },
  {
   "cell_type": "code",
   "execution_count": 59,
   "id": "c4adba76-5e9a-4402-8ffa-2cfaee4b7504",
   "metadata": {},
   "outputs": [],
   "source": [
    "# compare to negative control"
   ]
  },
  {
   "cell_type": "code",
   "execution_count": 60,
   "id": "a9a83e00-6db6-4afc-89ef-7865a244a84f",
   "metadata": {},
   "outputs": [],
   "source": [
    "temp_percentile_cut = 1.0\n",
    "temp_cut_DNA = 100\n",
    "temp_cut_RNA = 0\n",
    "temp_i = 'barcode_better_than_nc_list'\n",
    "temp_SCD_df = temp_input_0\n",
    "t0 = temp_SCD_df[(temp_SCD_df['Percentile_of_PC']==temp_percentile_cut)&(temp_SCD_df['RNA_cut_off']==temp_cut_RNA)&(temp_SCD_df['DNA_cut_off']==temp_cut_DNA)]\n",
    "temp_SCD_df = temp_input_1\n",
    "t1 = temp_SCD_df[(temp_SCD_df['Percentile_of_PC']==temp_percentile_cut)&(temp_SCD_df['RNA_cut_off']==temp_cut_RNA)&(temp_SCD_df['DNA_cut_off']==temp_cut_DNA)]\n",
    "temp_SCD_df = temp_input_2\n",
    "t2 = temp_SCD_df[(temp_SCD_df['Percentile_of_PC']==temp_percentile_cut)&(temp_SCD_df['RNA_cut_off']==temp_cut_RNA)&(temp_SCD_df['DNA_cut_off']==temp_cut_DNA)]\n",
    "temp_SCD_df = temp_input_3\n",
    "t3 = temp_SCD_df[(temp_SCD_df['Percentile_of_PC']==temp_percentile_cut)&(temp_SCD_df['RNA_cut_off']==temp_cut_RNA)&(temp_SCD_df['DNA_cut_off']==temp_cut_DNA)]\n",
    "\n",
    "# total barcode list\n",
    "temp_total_bc = list(set(t0[temp_i].values[0]))\n",
    "#print(len(temp_total_bc))\n",
    "\n",
    "temp_S1_bc = list(set(t1[temp_i].values[0]))\n",
    "#print(len(temp_S1_bc))\n",
    "\n",
    "temp_S2_bc = list(set(t2[temp_i].values[0]))\n",
    "#print(len(temp_S2_bc))\n",
    "\n",
    "temp_S3_bc = list(set(t3[temp_i].values[0]))\n",
    "#print(len(temp_S3_bc))\n",
    "#print('\\n')\n",
    "\n",
    "temp_S1_bc_o = set(temp_total_bc)&set(temp_S1_bc)\n",
    "#print(len(temp_S1_bc_o)/len(temp_S1_bc))\n",
    "#print(len(temp_S1_bc_o)/len(temp_total_bc))\n",
    "#print('\\n')\n",
    "temp_S2_bc_o = set(temp_total_bc)&set(temp_S2_bc)\n",
    "#print(len(temp_S2_bc_o)/len(temp_S2_bc))\n",
    "#print(len(temp_S2_bc_o)/len(temp_total_bc))\n",
    "#print('\\n')\n",
    "temp_S3_bc_o = set(temp_total_bc)&set(temp_S3_bc)\n",
    "#print(len(temp_S3_bc_o)/len(temp_S3_bc))\n",
    "#print(len(temp_S3_bc_o)/len(temp_total_bc))\n",
    "#print('\\n')\n",
    "\n",
    "#print(len(set(temp_S1_bc)&set(temp_S2_bc)&set(temp_S3_bc)))\n",
    "#print(len(set(temp_S1_bc)|set(temp_S2_bc)|set(temp_S3_bc))/t3['Total_barcode'].values[0]) # at most\n",
    "#print(len(set(temp_S1_bc)&set(temp_S2_bc)&set(temp_S3_bc))/t3['Total_barcode'].values[0]) # at least"
   ]
  },
  {
   "cell_type": "code",
   "execution_count": 61,
   "id": "e85e8dde-1108-48a3-993b-050dbb109a0d",
   "metadata": {},
   "outputs": [],
   "source": [
    "temp_shared_fraction_df_nc = pd.DataFrame({'Method':['S1','S2','S3'], # the method use to generate the summary \n",
    "                                          'Number_of_total_barcode':[len(temp_total_bc)]*3,\n",
    "                                          'Number_of_barcode':[len(temp_S1_bc),len(temp_S2_bc),len(temp_S3_bc)],\n",
    "                                          'Number_of_barcode_overlap_with_Total_method':[len(temp_S1_bc_o),len(temp_S2_bc_o),len(temp_S3_bc_o)],\n",
    "                                          'Number_of_overlap_among_IndividualMethod':[len(set(temp_S1_bc)&set(temp_S2_bc)&set(temp_S3_bc))]*3,})\n"
   ]
  },
  {
   "cell_type": "code",
   "execution_count": 62,
   "id": "da3a1a3f-cf26-49dc-bc9b-8ccb74ca6c0b",
   "metadata": {},
   "outputs": [],
   "source": [
    "temp_shared_fraction_df_nc['Fraction_of_overlap_with_TotalMethod'] = temp_shared_fraction_df_nc['Number_of_barcode_overlap_with_Total_method']/temp_shared_fraction_df_nc['Number_of_barcode']\n",
    "temp_shared_fraction_df_nc['Number_of_barcode_overlap_with_Total_method']/temp_shared_fraction_df_nc['Number_of_total_barcode'].values[0]\n",
    "temp_shared_fraction_df_nc['Fraction_of_overlap_among_IndividualMethod'] = temp_shared_fraction_df_nc['Number_of_overlap_among_IndividualMethod']/temp_shared_fraction_df_nc['Number_of_barcode']\n",
    "temp_shared_fraction_df_nc['Number_of_barcode_unique'] = temp_shared_fraction_df_nc['Number_of_barcode'] - temp_shared_fraction_df_nc['Number_of_barcode_overlap_with_Total_method']"
   ]
  },
  {
   "cell_type": "markdown",
   "id": "b26d3fa8-babb-4f86-9af3-703241daba52",
   "metadata": {},
   "source": [
    "##### Output"
   ]
  },
  {
   "cell_type": "code",
   "execution_count": 63,
   "id": "2333a0cd-6a1d-49e1-9760-a7fc742eea68",
   "metadata": {},
   "outputs": [],
   "source": [
    "temp_shared_fraction_df_nc.to_csv(temp_out_ad3,index =False)"
   ]
  },
  {
   "cell_type": "code",
   "execution_count": null,
   "id": "19dd1f6d-eaae-4220-8d12-9ccd481fa126",
   "metadata": {},
   "outputs": [],
   "source": []
  }
 ],
 "metadata": {
  "kernelspec": {
   "display_name": "HX_basic",
   "language": "python",
   "name": "hx_basic"
  },
  "language_info": {
   "codemirror_mode": {
    "name": "ipython",
    "version": 3
   },
   "file_extension": ".py",
   "mimetype": "text/x-python",
   "name": "python",
   "nbconvert_exporter": "python",
   "pygments_lexer": "ipython3",
   "version": "3.10.0"
  }
 },
 "nbformat": 4,
 "nbformat_minor": 5
}
