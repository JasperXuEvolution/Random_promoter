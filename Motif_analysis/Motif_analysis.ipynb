{
 "cells": [
  {
   "cell_type": "markdown",
   "id": "8a40c896-9527-40c3-9960-720d4100300a",
   "metadata": {
    "tags": []
   },
   "source": [
    "## 1. Modules and Functions"
   ]
  },
  {
   "cell_type": "markdown",
   "id": "38c2c6c6-e9c4-4777-a8cd-ec58ce1677e2",
   "metadata": {},
   "source": [
    "### 1.1 Modules"
   ]
  },
  {
   "cell_type": "code",
   "execution_count": 1,
   "id": "3df1bcf6-3680-4d5c-bb44-c3ddeed1216a",
   "metadata": {
    "execution": {
     "iopub.execute_input": "2023-03-08T21:57:04.616399Z",
     "iopub.status.busy": "2023-03-08T21:57:04.616171Z",
     "iopub.status.idle": "2023-03-08T21:57:06.396573Z",
     "shell.execute_reply": "2023-03-08T21:57:06.396069Z",
     "shell.execute_reply.started": "2023-03-08T21:57:04.616382Z"
    },
    "tags": []
   },
   "outputs": [],
   "source": [
    "from Bio import motifs\n",
    "from Bio.Seq import Seq\n",
    "import scipy.stats\n",
    "import numpy as np\n",
    "import statsmodels.stats.multitest as STM\n",
    "import glob\n",
    "import pandas as pd\n",
    "import json\n",
    "import copy\n",
    "import re\n",
    "import matplotlib.pyplot as plt\n",
    "from matplotlib import gridspec\n",
    "plt.rcParams[\"font.family\"] = \"Arial\"\n",
    "plt.rcParams['pdf.fonttype'] = 42"
   ]
  },
  {
   "cell_type": "markdown",
   "id": "b791b6a6-4c9f-43e5-ada6-2bb5fd171d28",
   "metadata": {},
   "source": [
    "### 1.2 Functions"
   ]
  },
  {
   "cell_type": "code",
   "execution_count": 2,
   "id": "99328775-ebad-4d4d-bd62-95b070675344",
   "metadata": {
    "execution": {
     "iopub.execute_input": "2023-03-08T21:57:06.397754Z",
     "iopub.status.busy": "2023-03-08T21:57:06.397558Z",
     "iopub.status.idle": "2023-03-08T21:57:06.402174Z",
     "shell.execute_reply": "2023-03-08T21:57:06.401803Z",
     "shell.execute_reply.started": "2023-03-08T21:57:06.397741Z"
    },
    "tags": []
   },
   "outputs": [],
   "source": [
    "def Add_Sequence_Info(input_df):\n",
    "    temp_df = input_df[['representative_sequence','P_Cluster_seq', 'expression_normalized', 'Mean_normalized_relative']].copy()\n",
    "    temp_df['GC_content'] = temp_df['P_Cluster_seq'].apply(lambda x:len(re.findall(\"[GgCc]\", x))/len(x))\n",
    "    temp_df['TATA_box'] = temp_df['P_Cluster_seq'].apply(lambda x: find_tata_box(str(x)))\n",
    "    # Consider barcode promoter and the intergenic region\n",
    "    temp_df['GC_content_PB'] = (temp_df['representative_sequence']+\n",
    "                                'TGGCTGAACCTAGTTTTGCCC'+\n",
    "                                temp_df['P_Cluster_seq']).apply(lambda x:len(re.findall(\"[GgCc]\", x))/len(x))\n",
    "    # Consider barcode promoter and the intergenic region\n",
    "    temp_df['TATA_box_PB'] = (temp_df['representative_sequence']+\n",
    "                              'TGGCTGAACCTAGTTTTGCCC'+\n",
    "                              temp_df['P_Cluster_seq']).apply(lambda x: find_tata_box(str(x)))\n",
    "    return(temp_df)"
   ]
  },
  {
   "cell_type": "code",
   "execution_count": 3,
   "id": "cc8083a3-714a-4325-bf31-cbb9f248ff64",
   "metadata": {
    "execution": {
     "iopub.execute_input": "2023-03-08T21:57:06.402893Z",
     "iopub.status.busy": "2023-03-08T21:57:06.402761Z",
     "iopub.status.idle": "2023-03-08T21:57:06.405957Z",
     "shell.execute_reply": "2023-03-08T21:57:06.405450Z",
     "shell.execute_reply.started": "2023-03-08T21:57:06.402876Z"
    },
    "tags": []
   },
   "outputs": [],
   "source": [
    "instances = [\"TATAAAAA\", \"TATAAAAG\", \"TATAAATA\",\n",
    "             \"TATAAATG\", \"TATATAAA\", \"TATATAAG\",\n",
    "             \"TATATATA\", \"TATATATG\"]\n",
    "\n",
    "\n",
    "def find_tata_box(input):\n",
    "    a = 0\n",
    "    for x in instances:\n",
    "        a += input.count(x)\n",
    "    return a"
   ]
  },
  {
   "cell_type": "code",
   "execution_count": 4,
   "id": "f5fbd1fb-1409-49f7-a5ab-2fed609631c0",
   "metadata": {
    "execution": {
     "iopub.execute_input": "2023-03-08T21:57:06.407537Z",
     "iopub.status.busy": "2023-03-08T21:57:06.407300Z",
     "iopub.status.idle": "2023-03-08T21:57:06.410998Z",
     "shell.execute_reply": "2023-03-08T21:57:06.410589Z",
     "shell.execute_reply.started": "2023-03-08T21:57:06.407512Z"
    },
    "tags": []
   },
   "outputs": [],
   "source": [
    "def generate_background_ratio(input_string):\n",
    "    # this calculate ratio for both strands\n",
    "    temp_A = input_string.count('A')\n",
    "    temp_T = input_string.count('T')\n",
    "    temp_G = input_string.count('G')\n",
    "    temp_C = input_string.count('C')\n",
    "    temp_sum = temp_A + temp_T + temp_G + temp_C\n",
    "    temp_AT = (temp_A+temp_T)/2/temp_sum\n",
    "    temp_GC = (temp_G+temp_C)/2/temp_sum\n",
    "    return({'A': temp_AT,'T': temp_AT,'C': temp_GC,'G': temp_GC})"
   ]
  },
  {
   "cell_type": "code",
   "execution_count": 20,
   "id": "4c904129-fd77-42c3-81fd-b44a532cbc37",
   "metadata": {
    "execution": {
     "iopub.execute_input": "2023-03-08T21:57:21.428021Z",
     "iopub.status.busy": "2023-03-08T21:57:21.427404Z",
     "iopub.status.idle": "2023-03-08T21:57:21.449868Z",
     "shell.execute_reply": "2023-03-08T21:57:21.449217Z",
     "shell.execute_reply.started": "2023-03-08T21:57:21.427984Z"
    },
    "tags": []
   },
   "outputs": [],
   "source": [
    "def find_motif_new(input_short_df, input_pssm_dic, input_cutoff_dic):\n",
    "# this will find motif seperately\n",
    "# This function take a promoter df, a pssm dictionary and a cutoff dictionary as input\n",
    "# It output a new df with additional columns corresponding to each motif in the pssm dictionary \n",
    "# and a total number of motif found in each promoter column\n",
    "# I will store the position of motif as a binary number string, for example, if the first position has a motif, it will be 1.\n",
    "    test_seq_list = input_short_df['P_Cluster_seq'].tolist()\n",
    "    total_array = []\n",
    "    total_array_f = []\n",
    "    total_array_r = []\n",
    "    total_array_f_position = []\n",
    "    total_array_r_position = []\n",
    "    for temp_seq in test_seq_list:\n",
    "        temp_array_total = [] # This is a two D array which store all the score list of all motif for a give seq\n",
    "        temp_array_f = []\n",
    "        temp_array_r = []\n",
    "        temp_f_position = [] # list storing the position information\n",
    "        temp_r_position = [] # list storing the position information\n",
    "        for temp_name,temp_motif in input_pssm_dic.items():\n",
    "            temp_f_score = temp_motif.calculate(temp_seq) # calculate PSSM scores on forward strand\n",
    "            temp_r_score = temp_motif.reverse_complement().calculate(temp_seq)\n",
    "            temp_score_total = np.concatenate([temp_f_score,temp_r_score]) # I concatenate two 1D array\n",
    "            temp_cutoff = input_cutoff_dic[temp_name]\n",
    "            temp_p = ''.join([str(x) for x in (temp_f_score>temp_cutoff)*1]) # generate a 0/1 string\n",
    "            temp_f_position.append(temp_p) # treat that string as a binary number and convert it into a decimal number\n",
    "            temp_p = ''.join([str(x) for x in (temp_r_score>temp_cutoff)*1]) # generate a 0/1 string\n",
    "            temp_r_position.append(temp_p) # treat that string as a binary number and convert it into a decimal number\n",
    "            temp_array_f.append(sum(temp_f_score>temp_cutoff))\n",
    "            temp_array_r.append(sum(temp_r_score>temp_cutoff))\n",
    "            temp_array_total.append(sum(temp_score_total>temp_cutoff))\n",
    "        total_array.append(temp_array_total)\n",
    "        total_array_f.append(temp_array_f)\n",
    "        total_array_r.append(temp_array_r)\n",
    "        total_array_f_position.append(temp_f_position)\n",
    "        total_array_r_position.append(temp_r_position)\n",
    "    total_array = np.array(total_array)\n",
    "    total_array_f = np.array(total_array_f)\n",
    "    total_array_r = np.array(total_array_r)\n",
    "    total_array_f_position = np.array(total_array_f_position)\n",
    "    total_array_r_position = np.array(total_array_r_position)\n",
    "    temp_col_names = list(input_pssm_dic.keys())+[x+'_f' for x in list(input_pssm_dic.keys())]+[x+'_r' for x in list(input_pssm_dic.keys())]\n",
    "    output_df = pd.DataFrame(np.c_[total_array,total_array_f,total_array_r], columns = temp_col_names,index = input_short_df.index)\n",
    "    output_df[[x+'_f_position' for x in list(input_pssm_dic.keys())]+[x+'_r_position' for x in list(input_pssm_dic.keys())]] = np.c_[total_array_f_position,total_array_r_position]\n",
    "    output_df ['Total_motif_count'] = np.sum(total_array,axis=1)\n",
    "    output_df ['Total_motif_count_f'] = np.sum(total_array_f,axis=1)\n",
    "    output_df ['Total_motif_count_r'] = np.sum(total_array_r,axis=1)\n",
    "    return(output_df)"
   ]
  },
  {
   "cell_type": "markdown",
   "id": "3fc85e1e-2081-4dd7-b96d-2325cc9862fe",
   "metadata": {},
   "source": [
    "---"
   ]
  },
  {
   "cell_type": "markdown",
   "id": "a3dd2898-b49e-4504-b453-833c47c61107",
   "metadata": {
    "tags": []
   },
   "source": [
    "## 1. Input and Output"
   ]
  },
  {
   "cell_type": "markdown",
   "id": "e790add5-ff38-425f-a59f-d2bbe65efedd",
   "metadata": {},
   "source": [
    "### 1.1 Input"
   ]
  },
  {
   "cell_type": "code",
   "execution_count": 1,
   "id": "b9a36f10-a5ce-43d3-9c39-6db0632ca2c2",
   "metadata": {
    "execution": {
     "iopub.execute_input": "2023-03-08T22:26:22.791567Z",
     "iopub.status.busy": "2023-03-08T22:26:22.790188Z",
     "iopub.status.idle": "2023-03-08T22:26:22.818913Z",
     "shell.execute_reply": "2023-03-08T22:26:22.815732Z",
     "shell.execute_reply.started": "2023-03-08T22:26:22.791512Z"
    },
    "tags": []
   },
   "outputs": [],
   "source": [
    "dr1 = 'Data/'\n",
    "# barcode with promoter and have at least one DNA read in each rep\n",
    "YPD_promoter_address = dr1 + 'YPD_promoter_output.csv'\n",
    "SCD_promoter_address = dr1 + 'SCD_promoter_output.csv'\n",
    "\n",
    "# motif position weight matrics\n",
    "motif_pssm_dic_address = dr1 + 'motif_pssm_dic'\n",
    "\n",
    "# cutoff for each motif curated from ScerTF\n",
    "motif_cutoff_df = dr1+'recommended.cutoffs.curated'"
   ]
  },
  {
   "cell_type": "code",
   "execution_count": 23,
   "id": "c3296d08-34f1-4589-af63-40f670c6ce55",
   "metadata": {
    "execution": {
     "iopub.execute_input": "2023-03-08T22:05:24.465425Z",
     "iopub.status.busy": "2023-03-08T22:05:24.465089Z",
     "iopub.status.idle": "2023-03-08T22:05:24.469313Z",
     "shell.execute_reply": "2023-03-08T22:05:24.468690Z",
     "shell.execute_reply.started": "2023-03-08T22:05:24.465402Z"
    },
    "tags": []
   },
   "outputs": [],
   "source": [
    "# summary data for RD compared to control\n",
    "YPD_summary_address = dr1 + 'YPD_RD_summary_median_total_extra.csv'\n",
    "SCD_summary_address = dr1 + 'SCD_RD_summary_median_total_extra.csv'"
   ]
  },
  {
   "cell_type": "markdown",
   "id": "f4fe06c1-1976-4239-9e18-04d9b7b6a9a7",
   "metadata": {},
   "source": [
    "## 2 Add GC content and TATA box information"
   ]
  },
  {
   "cell_type": "code",
   "execution_count": 7,
   "id": "e92fbdeb-e570-40f4-b6d9-6109c481d097",
   "metadata": {
    "execution": {
     "iopub.execute_input": "2023-03-08T21:57:09.420200Z",
     "iopub.status.busy": "2023-03-08T21:57:09.418513Z",
     "iopub.status.idle": "2023-03-08T21:57:11.929309Z",
     "shell.execute_reply": "2023-03-08T21:57:11.928882Z",
     "shell.execute_reply.started": "2023-03-08T21:57:09.420134Z"
    },
    "tags": []
   },
   "outputs": [],
   "source": [
    "# promoter complete information\n",
    "YPD_promoter_df = pd.read_csv(dr1 + 'YPD_promoter_output.csv')\n",
    "SCD_promoter_df = pd.read_csv(dr1 + 'SCD_promoter_output.csv')"
   ]
  },
  {
   "cell_type": "code",
   "execution_count": 8,
   "id": "0bcde505-35c4-4335-9e90-fb1520f53a5f",
   "metadata": {
    "execution": {
     "iopub.execute_input": "2023-03-08T21:57:11.930652Z",
     "iopub.status.busy": "2023-03-08T21:57:11.930484Z",
     "iopub.status.idle": "2023-03-08T21:57:11.964918Z",
     "shell.execute_reply": "2023-03-08T21:57:11.960900Z",
     "shell.execute_reply.started": "2023-03-08T21:57:11.930635Z"
    },
    "tags": []
   },
   "outputs": [],
   "source": [
    "YPD_promoter_df = YPD_promoter_df.rename(columns={\n",
    "    'P_Clustser_seq': 'P_Cluster_seq'})\n",
    "SCD_promoter_df = SCD_promoter_df.rename(columns={\n",
    "    'P_Clustser_seq': 'P_Cluster_seq'})"
   ]
  },
  {
   "cell_type": "code",
   "execution_count": 9,
   "id": "fca49757-2752-4bc1-9a28-5b56729bec82",
   "metadata": {
    "execution": {
     "iopub.execute_input": "2023-03-08T21:57:11.969666Z",
     "iopub.status.busy": "2023-03-08T21:57:11.969315Z",
     "iopub.status.idle": "2023-03-08T21:57:13.282938Z",
     "shell.execute_reply": "2023-03-08T21:57:13.282545Z",
     "shell.execute_reply.started": "2023-03-08T21:57:11.969648Z"
    },
    "tags": []
   },
   "outputs": [],
   "source": [
    "YPD_short = Add_Sequence_Info(YPD_promoter_df)"
   ]
  },
  {
   "cell_type": "code",
   "execution_count": 10,
   "id": "4570e20b-1aee-4022-a078-e3b9d05282e8",
   "metadata": {
    "execution": {
     "iopub.execute_input": "2023-03-08T21:57:13.284237Z",
     "iopub.status.busy": "2023-03-08T21:57:13.284104Z",
     "iopub.status.idle": "2023-03-08T21:57:14.375751Z",
     "shell.execute_reply": "2023-03-08T21:57:14.375091Z",
     "shell.execute_reply.started": "2023-03-08T21:57:13.284226Z"
    },
    "tags": []
   },
   "outputs": [],
   "source": [
    "SCD_short = Add_Sequence_Info(SCD_promoter_df)"
   ]
  },
  {
   "cell_type": "markdown",
   "id": "5c89c111-d947-415c-b617-fa8ff361d3cf",
   "metadata": {},
   "source": [
    "### Output"
   ]
  },
  {
   "cell_type": "code",
   "execution_count": 11,
   "id": "7b1faeec-38b5-42da-a5c6-881c0845661a",
   "metadata": {
    "execution": {
     "iopub.execute_input": "2023-03-08T21:57:14.377046Z",
     "iopub.status.busy": "2023-03-08T21:57:14.376774Z",
     "iopub.status.idle": "2023-03-08T21:57:14.379188Z",
     "shell.execute_reply": "2023-03-08T21:57:14.378787Z",
     "shell.execute_reply.started": "2023-03-08T21:57:14.377031Z"
    }
   },
   "outputs": [],
   "source": [
    "# SCD_short.to_csv(dr1+'SCD_short_output.csv')\n",
    "# YPD_short.to_csv(dr1+'YPD_short_output.csv')"
   ]
  },
  {
   "cell_type": "markdown",
   "id": "6388103d-5b6a-4a4c-aa58-6576a2a1a626",
   "metadata": {},
   "source": [
    "## Generate Position Weight Matric"
   ]
  },
  {
   "cell_type": "markdown",
   "id": "2db734ee-76d2-4889-816d-d5793b9a3f40",
   "metadata": {},
   "source": [
    "### 4.1 cutoff Read Data "
   ]
  },
  {
   "cell_type": "code",
   "execution_count": 12,
   "id": "2fa01cb9-9407-40c9-bc67-d1fefcbb8a6d",
   "metadata": {
    "execution": {
     "iopub.execute_input": "2023-03-08T21:57:16.130243Z",
     "iopub.status.busy": "2023-03-08T21:57:16.129295Z",
     "iopub.status.idle": "2023-03-08T21:57:16.145683Z",
     "shell.execute_reply": "2023-03-08T21:57:16.145072Z",
     "shell.execute_reply.started": "2023-03-08T21:57:16.130189Z"
    },
    "tags": []
   },
   "outputs": [],
   "source": [
    "# Read cutoff for each promoter\n",
    "PCM_cutoff_df = pd.read_csv(motif_cutoff_df,\n",
    "                            sep='\\t',\n",
    "                            names=['Gene_name', 'Paper',\n",
    "                                   'Alternative_name',\n",
    "                                   'ChIP-chip', 'Recommended_PWM_Cutoff',\n",
    "                                   'Fisher_value'])"
   ]
  },
  {
   "cell_type": "code",
   "execution_count": 13,
   "id": "d9ee9666-63b5-4d7c-b3bb-b7ffed484582",
   "metadata": {
    "execution": {
     "iopub.execute_input": "2023-03-08T21:57:16.495160Z",
     "iopub.status.busy": "2023-03-08T21:57:16.494149Z",
     "iopub.status.idle": "2023-03-08T21:57:16.516983Z",
     "shell.execute_reply": "2023-03-08T21:57:16.516166Z",
     "shell.execute_reply.started": "2023-03-08T21:57:16.495117Z"
    },
    "tags": []
   },
   "outputs": [],
   "source": [
    "PCM_cutoff_df_dic ={}\n",
    "for index, row in PCM_cutoff_df.iterrows():\n",
    "    PCM_cutoff_df_dic[row['Gene_name']] = row['Recommended_PWM_Cutoff']"
   ]
  },
  {
   "cell_type": "markdown",
   "id": "799c24fe-e8e7-4905-b7ea-3330921c54b2",
   "metadata": {},
   "source": [
    "### 4.2 PSSM"
   ]
  },
  {
   "cell_type": "code",
   "execution_count": 14,
   "id": "12b3948d-6b60-4e48-b479-486e8d42c785",
   "metadata": {
    "execution": {
     "iopub.execute_input": "2023-03-08T21:57:17.040801Z",
     "iopub.status.busy": "2023-03-08T21:57:17.040258Z",
     "iopub.status.idle": "2023-03-08T21:57:17.055599Z",
     "shell.execute_reply": "2023-03-08T21:57:17.054274Z",
     "shell.execute_reply.started": "2023-03-08T21:57:17.040768Z"
    },
    "tags": []
   },
   "outputs": [],
   "source": [
    "# Read pcm \n",
    "PCM_new_addres = glob.glob(dr1+'PCM_new/*')"
   ]
  },
  {
   "cell_type": "code",
   "execution_count": 15,
   "id": "168fbe87-342e-4487-ab4a-1773ec372622",
   "metadata": {
    "execution": {
     "iopub.execute_input": "2023-03-08T21:57:17.242394Z",
     "iopub.status.busy": "2023-03-08T21:57:17.241858Z",
     "iopub.status.idle": "2023-03-08T21:57:17.421693Z",
     "shell.execute_reply": "2023-03-08T21:57:17.421214Z",
     "shell.execute_reply.started": "2023-03-08T21:57:17.242359Z"
    },
    "tags": []
   },
   "outputs": [],
   "source": [
    "motif_dic = {} # a dictionary: key is the TF name and value is the motif object \n",
    "for x in PCM_new_addres:\n",
    "    # temp_x = x.split('PCM_new\\\\')[1].split('.')[1]\n",
    "    temp_x = x.split('PCM_new/')[1].split('.')[1]\n",
    "    with open(x,'r') as handler:\n",
    "        temp_motif = motifs.read(handler, \"pfm\")\n",
    "    motif_dic[temp_x] = temp_motif   "
   ]
  },
  {
   "cell_type": "markdown",
   "id": "37e6eae1-d468-4c7b-a5d1-4c789c9ef03c",
   "metadata": {},
   "source": [
    "#### Generate background distribution"
   ]
  },
  {
   "cell_type": "code",
   "execution_count": 16,
   "id": "52309f33-7d18-40e7-977e-01a40f5f6f59",
   "metadata": {
    "execution": {
     "iopub.execute_input": "2023-03-08T21:57:17.937746Z",
     "iopub.status.busy": "2023-03-08T21:57:17.936870Z",
     "iopub.status.idle": "2023-03-08T21:57:17.958177Z",
     "shell.execute_reply": "2023-03-08T21:57:17.957500Z",
     "shell.execute_reply.started": "2023-03-08T21:57:17.937698Z"
    },
    "tags": []
   },
   "outputs": [],
   "source": [
    "# To calculate ATGC content, I combine all the promoter sequence into a long string\n",
    "SCD_total_promoter_string = ''.join(SCD_short['P_Cluster_seq'])"
   ]
  },
  {
   "cell_type": "code",
   "execution_count": 17,
   "id": "cbd8d8ad-addb-45fe-908e-7ab0620563f2",
   "metadata": {
    "execution": {
     "iopub.execute_input": "2023-03-08T21:57:18.149566Z",
     "iopub.status.busy": "2023-03-08T21:57:18.148734Z",
     "iopub.status.idle": "2023-03-08T21:57:18.228936Z",
     "shell.execute_reply": "2023-03-08T21:57:18.228452Z",
     "shell.execute_reply.started": "2023-03-08T21:57:18.149509Z"
    },
    "tags": []
   },
   "outputs": [],
   "source": [
    "# background will be a dictionary\n",
    "SCD_background = generate_background_ratio(SCD_total_promoter_string)"
   ]
  },
  {
   "cell_type": "markdown",
   "id": "693d6ea4-3ad5-4b85-837e-12db8fee9ad8",
   "metadata": {},
   "source": [
    "* **<font color=blue>Nucleotide content are very similar in three promoter library, so I just picked SCD one</font>**"
   ]
  },
  {
   "cell_type": "markdown",
   "id": "d951ebda-940d-4d61-91b3-e7b74b49a39f",
   "metadata": {
    "tags": []
   },
   "source": [
    "#### Convert pfm to pssm (Position-Specific Scoring Matrices)"
   ]
  },
  {
   "cell_type": "code",
   "execution_count": 18,
   "id": "b08dff23-ad20-4f2f-9453-078761435da6",
   "metadata": {
    "execution": {
     "iopub.execute_input": "2023-03-08T21:57:19.398211Z",
     "iopub.status.busy": "2023-03-08T21:57:19.397329Z",
     "iopub.status.idle": "2023-03-08T21:57:19.406164Z",
     "shell.execute_reply": "2023-03-08T21:57:19.404767Z",
     "shell.execute_reply.started": "2023-03-08T21:57:19.398168Z"
    },
    "tags": []
   },
   "outputs": [],
   "source": [
    "pseudocounts = {}\n",
    "for key,value in SCD_background.items():\n",
    "    pseudocounts[key] = value*2"
   ]
  },
  {
   "cell_type": "code",
   "execution_count": 19,
   "id": "9476da39-3642-4487-b6de-79b2cbc800df",
   "metadata": {
    "execution": {
     "iopub.execute_input": "2023-03-08T21:57:20.026608Z",
     "iopub.status.busy": "2023-03-08T21:57:20.026264Z",
     "iopub.status.idle": "2023-03-08T21:57:20.081618Z",
     "shell.execute_reply": "2023-03-08T21:57:20.080926Z",
     "shell.execute_reply.started": "2023-03-08T21:57:20.026585Z"
    },
    "tags": []
   },
   "outputs": [],
   "source": [
    "motif_pssm_dic = {} # a dictionary for storing position-specific-scoring matrices\n",
    "for key,value in motif_dic.items():\n",
    "    temp_pssm = value.counts.normalize(pseudocounts).log_odds(SCD_background)\n",
    "    motif_pssm_dic[key] = temp_pssm"
   ]
  },
  {
   "cell_type": "markdown",
   "id": "8e14a23d-0a95-4897-9924-5ad083b6fc2e",
   "metadata": {},
   "source": [
    "## 5 Find TF binding in our promoters"
   ]
  },
  {
   "cell_type": "markdown",
   "id": "bfc3874e-dba9-4f74-a662-c3331a96775f",
   "metadata": {},
   "source": [
    "### 5.1 Filter promoter's based on summary data"
   ]
  },
  {
   "cell_type": "code",
   "execution_count": null,
   "id": "ddfe5e57-d655-4c78-b819-f66b956b89c4",
   "metadata": {
    "execution": {
     "iopub.execute_input": "2023-03-08T22:05:50.828867Z",
     "iopub.status.busy": "2023-03-08T22:05:50.826066Z",
     "iopub.status.idle": "2023-03-08T22:05:53.875873Z",
     "shell.execute_reply": "2023-03-08T22:05:53.875383Z",
     "shell.execute_reply.started": "2023-03-08T22:05:50.828774Z"
    }
   },
   "outputs": [],
   "source": [
    "# Read gene expression from summary the csv file\n",
    "SCD_summary = pd.read_csv(SCD_summary_address)\n",
    "YPD_summary = pd.read_csv(YPD_summary_address)"
   ]
  },
  {
   "cell_type": "code",
   "execution_count": null,
   "id": "59b5b579-3187-4f55-b87f-7ae31d2dde3f",
   "metadata": {
    "execution": {
     "iopub.execute_input": "2023-03-08T22:07:29.727651Z",
     "iopub.status.busy": "2023-03-08T22:07:29.726639Z",
     "iopub.status.idle": "2023-03-08T22:07:29.763355Z",
     "shell.execute_reply": "2023-03-08T22:07:29.762826Z",
     "shell.execute_reply.started": "2023-03-08T22:07:29.727599Z"
    }
   },
   "outputs": [],
   "source": [
    "# filter summary data based on percentage of PC, RNA count and DNA count\n",
    "temp_cut_control = 1.0\n",
    "temp_cut_RNA = 0\n",
    "temp_cut_DNA = 100\n",
    "temp_df_1 = SCD_summary[\n",
    "    (SCD_summary['Percentile_of_PC'] == temp_cut_control) & (\n",
    "        SCD_summary['RNA_cut_off'] == temp_cut_RNA) & (\n",
    "        SCD_summary['DNA_cut_off'] == temp_cut_DNA)]\n",
    "temp_df_2 = YPD_summary[\n",
    "    (YPD_summary['Percentile_of_PC'] == temp_cut_control) & (\n",
    "        YPD_summary['RNA_cut_off'] == temp_cut_RNA)&(\n",
    "        YPD_summary['DNA_cut_off'] == temp_cut_DNA)]"
   ]
  },
  {
   "cell_type": "markdown",
   "id": "5110bae2-e7ef-4822-8ad5-ce8b315574bd",
   "metadata": {
    "tags": []
   },
   "source": [
    "### 5.2 Search motif match"
   ]
  },
  {
   "cell_type": "code",
   "execution_count": null,
   "id": "dea918b8-3f6a-4c5b-a967-be297ea9eded",
   "metadata": {
    "execution": {
     "iopub.execute_input": "2023-03-08T21:57:23.682174Z",
     "iopub.status.busy": "2023-03-08T21:57:23.681437Z",
     "iopub.status.idle": "2023-03-08T22:05:20.708004Z",
     "shell.execute_reply": "2023-03-08T22:05:20.706881Z",
     "shell.execute_reply.started": "2023-03-08T21:57:23.682140Z"
    },
    "tags": []
   },
   "outputs": [],
   "source": [
    "SCD_motif_df = find_motif_new(SCD_short, motif_pssm_dic, PCM_cutoff_df_dic)"
   ]
  },
  {
   "cell_type": "code",
   "execution_count": null,
   "id": "72a30aef-1637-48be-8472-5266720d1953",
   "metadata": {
    "execution": {
     "iopub.status.busy": "2023-03-08T22:05:20.709263Z",
     "iopub.status.idle": "2023-03-08T22:05:20.709493Z",
     "shell.execute_reply": "2023-03-08T22:05:20.709408Z",
     "shell.execute_reply.started": "2023-03-08T22:05:20.709399Z"
    }
   },
   "outputs": [],
   "source": [
    "YPD_motif_df = find_motif_new(YPD_short, motif_pssm_dic, PCM_cutoff_df_dic)"
   ]
  },
  {
   "cell_type": "code",
   "execution_count": 40,
   "id": "66006105-0ea5-4b57-a29f-0de088d2c02c",
   "metadata": {},
   "outputs": [
    {
     "name": "stderr",
     "output_type": "stream",
     "text": [
      "C:\\Users\\lumia\\anaconda3\\lib\\site-packages\\ipykernel_launcher.py:51: PerformanceWarning: DataFrame is highly fragmented.  This is usually the result of calling `frame.insert` many times, which has poor performance.  Consider joining all columns at once using pd.concat(axis=1) instead.  To get a de-fragmented frame, use `newframe = frame.copy()`\n",
      "C:\\Users\\lumia\\anaconda3\\lib\\site-packages\\ipykernel_launcher.py:52: PerformanceWarning: DataFrame is highly fragmented.  This is usually the result of calling `frame.insert` many times, which has poor performance.  Consider joining all columns at once using pd.concat(axis=1) instead.  To get a de-fragmented frame, use `newframe = frame.copy()`\n",
      "C:\\Users\\lumia\\anaconda3\\lib\\site-packages\\ipykernel_launcher.py:53: PerformanceWarning: DataFrame is highly fragmented.  This is usually the result of calling `frame.insert` many times, which has poor performance.  Consider joining all columns at once using pd.concat(axis=1) instead.  To get a de-fragmented frame, use `newframe = frame.copy()`\n"
     ]
    }
   ],
   "source": [
    "# test in only the more than negative control part\n",
    "temp_input1 = temp_df_1\n",
    "temp_input2 = SCD_short\n",
    "# temp_cut = list(np.linspace(0,95,20)/100)\n",
    "# [0,0.2,0.4,0.6,0.8,1]\n",
    "temp_filtered = temp_input2.loc[set(ast.literal_eval(temp_input1['barcode_better_than_nc_list'].values[0]))&set(temp_input2.index)]\n",
    "SCD_motif_df_sub  = find_motif_new(temp_filtered, motif_pssm_dic, PCM_cutoff_df_dic)"
   ]
  },
  {
   "cell_type": "code",
   "execution_count": 41,
   "id": "590b449f-ee4f-42f8-90a1-299ad12fa865",
   "metadata": {},
   "outputs": [
    {
     "name": "stderr",
     "output_type": "stream",
     "text": [
      "C:\\Users\\lumia\\anaconda3\\lib\\site-packages\\ipykernel_launcher.py:51: PerformanceWarning: DataFrame is highly fragmented.  This is usually the result of calling `frame.insert` many times, which has poor performance.  Consider joining all columns at once using pd.concat(axis=1) instead.  To get a de-fragmented frame, use `newframe = frame.copy()`\n",
      "C:\\Users\\lumia\\anaconda3\\lib\\site-packages\\ipykernel_launcher.py:52: PerformanceWarning: DataFrame is highly fragmented.  This is usually the result of calling `frame.insert` many times, which has poor performance.  Consider joining all columns at once using pd.concat(axis=1) instead.  To get a de-fragmented frame, use `newframe = frame.copy()`\n",
      "C:\\Users\\lumia\\anaconda3\\lib\\site-packages\\ipykernel_launcher.py:53: PerformanceWarning: DataFrame is highly fragmented.  This is usually the result of calling `frame.insert` many times, which has poor performance.  Consider joining all columns at once using pd.concat(axis=1) instead.  To get a de-fragmented frame, use `newframe = frame.copy()`\n"
     ]
    }
   ],
   "source": [
    "# test in only the more than negative control part\n",
    "temp_input1 = temp_df_2\n",
    "temp_input2 = YPD_short\n",
    "# temp_cut = list(np.linspace(0,95,20)/100)\n",
    "# [0,0.2,0.4,0.6,0.8,1]\n",
    "temp_filtered = temp_input2.loc[set(ast.literal_eval(temp_input1['barcode_better_than_nc_list'].values[0]))&set(temp_input2.index)]\n",
    "YPD_motif_df_sub  = find_motif_new(temp_filtered, motif_pssm_dic, PCM_cutoff_df_dic)"
   ]
  },
  {
   "cell_type": "code",
   "execution_count": 42,
   "id": "35125bb7-c120-4718-b55f-ffc9eef10ed5",
   "metadata": {},
   "outputs": [],
   "source": [
    "# # Output \n",
    "# SCD_motif_df.to_csv(dr1 + 'SCD_motif_df.csv', index=True)\n",
    "# YPD_motif_df.to_csv(dr1 + 'YPD_motif_df.csv', index=True)"
   ]
  },
  {
   "cell_type": "code",
   "execution_count": 43,
   "id": "ac850c69-c029-4a69-8ffc-b5d486f32017",
   "metadata": {},
   "outputs": [],
   "source": [
    "# SCD_motif_df = pd.read_csv(dr1 + 'SCD_motif_df.csv', index_col = 0)\n",
    "# YPD_motif_df = pd.read_csv(dr1 + 'YPD_motif_df.csv', index_col = 0)"
   ]
  },
  {
   "cell_type": "code",
   "execution_count": 67,
   "id": "ca1b87ca-0784-4a41-965b-4564aae35c77",
   "metadata": {},
   "outputs": [],
   "source": [
    "# Combine data\n",
    "SCD_promoter_df_final = pd.merge(SCD_short, SCD_motif_df, left_index=True, right_index=True)\n",
    "YPD_promoter_df_final = pd.merge(YPD_short, YPD_motif_df, left_index=True, right_index=True)"
   ]
  },
  {
   "cell_type": "code",
   "execution_count": 68,
   "id": "70e21573-0252-404a-9941-d5294fff64ae",
   "metadata": {},
   "outputs": [],
   "source": [
    "# Combine data\n",
    "SCD_sub_df_final = pd.merge(SCD_short, SCD_motif_df_sub, left_index=True, right_index=True)\n",
    "YPD_sub_df_final = pd.merge(YPD_short, YPD_motif_df_sub , left_index=True, right_index=True)"
   ]
  },
  {
   "cell_type": "code",
   "execution_count": 50,
   "id": "3069546b-101d-44aa-8c11-4ce5e9f47a78",
   "metadata": {},
   "outputs": [
    {
     "data": {
      "text/plain": [
       "588"
      ]
     },
     "execution_count": 50,
     "metadata": {},
     "output_type": "execute_result"
    }
   ],
   "source": [
    "# Output"
   ]
  },
  {
   "cell_type": "code",
   "execution_count": 71,
   "id": "864ffed5-5f99-4f25-84b3-2ec8e0f0aa7b",
   "metadata": {},
   "outputs": [],
   "source": [
    "# SCD_promoter_df_final.to_csv(dr1 + 'SCD_ScerTF_motif_df_final.csv', index=True)\n",
    "# YPD_promoter_df_final.to_csv(dr1 + 'YPD_ScerTF_motif_df_final.csv', index=True)"
   ]
  },
  {
   "cell_type": "code",
   "execution_count": 72,
   "id": "2c40d357-1ceb-4a0a-8d9b-f3b0c3c553e3",
   "metadata": {},
   "outputs": [],
   "source": [
    "# SCD_sub_df_final.to_csv(dr1 + 'SCD_sub_ScerTF_motif_df_final.csv', index=True)\n",
    "# YPD_sub_df_final.to_csv(dr1 + 'YPD_sub_ScerTF_motif_df_final.csv', index=True)"
   ]
  },
  {
   "cell_type": "code",
   "execution_count": null,
   "id": "f83628bb-30e4-4c38-b6cf-6ddc43eff3d3",
   "metadata": {},
   "outputs": [],
   "source": [
    "# # read motif information\n",
    "# SCD_promoter_df_final = pd.read_csv(dr1 + 'SCD_ScerTF_motif_df_final.csv', index_col =0)\n",
    "# YPD_promoter_df_final = pd.read_csv(dr1 + 'YPD_ScerTF_motif_df_final.csv', index_col =0)"
   ]
  },
  {
   "cell_type": "markdown",
   "id": "d8767b88-6bcb-434c-a15b-f58a88d08e15",
   "metadata": {
    "tags": []
   },
   "source": [
    "### 5.3 Summarize fold change for each gene by rank sum test"
   ]
  },
  {
   "cell_type": "code",
   "execution_count": 55,
   "id": "170d0609-7b61-40b7-81d7-e7f6392ceca8",
   "metadata": {},
   "outputs": [
    {
     "data": {
      "text/html": [
       "<div>\n",
       "<style scoped>\n",
       "    .dataframe tbody tr th:only-of-type {\n",
       "        vertical-align: middle;\n",
       "    }\n",
       "\n",
       "    .dataframe tbody tr th {\n",
       "        vertical-align: top;\n",
       "    }\n",
       "\n",
       "    .dataframe thead th {\n",
       "        text-align: right;\n",
       "    }\n",
       "</style>\n",
       "<table border=\"1\" class=\"dataframe\">\n",
       "  <thead>\n",
       "    <tr style=\"text-align: right;\">\n",
       "      <th></th>\n",
       "      <th>P_Cluster_seq</th>\n",
       "      <th>expression_normalized</th>\n",
       "      <th>Mean_normalized_relative</th>\n",
       "      <th>GC_content</th>\n",
       "      <th>TATA_box</th>\n",
       "      <th>GC_content_PB</th>\n",
       "      <th>TATA_box_PB</th>\n",
       "      <th>ABF2</th>\n",
       "      <th>CAT8</th>\n",
       "      <th>CST6</th>\n",
       "      <th>...</th>\n",
       "      <th>TEA1_r_position</th>\n",
       "      <th>TOD6_r_position</th>\n",
       "      <th>YKL222C_r_position</th>\n",
       "      <th>YLL054C_r_position</th>\n",
       "      <th>YPR013C_r_position</th>\n",
       "      <th>YPR015C_r_position</th>\n",
       "      <th>YRM1_r_position</th>\n",
       "      <th>Total_motif_count</th>\n",
       "      <th>Total_motif_count_f</th>\n",
       "      <th>Total_motif_count_r</th>\n",
       "    </tr>\n",
       "  </thead>\n",
       "  <tbody>\n",
       "    <tr>\n",
       "      <th>GTACACGACTGAGTTGCGGG</th>\n",
       "      <td>TCTTTTGATGTTTCAGAATGTTAGAACGGGCCAGGTCGTAGGATGT...</td>\n",
       "      <td>1.135523</td>\n",
       "      <td>1.311730</td>\n",
       "      <td>0.450000</td>\n",
       "      <td>0</td>\n",
       "      <td>0.478261</td>\n",
       "      <td>0</td>\n",
       "      <td>0</td>\n",
       "      <td>0</td>\n",
       "      <td>1</td>\n",
       "      <td>...</td>\n",
       "      <td>0000000000000000000000000000000000000000000000...</td>\n",
       "      <td>0000000000000000000000000000000000000000000000...</td>\n",
       "      <td>0000000000000000000000000000000000000000000000...</td>\n",
       "      <td>0000000000000000000000000000000000000000000000...</td>\n",
       "      <td>0000000000000000000000000000000000000000000000...</td>\n",
       "      <td>0000000000000000000000000000000000000000000000...</td>\n",
       "      <td>0000000000000000000000000000000000000000000000...</td>\n",
       "      <td>42</td>\n",
       "      <td>20</td>\n",
       "      <td>22</td>\n",
       "    </tr>\n",
       "    <tr>\n",
       "      <th>CTGCGTTTGGAAGGGTACAA</th>\n",
       "      <td>CAGTAGGGGCGCACGGCTGCAGTAAGATTCAAGTTTTATTGCTTAT...</td>\n",
       "      <td>0.880042</td>\n",
       "      <td>0.858114</td>\n",
       "      <td>0.358974</td>\n",
       "      <td>0</td>\n",
       "      <td>0.398734</td>\n",
       "      <td>0</td>\n",
       "      <td>0</td>\n",
       "      <td>0</td>\n",
       "      <td>0</td>\n",
       "      <td>...</td>\n",
       "      <td>0000000000000000000000000000000000000000000000...</td>\n",
       "      <td>0000000000000000000000000000000000000000000000...</td>\n",
       "      <td>0000000000000000000000000000000000000000000000...</td>\n",
       "      <td>0000000000000000000000000000000000000000000000...</td>\n",
       "      <td>0000000000000000000000000000000000000000000000...</td>\n",
       "      <td>0000000000000000000000000000000000000000000000...</td>\n",
       "      <td>0000000000000000000000000000000000000000000000...</td>\n",
       "      <td>60</td>\n",
       "      <td>32</td>\n",
       "      <td>28</td>\n",
       "    </tr>\n",
       "    <tr>\n",
       "      <th>GGTACCTGGGCAGGCAAGAG</th>\n",
       "      <td>GTATGAGTTAATGGCAGTGAAACTGTAGGATGTTTGTGCCGCAATA...</td>\n",
       "      <td>0.000000</td>\n",
       "      <td>0.000000</td>\n",
       "      <td>0.441667</td>\n",
       "      <td>0</td>\n",
       "      <td>0.478261</td>\n",
       "      <td>0</td>\n",
       "      <td>0</td>\n",
       "      <td>0</td>\n",
       "      <td>1</td>\n",
       "      <td>...</td>\n",
       "      <td>0000000000000000000000000000000000000000000000...</td>\n",
       "      <td>0000000000000000000000000000000000000000000000...</td>\n",
       "      <td>0000000000000000000000000000000000000000000000...</td>\n",
       "      <td>0000000000000000000000000000000000000000000000...</td>\n",
       "      <td>0000000000000000000000000000000000000000000000...</td>\n",
       "      <td>0000000000000000000000000000000000000000000000...</td>\n",
       "      <td>0000000000000000000000000000000000000000000000...</td>\n",
       "      <td>31</td>\n",
       "      <td>15</td>\n",
       "      <td>16</td>\n",
       "    </tr>\n",
       "    <tr>\n",
       "      <th>TATAATTGGTAAGTTAATCC</th>\n",
       "      <td>GGTTTTCGATGCATCTGTGTTTGTGTGAAGTTTGATCGAGCGAAAA...</td>\n",
       "      <td>0.553302</td>\n",
       "      <td>0.523018</td>\n",
       "      <td>0.416667</td>\n",
       "      <td>0</td>\n",
       "      <td>0.409938</td>\n",
       "      <td>0</td>\n",
       "      <td>0</td>\n",
       "      <td>0</td>\n",
       "      <td>1</td>\n",
       "      <td>...</td>\n",
       "      <td>0000000000000000000000000000000000000000000000...</td>\n",
       "      <td>0000000000000000000000000000000000000000000000...</td>\n",
       "      <td>0000000000000000000000000000000000000000000000...</td>\n",
       "      <td>0000000000000000000000000000000000000000000000...</td>\n",
       "      <td>0000000000000000000000000000000000000000000000...</td>\n",
       "      <td>0000000000000000000000000000000000000000000000...</td>\n",
       "      <td>0000000000000000000000000000000000000000000000...</td>\n",
       "      <td>57</td>\n",
       "      <td>31</td>\n",
       "      <td>26</td>\n",
       "    </tr>\n",
       "    <tr>\n",
       "      <th>TAAAGCGTGGGTCAGGGGGT</th>\n",
       "      <td>CGGATTTCCGGCACGCAGGAATTGAAGATTCAGGTTATTGGGTTGT...</td>\n",
       "      <td>1.177114</td>\n",
       "      <td>1.533146</td>\n",
       "      <td>0.441667</td>\n",
       "      <td>0</td>\n",
       "      <td>0.472050</td>\n",
       "      <td>0</td>\n",
       "      <td>0</td>\n",
       "      <td>2</td>\n",
       "      <td>1</td>\n",
       "      <td>...</td>\n",
       "      <td>0000000000000000000000000000000000000000000000...</td>\n",
       "      <td>0000000000000000000000000000000000000000000000...</td>\n",
       "      <td>0100000000000000000000000000000000000000000000...</td>\n",
       "      <td>0000000000000000000000000000000000000000000000...</td>\n",
       "      <td>0100000000000000000000000000000000000000000000...</td>\n",
       "      <td>0000000000000000000000000000000000000000000000...</td>\n",
       "      <td>0000000000000000000000000000000000000000000000...</td>\n",
       "      <td>53</td>\n",
       "      <td>25</td>\n",
       "      <td>28</td>\n",
       "    </tr>\n",
       "  </tbody>\n",
       "</table>\n",
       "<p>5 rows × 990 columns</p>\n",
       "</div>"
      ],
      "text/plain": [
       "                                                          P_Cluster_seq  \\\n",
       "GTACACGACTGAGTTGCGGG  TCTTTTGATGTTTCAGAATGTTAGAACGGGCCAGGTCGTAGGATGT...   \n",
       "CTGCGTTTGGAAGGGTACAA  CAGTAGGGGCGCACGGCTGCAGTAAGATTCAAGTTTTATTGCTTAT...   \n",
       "GGTACCTGGGCAGGCAAGAG  GTATGAGTTAATGGCAGTGAAACTGTAGGATGTTTGTGCCGCAATA...   \n",
       "TATAATTGGTAAGTTAATCC  GGTTTTCGATGCATCTGTGTTTGTGTGAAGTTTGATCGAGCGAAAA...   \n",
       "TAAAGCGTGGGTCAGGGGGT  CGGATTTCCGGCACGCAGGAATTGAAGATTCAGGTTATTGGGTTGT...   \n",
       "\n",
       "                      expression_normalized  Mean_normalized_relative  \\\n",
       "GTACACGACTGAGTTGCGGG               1.135523                  1.311730   \n",
       "CTGCGTTTGGAAGGGTACAA               0.880042                  0.858114   \n",
       "GGTACCTGGGCAGGCAAGAG               0.000000                  0.000000   \n",
       "TATAATTGGTAAGTTAATCC               0.553302                  0.523018   \n",
       "TAAAGCGTGGGTCAGGGGGT               1.177114                  1.533146   \n",
       "\n",
       "                      GC_content  TATA_box  GC_content_PB  TATA_box_PB  ABF2  \\\n",
       "GTACACGACTGAGTTGCGGG    0.450000         0       0.478261            0     0   \n",
       "CTGCGTTTGGAAGGGTACAA    0.358974         0       0.398734            0     0   \n",
       "GGTACCTGGGCAGGCAAGAG    0.441667         0       0.478261            0     0   \n",
       "TATAATTGGTAAGTTAATCC    0.416667         0       0.409938            0     0   \n",
       "TAAAGCGTGGGTCAGGGGGT    0.441667         0       0.472050            0     0   \n",
       "\n",
       "                      CAT8  CST6  ...  \\\n",
       "GTACACGACTGAGTTGCGGG     0     1  ...   \n",
       "CTGCGTTTGGAAGGGTACAA     0     0  ...   \n",
       "GGTACCTGGGCAGGCAAGAG     0     1  ...   \n",
       "TATAATTGGTAAGTTAATCC     0     1  ...   \n",
       "TAAAGCGTGGGTCAGGGGGT     2     1  ...   \n",
       "\n",
       "                                                        TEA1_r_position  \\\n",
       "GTACACGACTGAGTTGCGGG  0000000000000000000000000000000000000000000000...   \n",
       "CTGCGTTTGGAAGGGTACAA  0000000000000000000000000000000000000000000000...   \n",
       "GGTACCTGGGCAGGCAAGAG  0000000000000000000000000000000000000000000000...   \n",
       "TATAATTGGTAAGTTAATCC  0000000000000000000000000000000000000000000000...   \n",
       "TAAAGCGTGGGTCAGGGGGT  0000000000000000000000000000000000000000000000...   \n",
       "\n",
       "                                                        TOD6_r_position  \\\n",
       "GTACACGACTGAGTTGCGGG  0000000000000000000000000000000000000000000000...   \n",
       "CTGCGTTTGGAAGGGTACAA  0000000000000000000000000000000000000000000000...   \n",
       "GGTACCTGGGCAGGCAAGAG  0000000000000000000000000000000000000000000000...   \n",
       "TATAATTGGTAAGTTAATCC  0000000000000000000000000000000000000000000000...   \n",
       "TAAAGCGTGGGTCAGGGGGT  0000000000000000000000000000000000000000000000...   \n",
       "\n",
       "                                                     YKL222C_r_position  \\\n",
       "GTACACGACTGAGTTGCGGG  0000000000000000000000000000000000000000000000...   \n",
       "CTGCGTTTGGAAGGGTACAA  0000000000000000000000000000000000000000000000...   \n",
       "GGTACCTGGGCAGGCAAGAG  0000000000000000000000000000000000000000000000...   \n",
       "TATAATTGGTAAGTTAATCC  0000000000000000000000000000000000000000000000...   \n",
       "TAAAGCGTGGGTCAGGGGGT  0100000000000000000000000000000000000000000000...   \n",
       "\n",
       "                                                     YLL054C_r_position  \\\n",
       "GTACACGACTGAGTTGCGGG  0000000000000000000000000000000000000000000000...   \n",
       "CTGCGTTTGGAAGGGTACAA  0000000000000000000000000000000000000000000000...   \n",
       "GGTACCTGGGCAGGCAAGAG  0000000000000000000000000000000000000000000000...   \n",
       "TATAATTGGTAAGTTAATCC  0000000000000000000000000000000000000000000000...   \n",
       "TAAAGCGTGGGTCAGGGGGT  0000000000000000000000000000000000000000000000...   \n",
       "\n",
       "                                                     YPR013C_r_position  \\\n",
       "GTACACGACTGAGTTGCGGG  0000000000000000000000000000000000000000000000...   \n",
       "CTGCGTTTGGAAGGGTACAA  0000000000000000000000000000000000000000000000...   \n",
       "GGTACCTGGGCAGGCAAGAG  0000000000000000000000000000000000000000000000...   \n",
       "TATAATTGGTAAGTTAATCC  0000000000000000000000000000000000000000000000...   \n",
       "TAAAGCGTGGGTCAGGGGGT  0100000000000000000000000000000000000000000000...   \n",
       "\n",
       "                                                     YPR015C_r_position  \\\n",
       "GTACACGACTGAGTTGCGGG  0000000000000000000000000000000000000000000000...   \n",
       "CTGCGTTTGGAAGGGTACAA  0000000000000000000000000000000000000000000000...   \n",
       "GGTACCTGGGCAGGCAAGAG  0000000000000000000000000000000000000000000000...   \n",
       "TATAATTGGTAAGTTAATCC  0000000000000000000000000000000000000000000000...   \n",
       "TAAAGCGTGGGTCAGGGGGT  0000000000000000000000000000000000000000000000...   \n",
       "\n",
       "                                                        YRM1_r_position  \\\n",
       "GTACACGACTGAGTTGCGGG  0000000000000000000000000000000000000000000000...   \n",
       "CTGCGTTTGGAAGGGTACAA  0000000000000000000000000000000000000000000000...   \n",
       "GGTACCTGGGCAGGCAAGAG  0000000000000000000000000000000000000000000000...   \n",
       "TATAATTGGTAAGTTAATCC  0000000000000000000000000000000000000000000000...   \n",
       "TAAAGCGTGGGTCAGGGGGT  0000000000000000000000000000000000000000000000...   \n",
       "\n",
       "                      Total_motif_count  Total_motif_count_f  \\\n",
       "GTACACGACTGAGTTGCGGG                 42                   20   \n",
       "CTGCGTTTGGAAGGGTACAA                 60                   32   \n",
       "GGTACCTGGGCAGGCAAGAG                 31                   15   \n",
       "TATAATTGGTAAGTTAATCC                 57                   31   \n",
       "TAAAGCGTGGGTCAGGGGGT                 53                   25   \n",
       "\n",
       "                      Total_motif_count_r  \n",
       "GTACACGACTGAGTTGCGGG                   22  \n",
       "CTGCGTTTGGAAGGGTACAA                   28  \n",
       "GGTACCTGGGCAGGCAAGAG                   16  \n",
       "TATAATTGGTAAGTTAATCC                   26  \n",
       "TAAAGCGTGGGTCAGGGGGT                   28  \n",
       "\n",
       "[5 rows x 990 columns]"
      ]
     },
     "execution_count": 55,
     "metadata": {},
     "output_type": "execute_result"
    }
   ],
   "source": [
    "SCD_promoter_df_final.head()"
   ]
  },
  {
   "cell_type": "code",
   "execution_count": 56,
   "id": "56269947-ebee-49a2-972e-3c42228fa39c",
   "metadata": {},
   "outputs": [
    {
     "name": "stderr",
     "output_type": "stream",
     "text": [
      "C:\\Users\\lumia\\anaconda3\\lib\\site-packages\\scipy\\stats\\stats.py:7784: RuntimeWarning: invalid value encountered in double_scalars\n",
      "  z = (s - expected) / np.sqrt(n1*n2*(n1+n2+1)/12.0)\n"
     ]
    }
   ],
   "source": [
    "temp_name = list(PCM_cutoff_df_dic.keys())+[x+'_f' for x in list(PCM_cutoff_df_dic.keys())]+[x+'_r' for x in list(PCM_cutoff_df_dic.keys())]\n",
    "SCD_fold_df = find_fold(SCD_promoter_df_final,temp_name)\n",
    "YPD_fold_df = find_fold(YPD_promoter_df_final,temp_name)"
   ]
  },
  {
   "cell_type": "code",
   "execution_count": 57,
   "id": "df1bad62-d01f-4e5f-9ac9-7d8927ebbb19",
   "metadata": {},
   "outputs": [
    {
     "name": "stderr",
     "output_type": "stream",
     "text": [
      "C:\\Users\\lumia\\anaconda3\\lib\\site-packages\\numpy\\core\\fromnumeric.py:3724: RuntimeWarning: Degrees of freedom <= 0 for slice\n",
      "  **kwargs)\n",
      "C:\\Users\\lumia\\anaconda3\\lib\\site-packages\\numpy\\core\\_methods.py:254: RuntimeWarning: invalid value encountered in double_scalars\n",
      "  ret = ret.dtype.type(ret / rcount)\n"
     ]
    }
   ],
   "source": [
    "SCD_sub_fold_df = find_fold(SCD_sub_df_final,temp_name)\n",
    "YPD_sub_fold_df = find_fold(YPD_sub_df_final,temp_name)"
   ]
  },
  {
   "cell_type": "code",
   "execution_count": 57,
   "id": "7e4d50b9-37ab-4c51-a925-572fce9843b6",
   "metadata": {
    "execution": {
     "iopub.execute_input": "2023-03-08T19:15:11.689428Z",
     "iopub.status.busy": "2023-03-08T19:15:11.682438Z",
     "iopub.status.idle": "2023-03-08T19:15:14.296257Z",
     "shell.execute_reply": "2023-03-08T19:15:14.295631Z",
     "shell.execute_reply.started": "2023-03-08T19:15:11.689352Z"
    },
    "tags": []
   },
   "outputs": [],
   "source": [
    "# # read promoter complete information\n",
    "# YPD_promoter_df = pd.read_csv(dr1 + 'YPD_promoter_output.csv', index_col =0)\n",
    "# SCD_promoter_df = pd.read_csv(dr1 + 'SCD_promoter_output.csv', index_col =0)"
   ]
  },
  {
   "cell_type": "code",
   "execution_count": 73,
   "id": "56c56867-8420-4aa3-b198-5ac1ab7a820a",
   "metadata": {},
   "outputs": [],
   "source": [
    "SCD_fold_df.to_csv(dr1 + 'SCD_ScerTF_fold_df.csv',index =True)\n",
    "YPD_fold_df.to_csv(dr1 + 'YPD_ScerTF_fold_df.csv',index =True)"
   ]
  },
  {
   "cell_type": "code",
   "execution_count": 74,
   "id": "8ce43032-8bed-4ce3-9cc7-d4219789e700",
   "metadata": {},
   "outputs": [],
   "source": [
    "SCD_sub_fold_df.to_csv(dr1 + 'SCD_ScerTF_sub_fold_df.csv',index =True)\n",
    "YPD_sub_fold_df.to_csv(dr1 + 'YPD_ScerTF_sub_fold_df.csv',index =True)"
   ]
  },
  {
   "cell_type": "markdown",
   "id": "ed309a92-5119-4af2-9418-c7f9297174de",
   "metadata": {},
   "source": [
    "### 5.4 More strigent filter on DNA reads"
   ]
  },
  {
   "cell_type": "code",
   "execution_count": 18,
   "id": "fc4c8e89-bec7-46a7-b6de-0961e52e25d9",
   "metadata": {},
   "outputs": [],
   "source": [
    "# The above analysis include promoter that at least have one DNA count in each dataset\n",
    "# next I am going to use a more stringent filter"
   ]
  },
  {
   "cell_type": "code",
   "execution_count": 26,
   "id": "4f5f6b2b-1030-4ff1-8834-01a07c7fc491",
   "metadata": {},
   "outputs": [],
   "source": [
    "def all_present_total_new(input_df,cutoff_DNA,cutoff_RNA):\n",
    "    temp_df=input_df[(input_df['DNA_absolute_count_S1']>=cutoff_DNA)&\n",
    "                     (input_df['DNA_absolute_count_S2']>=cutoff_DNA)&\n",
    "                     (input_df['DNA_absolute_count_S3']>=cutoff_DNA)&\n",
    "                     (input_df['RNA_absolute_count_S1']>=cutoff_RNA)&\n",
    "                     (input_df['RNA_absolute_count_S2']>=cutoff_RNA)&\n",
    "                     (input_df['RNA_absolute_count_S3']>=cutoff_RNA)]\n",
    "    return(temp_df)"
   ]
  },
  {
   "cell_type": "code",
   "execution_count": 32,
   "id": "77ef27a5-c6e6-4b17-9714-fe8d1a268d67",
   "metadata": {},
   "outputs": [
    {
     "name": "stderr",
     "output_type": "stream",
     "text": [
      "C:\\Users\\lumia\\anaconda3\\lib\\site-packages\\scipy\\stats\\stats.py:7784: RuntimeWarning: invalid value encountered in double_scalars\n",
      "  z = (s - expected) / np.sqrt(n1*n2*(n1+n2+1)/12.0)\n"
     ]
    }
   ],
   "source": [
    "temp_name = list(PCM_cutoff_df_dic.keys())+[x+'_f' for x in list(PCM_cutoff_df_dic.keys())]+[x+'_r' for x in list(PCM_cutoff_df_dic.keys())]\n",
    "temp_input1 = YPD_promoter_df # this is with DNA RNA count information\n",
    "temp_input2 = YPD_promoter_df_final # this is with promoter and motif information\n",
    "index_of_interest = all_present_total_new(temp_input1,100,0).index # filter out only those promoter with at least 100 DNA reads in each replicate\n",
    "YPD_fold_df_D100 = find_fold(temp_input2.loc[index_of_interest],temp_name)"
   ]
  },
  {
   "cell_type": "code",
   "execution_count": 35,
   "id": "aa833c82-b7c0-4fb2-a309-1821294508ab",
   "metadata": {},
   "outputs": [],
   "source": [
    "YPD_fold_df_D100.to_csv(dr1 + 'YPD_ScerTF_fold_df_D100.csv',index =True)"
   ]
  },
  {
   "cell_type": "code",
   "execution_count": 33,
   "id": "6a96fde7-9289-44a5-b0bf-823e0a1a00f5",
   "metadata": {},
   "outputs": [
    {
     "name": "stderr",
     "output_type": "stream",
     "text": [
      "C:\\Users\\lumia\\anaconda3\\lib\\site-packages\\numpy\\core\\fromnumeric.py:3724: RuntimeWarning: Degrees of freedom <= 0 for slice\n",
      "  **kwargs)\n",
      "C:\\Users\\lumia\\anaconda3\\lib\\site-packages\\numpy\\core\\_methods.py:254: RuntimeWarning: invalid value encountered in double_scalars\n",
      "  ret = ret.dtype.type(ret / rcount)\n"
     ]
    }
   ],
   "source": [
    "temp_name = list(PCM_cutoff_df_dic.keys())+[x+'_f' for x in list(PCM_cutoff_df_dic.keys())]+[x+'_r' for x in list(PCM_cutoff_df_dic.keys())]\n",
    "temp_input1 = SCD_promoter_df # this is with DNA RNA count information\n",
    "temp_input2 = SCD_promoter_df_final # this is with promoter and motif information\n",
    "index_of_interest = all_present_total_new(temp_input1,100,0).index # filter out only those promoter with at least 100 DNA reads in each replicate\n",
    "SCD_fold_df_D100 = find_fold(temp_input2.loc[index_of_interest],temp_name)"
   ]
  },
  {
   "cell_type": "code",
   "execution_count": 34,
   "id": "fdb56ce9-2688-404a-bdaa-2432f5470314",
   "metadata": {},
   "outputs": [],
   "source": [
    "SCD_fold_df_D100.to_csv(dr1 + 'SCD_ScerTF_fold_df_D100.csv',index =True)"
   ]
  }
 ],
 "metadata": {
  "kernelspec": {
   "display_name": "HX_basic",
   "language": "python",
   "name": "hx_basic"
  },
  "language_info": {
   "codemirror_mode": {
    "name": "ipython",
    "version": 3
   },
   "file_extension": ".py",
   "mimetype": "text/x-python",
   "name": "python",
   "nbconvert_exporter": "python",
   "pygments_lexer": "ipython3",
   "version": "3.10.6"
  },
  "toc-autonumbering": false
 },
 "nbformat": 4,
 "nbformat_minor": 5
}
