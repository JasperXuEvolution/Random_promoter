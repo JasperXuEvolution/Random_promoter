{
 "cells": [
  {
   "cell_type": "code",
   "execution_count": 1,
   "metadata": {
    "tags": []
   },
   "outputs": [],
   "source": [
    "import sys\n",
    "import time\n",
    "import statistics as ST\n",
    "import pandas as pd\n",
    "import matplotlib.pyplot as plt\n",
    "import os\n",
    "from matplotlib import colors\n",
    "from matplotlib import gridspec\n",
    "#This will setup these parameter for all the figures\n",
    "plt.rcParams[\"font.family\"] = \"Arial\"\n",
    "plt.rcParams['pdf.fonttype'] = 42\n",
    "import glob\n",
    "import math\n",
    "import scipy.stats\n",
    "import numpy as np\n",
    "import statsmodels.stats.multitest as STM\n",
    "import copy\n",
    "import pickle\n",
    "import copy\n",
    "import ast\n",
    "from scipy.stats import wilcoxon"
   ]
  },
  {
   "cell_type": "markdown",
   "metadata": {},
   "source": [
    "## 0. function\n",
    "*****"
   ]
  },
  {
   "cell_type": "code",
   "execution_count": 2,
   "metadata": {},
   "outputs": [],
   "source": [
    "def all_present_total_new(input_df,cutoff_DNA,cutoff_RNA):\n",
    "    temp_df=input_df[(input_df['DNA_absolute_count_S1']>=cutoff_DNA)&\n",
    "                     (input_df['DNA_absolute_count_S2']>=cutoff_DNA)&\n",
    "                     (input_df['DNA_absolute_count_S3']>=cutoff_DNA)&\n",
    "                     (input_df['RNA_absolute_count_S1']>=cutoff_RNA)&\n",
    "                     (input_df['RNA_absolute_count_S2']>=cutoff_RNA)&\n",
    "                     (input_df['RNA_absolute_count_S3']>=cutoff_RNA)]\n",
    "    return(temp_df)"
   ]
  },
  {
   "cell_type": "code",
   "execution_count": 3,
   "metadata": {},
   "outputs": [],
   "source": [
    "def read_expression_stranded(input_name):\n",
    "    temp_t=pd.read_csv(input_name,sep='\\t',names=['chr','start_codon',\n",
    "                                                  'end_codon','Gene','score','strand','count',\n",
    "                                                  'overlap_length','window_length',\n",
    "                                                  'mapped_fraction']) \n",
    "    return(temp_t)"
   ]
  },
  {
   "cell_type": "code",
   "execution_count": 4,
   "metadata": {},
   "outputs": [],
   "source": [
    "def read_expression_V2(input_name):\n",
    "    temp_t=pd.read_csv(input_name,sep='\\t',names=['chr','start_codon',\n",
    "                                                  'end_codon','Gene ID','count',\n",
    "                                                  'overlap_length','window_length',\n",
    "                                                  'mapped_fraction']) \n",
    "    return(temp_t)"
   ]
  },
  {
   "cell_type": "code",
   "execution_count": 5,
   "metadata": {},
   "outputs": [],
   "source": [
    "def SW_annotation(input_annotation,step_size):\n",
    "    temp_count = 0\n",
    "    order_list = input_annotation.apply(\n",
    "        lambda x: math.ceil((x['end']-x['start'])/step_size),axis=1) \n",
    "    # this is calculating how many windows for each gene\n",
    "    name_list=[]\n",
    "    for x,y in zip(order_list,input_annotation['gene'].tolist()):\n",
    "        temp_vec = [y]*x\n",
    "        name_list+=temp_vec\n",
    "    return(name_list)"
   ]
  },
  {
   "cell_type": "code",
   "execution_count": 6,
   "metadata": {},
   "outputs": [],
   "source": [
    "# a function to get normalized expression for intergenic region\n",
    "def intergenic_expression_normalization(input_df,total_reads,window_size):\n",
    "    temp = input_df.loc[input_df['window_length']==window_size,['chr','start_codon','end_codon','count','Gene','strand']]\n",
    "    temp['Normalized_count_perM'] = temp['count']/total_reads*1e6\n",
    "    return (temp)"
   ]
  },
  {
   "cell_type": "code",
   "execution_count": 7,
   "metadata": {},
   "outputs": [],
   "source": [
    "# a fucntion to get the normalized mean expression for genic region \n",
    "def genic_expression_normalization(input_df,total_reads,window_size):\n",
    "    temp_agg=input_df.loc[input_df['window_length']==window_size,['count','Gene']].groupby('Gene', as_index=False).agg({\n",
    "    \"count\":['mean','std'],\n",
    "})\n",
    "    temp_agg.columns = [\"_\".join(x) for x in temp_agg.columns.ravel()]\n",
    "    temp_agg.columns= ['Gene ID','mean_count','std_count']\n",
    "    temp_agg['Normalized_count_perM'] = temp_agg['mean_count']/total_reads*1e6\n",
    "    temp_agg=temp_agg.set_index('Gene ID')\n",
    "    return(temp_agg)\n",
    "    "
   ]
  },
  {
   "cell_type": "code",
   "execution_count": 8,
   "metadata": {},
   "outputs": [],
   "source": [
    "def find_consecutive_region(input_df,value_name):\n",
    "    final_chr = []\n",
    "    final_start = []\n",
    "    final_end = []\n",
    "    final_count_N = []\n",
    "    storing_count = 0\n",
    "    storing_number = 0 \n",
    "    for index,row in input_df.iterrows():\n",
    "        if storing_number == 0:   \n",
    "            storing_chr = row['chr']\n",
    "            storing_start = row['start_codon']\n",
    "            storing_end = row['end_codon']\n",
    "            storing_count = (storing_count*storing_number+row[value_name])/(storing_number+1)\n",
    "            storing_number += 1 # number of consecutive windows\n",
    "        else:\n",
    "            temp_chr = row['chr']\n",
    "            temp_start = row['start_codon']\n",
    "            temp_end = row['end_codon']\n",
    "            # check if the new windows is overlapping with stored windows\n",
    "            if (storing_start<temp_start<storing_end)&(temp_chr == storing_chr):\n",
    "                # if yes, store the new information\n",
    "                storing_chr = temp_chr\n",
    "                storing_end = temp_end # I only extend end\n",
    "                storing_count = (storing_count*storing_number+row[value_name])/(storing_number+1)\n",
    "                storing_number += 1 # number of consecutive windows\n",
    "            else:\n",
    "                final_chr.append(storing_chr)\n",
    "                final_start.append(storing_start)\n",
    "                final_end.append(storing_end)\n",
    "                final_count_N.append(storing_count)\n",
    "                storing_chr = temp_chr\n",
    "                storing_start = temp_start\n",
    "                storing_end = temp_end \n",
    "                storing_count = row[value_name]\n",
    "                storing_number = 1 \n",
    "    final_chr.append(storing_chr)\n",
    "    final_start.append(storing_start)\n",
    "    final_end.append(storing_end)\n",
    "    final_count_N.append(storing_count)\n",
    "    temp_df=pd.DataFrame({'chr':final_chr,'start_codon':final_start,'end_codon':final_end,'mean_of_'+value_name:final_count_N})\n",
    "    temp_df['length'] = temp_df['end_codon']-temp_df['start_codon']\n",
    "    return(temp_df)"
   ]
  },
  {
   "cell_type": "code",
   "execution_count": 9,
   "metadata": {},
   "outputs": [],
   "source": [
    "def find_boundary(input_row,input_df):\n",
    "    # input_df should have been sorted\n",
    "    # input_row is a row of a dataframe\n",
    "    temp_df = input_df[input_df['Chr'] == input_row['Chr']]\n",
    "    if input_row['end'] < temp_df['start'].to_list()[0]: # if before the first gene in the chromosome\n",
    "        return (tuple(('NA',temp_df['gene'].to_list()[0])))\n",
    "    elif input_row['start'] > temp_df['end'].to_list()[-1]: # if after the last gene in the chromosome\n",
    "        return (tuple((temp_df['gene'].to_list()[-1],'NA')))\n",
    "    else:\n",
    "        for index,row in temp_df.iterrows():\n",
    "            if row['start'] > input_row['end']:\n",
    "                tt2 = row['gene']\n",
    "                break\n",
    "        for index,row in temp_df.sort_values(by=['Chr', 'end']).iterrows():\n",
    "            if row['start'] > input_row['end']:\n",
    "                tt1 = temp_store['gene']\n",
    "                break\n",
    "            temp_store = row\n",
    "        return(tuple((tt1,tt2)))"
   ]
  },
  {
   "cell_type": "code",
   "execution_count": 10,
   "metadata": {},
   "outputs": [],
   "source": [
    "def calculate_average_intergenic(input_dic,input_cb):\n",
    "    dataset_name = [x for x in input_dic.keys()]\n",
    "    # Generate average expression for genic expression \n",
    "    temp_sub_matrix = []\n",
    "    for srr in dataset_name:\n",
    "        temp_sub_matrix.append(\n",
    "            input_dic[srr][input_cb]['Normalized_count_perM'].tolist())\n",
    "    temp_sub_matrix = np.array(temp_sub_matrix)\n",
    "    temp_E_genic_average = pd.DataFrame({'Gene ID':input_dic[srr][input_cb].index.tolist(),\n",
    "                                         'Strand':input_dic[srr][input_cb]['strand'].tolist(),\n",
    "                                         'Corresponding_intergenic_region':input_dic[srr][input_cb]['Gene'].tolist(),\n",
    "                                    'Mean_normalized_count_perM':temp_sub_matrix.mean(axis = 0),\n",
    "                                   'SD_normalized_count_perM':np.std(temp_sub_matrix,axis=0,ddof=1),\n",
    "                                   'SE_normalized_count_perM':np.std(temp_sub_matrix,axis=0,ddof=1)/(temp_sub_matrix.shape[0]**0.5),'data_vector':temp_sub_matrix.transpose().tolist()})   \n",
    "    return(temp_E_genic_average)"
   ]
  },
  {
   "cell_type": "code",
   "execution_count": 11,
   "metadata": {},
   "outputs": [],
   "source": [
    "def calculate_average_genic(input_dic):\n",
    "    dataset_name = [x for x in input_dic.keys()]\n",
    "    # Generate average expression for genic expression \n",
    "    temp_sub_matrix = []\n",
    "    for srr in dataset_name:\n",
    "        temp_sub_matrix.append(\n",
    "            input_dic[srr]['Normalized_count_perM'].tolist())\n",
    "    temp_sub_matrix = np.array(temp_sub_matrix)\n",
    "    temp_E_genic_average = pd.DataFrame({'Gene ID':input_dic[srr].index.tolist(),\n",
    "                                    'Mean_normalized_count_perM':temp_sub_matrix.mean(axis = 0),\n",
    "                                   'SD_normalized_count_perM':np.std(temp_sub_matrix,axis=0,ddof=1),\n",
    "                                   'SE_normalized_count_perM':np.std(temp_sub_matrix,axis=0,ddof=1)/(temp_sub_matrix.shape[0]**0.5),'data_vector':temp_sub_matrix.transpose().tolist()})   \n",
    "    return(temp_E_genic_average)"
   ]
  },
  {
   "cell_type": "code",
   "execution_count": 12,
   "metadata": {},
   "outputs": [],
   "source": [
    "def comparison_function_V1(input_intergenic_dic, input_genic_dic,control_name,method,cutoff_list,input_percentile_list):\n",
    "# this version will only take gene name \n",
    "# control_name is the name of control gene (for example for 50 percentile, i find a gene whose mean expression is 50 percentile then I will use this as the name of control gene)\n",
    "# input_percentage is the I want to compare to what percentage of this gene\n",
    "# method is specifying V1 or V2\n",
    "# cutoff_list is the list of cutoff for UTR\n",
    "\n",
    "    # number of intergenic region has significantly higher expression more than PC\n",
    "    temp_PC_count_list =[]\n",
    "    # number of intergenic region has significantly higher expression more than PC/ total intergenic region\n",
    "    temp_PC_fraction_list = []\n",
    "    # number of intergenic region has significantly higher expression more than PC (FDR)\n",
    "    temp_PC_FDR_count_list =[]\n",
    "    # number of intergenic region has significantly higher expression more than PC/ total intergenic region(FDR)\n",
    "    temp_PC_FDR_fraction_list =[]\n",
    "    \n",
    "    # list of intergenic position that has higher expression than control\n",
    "    temp_FDR_list = []\n",
    "\n",
    "    # total intergenic 20bp number\n",
    "    temp_total_count_list = []\n",
    "    # this list stores the number of consecutive sequence\n",
    "    temp_consecutive_list = []\n",
    "    temp_FDR_lower_list = []\n",
    "    temp_PC_FDR_count_lower_list = []\n",
    "    temp_PC_FDR_fraction_lower_list = []\n",
    "    \n",
    "    #UTR length name\n",
    "    temp_UTR_length_name = temp_UTR_length_name = np.repeat(cutoff_list, len(input_percentile_list), axis=0)\n",
    "    temp_control_percentile = input_percentile_list*len(cutoff_list)\n",
    "    for sub_UTR in cutoff_list:\n",
    "        temp_tuple = (sub_UTR,method)\n",
    "        \n",
    "        \n",
    "        for input_p in input_percentile_list:\n",
    "            #control\n",
    "            temp_control_list = []\n",
    "            for srr in dataset_name:\n",
    "                temp_control_list.append(\n",
    "                    input_genic_dic[srr].loc[control_name]['Normalized_count_perM']*input_p)\n",
    "            #data\n",
    "            temp_sub_matrix = []\n",
    "            for srr in dataset_name:\n",
    "                temp_sub_matrix.append(\n",
    "                    input_intergenic_dic[srr][temp_tuple]['Normalized_count_perM'].tolist())\n",
    "            # each row is a SRR, each column is a 20 bp interval\n",
    "            temp_sub_matrix=np.array(temp_sub_matrix)\n",
    "            \n",
    "            temp_total_count_list.append(temp_sub_matrix.shape[1])\n",
    "            \n",
    "            #temparory normalized expression\n",
    "            # each column is data from one srr\n",
    "            temp_norm_expression_matrix = temp_sub_matrix.transpose()/(temp_control_list)\n",
    "\n",
    "            # T test to find significantly higher expression interval\n",
    "            temp_total_count = input_intergenic_dic[srr][temp_tuple].shape[0]\n",
    "            # pvalue list to store pvalue \n",
    "            temp_p_list = [] # compare to PC\n",
    "            temp_t_list = []\n",
    "\n",
    "\n",
    "            # i use normalized expression do a one sample t test, each column at a time\n",
    "            temp_test = scipy.stats.ttest_1samp(temp_norm_expression_matrix.transpose(), 1) \n",
    "            temp_p_list = temp_test[1]\n",
    "            temp_t_list = temp_test[0]\n",
    "\n",
    "\n",
    "            #convert them to array for easiness of later calculation\n",
    "            temp_p_list = np.array(temp_p_list)\n",
    "            temp_t_list = np.array(temp_t_list)\n",
    "\n",
    "\n",
    "            #FDR = 0.05\n",
    "            temp_p_list_fdr = STM.multipletests(temp_p_list,alpha=0.05,method='fdr_bh')[1]\n",
    "\n",
    "\n",
    "            # significantly larger than PC\n",
    "            temp = sum((temp_p_list<0.05)*(temp_t_list>0)*1)\n",
    "            temp_PC_count_list.append(temp)\n",
    "            temp_PC_fraction_list.append(temp/temp_total_count)\n",
    "\n",
    "\n",
    "            temp = sum((temp_p_list_fdr<0.05)*(temp_t_list>0)*1)\n",
    "            ll = (temp_p_list_fdr<0.05)*(temp_t_list>0)\n",
    "            temp_FDR_list.append(list(ll*1))\n",
    "            if sum(ll) == 0:\n",
    "                kk = np.array([])\n",
    "            else:\n",
    "                kk = find_consecutive_region(input_intergenic_dic[srr].get((sub_UTR,method))[ll],'Normalized_count_perM')\n",
    "            temp_consecutive_list.append(kk.shape[0])\n",
    "\n",
    "\n",
    "            temp_PC_FDR_count_list.append(temp)\n",
    "            temp_PC_FDR_fraction_list.append(temp/temp_total_count)\n",
    "            \n",
    "            # sig lower than control\n",
    "            temp = sum((temp_p_list_fdr<0.05)*(temp_t_list<0)*1)\n",
    "            ll = (temp_p_list_fdr<0.05)*(temp_t_list<0)\n",
    "            temp_FDR_lower_list.append(list(ll*1))\n",
    "            temp_PC_FDR_count_lower_list.append(temp)\n",
    "            temp_PC_FDR_fraction_lower_list.append(temp/temp_total_count)\n",
    "\n",
    "\n",
    "    temp_output = pd.DataFrame({'UTR_length':temp_UTR_length_name,\n",
    "                                'Total_number':temp_total_count_list,\n",
    "                                'Control_percentile':temp_control_percentile,\n",
    "                                'More_than_Control_fraction':temp_PC_fraction_list,\n",
    "                                'More_than_Control_number':temp_PC_count_list,\n",
    "                                'More_than_Control_FDR_fraction':temp_PC_FDR_fraction_list,\n",
    "                                'More_than_Control_FDR_number':temp_PC_FDR_count_list,\n",
    "                                'More_than_Control_list': temp_FDR_list,\n",
    "                                'More_than_PC_consecutive':temp_consecutive_list,\n",
    "                                'lower_than_Control_FDR_fraction':temp_PC_FDR_fraction_lower_list,\n",
    "                                'lower_than_Control_FDR_number':temp_PC_FDR_count_lower_list,\n",
    "                                'lower_than_Control_list': temp_FDR_lower_list})\n",
    "    return(temp_output)"
   ]
  },
  {
   "cell_type": "code",
   "execution_count": 13,
   "metadata": {},
   "outputs": [],
   "source": [
    "def calculate_paired_difference(input_df1,control_df,trait_of_interest):\n",
    "    output_df = copy.deepcopy(input_df1)\n",
    "    temp_name = trait_of_interest+'_difference'\n",
    "    output_df[temp_name] = output_df.apply(lambda x: x[trait_of_interest]-control_df.set_index('Rep_number').loc[x['Rep_number'],trait_of_interest],axis=1)\n",
    "    return(output_df)"
   ]
  },
  {
   "cell_type": "code",
   "execution_count": 14,
   "metadata": {},
   "outputs": [],
   "source": [
    "def fdr(p_vals):\n",
    "\n",
    "    from scipy.stats import rankdata\n",
    "    ranked_p_values = rankdata(p_vals)\n",
    "    fdr = p_vals * len(p_vals) / ranked_p_values\n",
    "    fdr[fdr > 1] = 1\n",
    "\n",
    "    return fdr"
   ]
  },
  {
   "cell_type": "markdown",
   "metadata": {},
   "source": [
    "## 1. Input and Output address\n",
    "****"
   ]
  },
  {
   "cell_type": "code",
   "execution_count": 15,
   "metadata": {},
   "outputs": [],
   "source": [
    "dr1='Data/'\n",
    "dataset_name = ['SRR5766520','SRR5766521','SRR5766522','SRR5766523','SRR5766524','SRR5766525','SRR5766547','SRR5766548','SRR5766567','SRR5766568']\n",
    "sub_input_address_list = ['Expression_SW_stranded_intergenic_N'+str(x)+'_w20_s20' for x in range(1,15)]\n",
    "intergenic_annotation_address_list = [dr1+'Final_bed_file/intergenic_stranded_N'+str(x) for x in range(1,15)]\n",
    "# genic annotation\n",
    "gene_annotation_address = dr1+'Final_bed_file/Gene_stranded_final.bed'\n",
    "# genic expression\n",
    "genic_input_address = dr1 + 'Expression_SW_stranded_genic_w20_s20'"
   ]
  },
  {
   "cell_type": "code",
   "execution_count": 16,
   "metadata": {},
   "outputs": [],
   "source": [
    "output_address = dr1"
   ]
  },
  {
   "cell_type": "markdown",
   "metadata": {},
   "source": [
    "## 2. Analysis\n",
    "****"
   ]
  },
  {
   "cell_type": "markdown",
   "metadata": {},
   "source": [
    "### 2.1. General information"
   ]
  },
  {
   "cell_type": "markdown",
   "metadata": {},
   "source": [
    "#### 2.1.1 Total reads mapped in each replicate without considering reads mapped to the mitocondrial"
   ]
  },
  {
   "cell_type": "code",
   "execution_count": 17,
   "metadata": {},
   "outputs": [],
   "source": [
    "# Total number of reads mapped to genotype for each replicate \n",
    "total_reads_list = [15442527,13953779,14853118,14681487,11431260,10773955,10012752,11871077,4890361,6716538]"
   ]
  },
  {
   "cell_type": "markdown",
   "metadata": {},
   "source": [
    "#### 2.1.1 Intergenic region annotation"
   ]
  },
  {
   "cell_type": "code",
   "execution_count": 18,
   "metadata": {},
   "outputs": [],
   "source": [
    "# intergenic annotation stored in a list \n",
    "# each item of the list contains the start and end of intergenic region \n",
    "intergenic_annotation_list = []\n",
    "for count,x in enumerate(intergenic_annotation_address_list):\n",
    "    temp = pd.read_csv(x, sep='\\t', names=['Chr','start','end','gene'])\n",
    "    intergenic_annotation_list.append(temp)"
   ]
  },
  {
   "cell_type": "code",
   "execution_count": 19,
   "metadata": {},
   "outputs": [
    {
     "data": {
      "text/html": [
       "<div>\n",
       "<style scoped>\n",
       "    .dataframe tbody tr th:only-of-type {\n",
       "        vertical-align: middle;\n",
       "    }\n",
       "\n",
       "    .dataframe tbody tr th {\n",
       "        vertical-align: top;\n",
       "    }\n",
       "\n",
       "    .dataframe thead th {\n",
       "        text-align: right;\n",
       "    }\n",
       "</style>\n",
       "<table border=\"1\" class=\"dataframe\">\n",
       "  <thead>\n",
       "    <tr style=\"text-align: right;\">\n",
       "      <th></th>\n",
       "      <th>Chr</th>\n",
       "      <th>start</th>\n",
       "      <th>end</th>\n",
       "      <th>gene</th>\n",
       "    </tr>\n",
       "  </thead>\n",
       "  <tbody>\n",
       "    <tr>\n",
       "      <th>0</th>\n",
       "      <td>I</td>\n",
       "      <td>842</td>\n",
       "      <td>1614</td>\n",
       "      <td>Intergenic1</td>\n",
       "    </tr>\n",
       "    <tr>\n",
       "      <th>1</th>\n",
       "      <td>I</td>\n",
       "      <td>2219</td>\n",
       "      <td>2429</td>\n",
       "      <td>Intergenic2</td>\n",
       "    </tr>\n",
       "    <tr>\n",
       "      <th>2</th>\n",
       "      <td>I</td>\n",
       "      <td>2757</td>\n",
       "      <td>6962</td>\n",
       "      <td>Intergenic3</td>\n",
       "    </tr>\n",
       "    <tr>\n",
       "      <th>3</th>\n",
       "      <td>I</td>\n",
       "      <td>9241</td>\n",
       "      <td>9756</td>\n",
       "      <td>Intergenic4</td>\n",
       "    </tr>\n",
       "    <tr>\n",
       "      <th>4</th>\n",
       "      <td>I</td>\n",
       "      <td>10510</td>\n",
       "      <td>11262</td>\n",
       "      <td>Intergenic5</td>\n",
       "    </tr>\n",
       "    <tr>\n",
       "      <th>...</th>\n",
       "      <td>...</td>\n",
       "      <td>...</td>\n",
       "      <td>...</td>\n",
       "      <td>...</td>\n",
       "    </tr>\n",
       "    <tr>\n",
       "      <th>2748</th>\n",
       "      <td>XVI</td>\n",
       "      <td>928476</td>\n",
       "      <td>931296</td>\n",
       "      <td>Intergenic2749</td>\n",
       "    </tr>\n",
       "    <tr>\n",
       "      <th>2749</th>\n",
       "      <td>XVI</td>\n",
       "      <td>933404</td>\n",
       "      <td>933664</td>\n",
       "      <td>Intergenic2750</td>\n",
       "    </tr>\n",
       "    <tr>\n",
       "      <th>2750</th>\n",
       "      <td>XVI</td>\n",
       "      <td>936096</td>\n",
       "      <td>937918</td>\n",
       "      <td>Intergenic2751</td>\n",
       "    </tr>\n",
       "    <tr>\n",
       "      <th>2751</th>\n",
       "      <td>XVI</td>\n",
       "      <td>941536</td>\n",
       "      <td>942083</td>\n",
       "      <td>Intergenic2752</td>\n",
       "    </tr>\n",
       "    <tr>\n",
       "      <th>2752</th>\n",
       "      <td>XVI</td>\n",
       "      <td>948010</td>\n",
       "      <td>948066</td>\n",
       "      <td>Intergenic2753</td>\n",
       "    </tr>\n",
       "  </tbody>\n",
       "</table>\n",
       "<p>2753 rows × 4 columns</p>\n",
       "</div>"
      ],
      "text/plain": [
       "      Chr   start     end            gene\n",
       "0       I     842    1614     Intergenic1\n",
       "1       I    2219    2429     Intergenic2\n",
       "2       I    2757    6962     Intergenic3\n",
       "3       I    9241    9756     Intergenic4\n",
       "4       I   10510   11262     Intergenic5\n",
       "...   ...     ...     ...             ...\n",
       "2748  XVI  928476  931296  Intergenic2749\n",
       "2749  XVI  933404  933664  Intergenic2750\n",
       "2750  XVI  936096  937918  Intergenic2751\n",
       "2751  XVI  941536  942083  Intergenic2752\n",
       "2752  XVI  948010  948066  Intergenic2753\n",
       "\n",
       "[2753 rows x 4 columns]"
      ]
     },
     "execution_count": 19,
     "metadata": {},
     "output_type": "execute_result"
    }
   ],
   "source": [
    "intergenic_annotation_list[0]"
   ]
  },
  {
   "cell_type": "code",
   "execution_count": 20,
   "metadata": {},
   "outputs": [],
   "source": [
    "temp_length_list = [] # a list of list of length of intergenic region\n",
    "for x in intergenic_annotation_list:\n",
    "    temp_length = x['end'] - x['start']\n",
    "    temp_length_list.append(temp_length.to_list())"
   ]
  },
  {
   "cell_type": "markdown",
   "metadata": {},
   "source": [
    "##### Plotting"
   ]
  },
  {
   "cell_type": "code",
   "execution_count": 21,
   "metadata": {},
   "outputs": [
    {
     "name": "stdout",
     "output_type": "stream",
     "text": [
      "The mean length is 463.2116991643454\n",
      "The median length is 248\n",
      "There are 1077 intergenic region\n",
      "The mean length is 359.0980769230769\n",
      "The median length is 187.5\n",
      "There are 1040 intergenic region\n"
     ]
    },
    {
     "data": {
      "image/png": "[encoded data removed]",
      "text/plain": [
       "<Figure size 720x360 with 2 Axes>"
      ]
     },
     "metadata": {
      "needs_background": "light"
     },
     "output_type": "display_data"
    }
   ],
   "source": [
    "# (200,'V1'),(200,'V2')\n",
    "gs = gridspec.GridSpec(1, 10) \n",
    "fig1 = plt.figure(figsize=(10,5))\n",
    "#Here I generate sub figure object and assign to corresponding location\n",
    "\n",
    "#panel A for YPD expression distribution\n",
    "ax1=fig1.add_subplot(gs[:1, :5])\n",
    "ax1.hist(temp_length_list[4],bins = 20)\n",
    "ax1.set_yscale('log',base = 10)\n",
    "ax1.set_title('200bp and with SUT')\n",
    "print('The mean length is {}'.format(ST.mean(temp_length_list[4])))\n",
    "print('The median length is {}'.format(ST.median(temp_length_list[4])))\n",
    "print('There are {} intergenic region'.format(len(temp_length_list[4])))\n",
    "\n",
    "ax2=fig1.add_subplot(gs[:1, 5:10])\n",
    "ax2.hist(temp_length_list[5],bins = 20)\n",
    "ax2.set_yscale('log',base = 10)\n",
    "ax2.set_title('200bp and without SUT')\n",
    "print('The mean length is {}'.format(ST.mean(temp_length_list[5])))\n",
    "print('The median length is {}'.format(ST.median(temp_length_list[5])))\n",
    "print('There are {} intergenic region'.format(len(temp_length_list[5])))"
   ]
  },
  {
   "cell_type": "code",
   "execution_count": null,
   "metadata": {},
   "outputs": [],
   "source": []
  },
  {
   "cell_type": "code",
   "execution_count": 22,
   "metadata": {},
   "outputs": [],
   "source": [
    "# I only take gene bed file without mitochondria information for genic annotation\n",
    "gene_annotation = pd.read_csv(gene_annotation_address, sep='\\t', names=['Chr','start','end','gene','score','strand'])"
   ]
  },
  {
   "cell_type": "markdown",
   "metadata": {},
   "source": [
    "### 2.2 Combine all the data into a dictionary\n",
    "<font color=red>* **I will generate a dictionary to store intergenic df and genic df**</font>"
   ]
  },
  {
   "cell_type": "code",
   "execution_count": 23,
   "metadata": {},
   "outputs": [],
   "source": [
    "# intergenic dic\n",
    "E_intergenic_dic = {}\n",
    "# genic dic\n",
    "E_genic_dic = {}\n",
    "# This is the tuple key indicate the parameter for the data\n",
    "tuple_key_list = [(50,'V1'),(50,'V2'),(100,'V1'),(100,'V2'),\n",
    "                      (200,'V1'),(200,'V2'),(400,'V1'),(400,'V2'),\n",
    "                      (800,'V1'),(800,'V2'),(1200,'V1'),(1200,'V2'),\n",
    "                     (1600,'V1'),(1600,'V2')]"
   ]
  },
  {
   "cell_type": "code",
   "execution_count": 27,
   "metadata": {},
   "outputs": [
    {
     "name": "stderr",
     "output_type": "stream",
     "text": [
      "C:\\Users\\lumia\\anaconda3\\lib\\site-packages\\ipykernel_launcher.py:6: FutureWarning: Index.ravel returning ndarray is deprecated; in a future version this will return a view on self.\n",
      "  \n"
     ]
    }
   ],
   "source": [
    "# loop over the replicate name to get both genic and intergenic expression\n",
    "for count,srr in enumerate(dataset_name):\n",
    "    # firt I get the intergenic expression data\n",
    "    # this is part of the address for the replicate's foler name\n",
    "    temp_input_address_header = dr1 + 'UTR_test/' + srr + '_expression/'\n",
    "    # sub_dictionary \n",
    "    # key is a tuple ('length of UTR extension','V1/V2')\n",
    "    # V1 means I don't consider SUT and ORFT\n",
    "    E_intergenic_dic[srr] = {}\n",
    "    # loop over the folder\n",
    "    for x,y,z in zip(sub_input_address_list,\n",
    "                     intergenic_annotation_list,tuple_key_list):\n",
    "        temp_address = temp_input_address_header + x\n",
    "        temp_intergenic = read_expression_stranded(temp_address)\n",
    "        # step size is 20\n",
    "        temp_intergenic = intergenic_expression_normalization(temp_intergenic,total_reads_list[count],20)\n",
    "        E_intergenic_dic[srr][z] = temp_intergenic\n",
    "    # Next I take care of genic expression \n",
    "    E_genic_w20_s20_temp=read_expression_stranded(dr1 + 'Analysis_' + srr + genic_input_address)\n",
    "    # add gene name to genic expression\n",
    "    E_genic_temp = genic_expression_normalization(E_genic_w20_s20_temp,total_reads_list[count],20)\n",
    "    E_genic_dic[srr] = E_genic_temp"
   ]
  },
  {
   "cell_type": "markdown",
   "metadata": {},
   "source": [
    "##### Output"
   ]
  },
  {
   "cell_type": "code",
   "execution_count": 102,
   "metadata": {},
   "outputs": [],
   "source": [
    "# store the genic expression \n",
    "pickle.dump(E_genic_dic, open(output_address+'YPD_Genic_expression_NO.p', \"wb\"))\n",
    "pickle.dump(E_intergenic_dic, open(output_address+'YPD_Intergenic_expression_NO.p', \"wb\"))"
   ]
  },
  {
   "cell_type": "code",
   "execution_count": null,
   "metadata": {},
   "outputs": [],
   "source": [
    "def find_boundary(input_row,input_df):\n",
    "    # input_df should have been sorted\n",
    "    # input_row is a row of a dataframe\n",
    "    temp_df = input_df[input_df['Chr'] == input_row['Chr']]\n",
    "    if input_row['end'] < temp_df['start'].to_list()[0]: # if before the first gene in the chromosome\n",
    "        return (tuple(('NA',temp_df['gene'].to_list()[0])))\n",
    "    elif input_row['start'] > temp_df['end'].to_list()[-1]: # if after the last gene in the chromosome\n",
    "        return (tuple((temp_df['gene'].to_list()[-1],'NA')))\n",
    "    else:\n",
    "        for index,row in temp_df.iterrows():\n",
    "            if row['start'] > input_row['end']:\n",
    "                tt2 = row['gene']\n",
    "                break\n",
    "        for index,row in temp_df.sort_values(by=['Chr', 'end'])iterrows():\n",
    ".            if row['start'] > input_row['end']:\n",
    "                tt1 = temp_store['gene']\n",
    "                break\n",
    "            temp_store = row\n",
    "        return(tuple(tt1,tt2))"
   ]
  },
  {
   "cell_type": "code",
   "execution_count": 157,
   "metadata": {},
   "outputs": [],
   "source": [
    "# look at the nearby gene of intergenic region\n",
    "# loop over the replicate name to get both genic and intergenic expression\n",
    "boundary_dic = {}\n",
    "for y,z in zip(intergenic_annotation_list,tuple_key_list):\n",
    "    temp_anotation = gene_annotation.sort_values(by=['Chr', 'start'])\n",
    "    temp_dic = {}\n",
    "    for temp_index, temp_query_row in y.iterrows():\n",
    "        temp_dic[temp_query_row['gene']] = find_boundary(temp_query_row,temp_anotation)\n",
    "    boundary_dic[z] = temp_dic"
   ]
  },
  {
   "cell_type": "markdown",
   "metadata": {},
   "source": [
    "##### Output boundary"
   ]
  },
  {
   "cell_type": "markdown",
   "metadata": {},
   "source": [
    "##### Output boundary"
   ]
  },
  {
   "cell_type": "code",
   "execution_count": 160,
   "metadata": {},
   "outputs": [],
   "source": [
    "pickle.dump(boundary_dic, open(output_address+'Boundary_information_NO', \"wb\"))"
   ]
  },
  {
   "cell_type": "markdown",
   "metadata": {},
   "source": [
    "------------------"
   ]
  },
  {
   "cell_type": "markdown",
   "metadata": {},
   "source": [
    "### 2.3 Mean expression binning compared to PC"
   ]
  },
  {
   "cell_type": "markdown",
   "metadata": {},
   "source": [
    "<font color=Blue>* **UTR equals 200**</font>"
   ]
  },
  {
   "cell_type": "code",
   "execution_count": 19,
   "metadata": {},
   "outputs": [],
   "source": [
    "control_list = []\n",
    "for x in E_genic_dic.values():\n",
    "    control_list.append(x.loc['YML017W']['Normalized_count_perM'])\n",
    "control_list = np.array(control_list)   "
   ]
  },
  {
   "cell_type": "code",
   "execution_count": 67,
   "metadata": {},
   "outputs": [
    {
     "data": {
      "text/html": [
       "<div>\n",
       "<style scoped>\n",
       "    .dataframe tbody tr th:only-of-type {\n",
       "        vertical-align: middle;\n",
       "    }\n",
       "\n",
       "    .dataframe tbody tr th {\n",
       "        vertical-align: top;\n",
       "    }\n",
       "\n",
       "    .dataframe thead th {\n",
       "        text-align: right;\n",
       "    }\n",
       "</style>\n",
       "<table border=\"1\" class=\"dataframe\">\n",
       "  <thead>\n",
       "    <tr style=\"text-align: right;\">\n",
       "      <th></th>\n",
       "      <th>chr</th>\n",
       "      <th>start_codon</th>\n",
       "      <th>end_codon</th>\n",
       "      <th>count</th>\n",
       "      <th>Gene</th>\n",
       "      <th>strand</th>\n",
       "      <th>Normalized_count_perM</th>\n",
       "    </tr>\n",
       "  </thead>\n",
       "  <tbody>\n",
       "    <tr>\n",
       "      <th>0</th>\n",
       "      <td>I</td>\n",
       "      <td>842</td>\n",
       "      <td>862</td>\n",
       "      <td>0</td>\n",
       "      <td>Intergenic1</td>\n",
       "      <td>+</td>\n",
       "      <td>0.0</td>\n",
       "    </tr>\n",
       "    <tr>\n",
       "      <th>1</th>\n",
       "      <td>I</td>\n",
       "      <td>842</td>\n",
       "      <td>862</td>\n",
       "      <td>0</td>\n",
       "      <td>Intergenic1</td>\n",
       "      <td>-</td>\n",
       "      <td>0.0</td>\n",
       "    </tr>\n",
       "    <tr>\n",
       "      <th>2</th>\n",
       "      <td>I</td>\n",
       "      <td>862</td>\n",
       "      <td>882</td>\n",
       "      <td>0</td>\n",
       "      <td>Intergenic1</td>\n",
       "      <td>+</td>\n",
       "      <td>0.0</td>\n",
       "    </tr>\n",
       "    <tr>\n",
       "      <th>3</th>\n",
       "      <td>I</td>\n",
       "      <td>862</td>\n",
       "      <td>882</td>\n",
       "      <td>0</td>\n",
       "      <td>Intergenic1</td>\n",
       "      <td>-</td>\n",
       "      <td>0.0</td>\n",
       "    </tr>\n",
       "    <tr>\n",
       "      <th>4</th>\n",
       "      <td>I</td>\n",
       "      <td>882</td>\n",
       "      <td>902</td>\n",
       "      <td>0</td>\n",
       "      <td>Intergenic1</td>\n",
       "      <td>-</td>\n",
       "      <td>0.0</td>\n",
       "    </tr>\n",
       "    <tr>\n",
       "      <th>...</th>\n",
       "      <td>...</td>\n",
       "      <td>...</td>\n",
       "      <td>...</td>\n",
       "      <td>...</td>\n",
       "      <td>...</td>\n",
       "      <td>...</td>\n",
       "      <td>...</td>\n",
       "    </tr>\n",
       "    <tr>\n",
       "      <th>88249</th>\n",
       "      <td>XVI</td>\n",
       "      <td>942056</td>\n",
       "      <td>942076</td>\n",
       "      <td>0</td>\n",
       "      <td>Intergenic2752</td>\n",
       "      <td>-</td>\n",
       "      <td>0.0</td>\n",
       "    </tr>\n",
       "    <tr>\n",
       "      <th>88252</th>\n",
       "      <td>XVI</td>\n",
       "      <td>948010</td>\n",
       "      <td>948030</td>\n",
       "      <td>0</td>\n",
       "      <td>Intergenic2753</td>\n",
       "      <td>-</td>\n",
       "      <td>0.0</td>\n",
       "    </tr>\n",
       "    <tr>\n",
       "      <th>88253</th>\n",
       "      <td>XVI</td>\n",
       "      <td>948010</td>\n",
       "      <td>948030</td>\n",
       "      <td>0</td>\n",
       "      <td>Intergenic2753</td>\n",
       "      <td>+</td>\n",
       "      <td>0.0</td>\n",
       "    </tr>\n",
       "    <tr>\n",
       "      <th>88254</th>\n",
       "      <td>XVI</td>\n",
       "      <td>948030</td>\n",
       "      <td>948050</td>\n",
       "      <td>0</td>\n",
       "      <td>Intergenic2753</td>\n",
       "      <td>-</td>\n",
       "      <td>0.0</td>\n",
       "    </tr>\n",
       "    <tr>\n",
       "      <th>88255</th>\n",
       "      <td>XVI</td>\n",
       "      <td>948030</td>\n",
       "      <td>948050</td>\n",
       "      <td>0</td>\n",
       "      <td>Intergenic2753</td>\n",
       "      <td>+</td>\n",
       "      <td>0.0</td>\n",
       "    </tr>\n",
       "  </tbody>\n",
       "</table>\n",
       "<p>83060 rows × 7 columns</p>\n",
       "</div>"
      ],
      "text/plain": [
       "       chr  start_codon  end_codon  count            Gene strand  \\\n",
       "0        I          842        862      0     Intergenic1      +   \n",
       "1        I          842        862      0     Intergenic1      -   \n",
       "2        I          862        882      0     Intergenic1      +   \n",
       "3        I          862        882      0     Intergenic1      -   \n",
       "4        I          882        902      0     Intergenic1      -   \n",
       "...    ...          ...        ...    ...             ...    ...   \n",
       "88249  XVI       942056     942076      0  Intergenic2752      -   \n",
       "88252  XVI       948010     948030      0  Intergenic2753      -   \n",
       "88253  XVI       948010     948030      0  Intergenic2753      +   \n",
       "88254  XVI       948030     948050      0  Intergenic2753      -   \n",
       "88255  XVI       948030     948050      0  Intergenic2753      +   \n",
       "\n",
       "       Normalized_count_perM  \n",
       "0                        0.0  \n",
       "1                        0.0  \n",
       "2                        0.0  \n",
       "3                        0.0  \n",
       "4                        0.0  \n",
       "...                      ...  \n",
       "88249                    0.0  \n",
       "88252                    0.0  \n",
       "88253                    0.0  \n",
       "88254                    0.0  \n",
       "88255                    0.0  \n",
       "\n",
       "[83060 rows x 7 columns]"
      ]
     },
     "execution_count": 67,
     "metadata": {},
     "output_type": "execute_result"
    }
   ],
   "source": [
    "E_intergenic_dic.get('SRR5766520').get((50,'V1'))"
   ]
  },
  {
   "cell_type": "code",
   "execution_count": 20,
   "metadata": {},
   "outputs": [],
   "source": [
    "Average_intergenic_df1 = calculate_average_intergenic(E_intergenic_dic,(200, 'V1'))"
   ]
  },
  {
   "cell_type": "code",
   "execution_count": 21,
   "metadata": {},
   "outputs": [],
   "source": [
    "Average_intergenic_df2 = calculate_average_intergenic(E_intergenic_dic,(200, 'V2'))"
   ]
  },
  {
   "cell_type": "code",
   "execution_count": 72,
   "metadata": {},
   "outputs": [
    {
     "data": {
      "text/html": [
       "<div>\n",
       "<style scoped>\n",
       "    .dataframe tbody tr th:only-of-type {\n",
       "        vertical-align: middle;\n",
       "    }\n",
       "\n",
       "    .dataframe tbody tr th {\n",
       "        vertical-align: top;\n",
       "    }\n",
       "\n",
       "    .dataframe thead th {\n",
       "        text-align: right;\n",
       "    }\n",
       "</style>\n",
       "<table border=\"1\" class=\"dataframe\">\n",
       "  <thead>\n",
       "    <tr style=\"text-align: right;\">\n",
       "      <th></th>\n",
       "      <th>Gene ID</th>\n",
       "      <th>Strand</th>\n",
       "      <th>Corresponding_intergenic_region</th>\n",
       "      <th>Mean_normalized_count_perM</th>\n",
       "      <th>SD_normalized_count_perM</th>\n",
       "      <th>SE_normalized_count_perM</th>\n",
       "      <th>data_vector</th>\n",
       "    </tr>\n",
       "  </thead>\n",
       "  <tbody>\n",
       "    <tr>\n",
       "      <th>0</th>\n",
       "      <td>0</td>\n",
       "      <td>+</td>\n",
       "      <td>Intergenic1</td>\n",
       "      <td>0.000000</td>\n",
       "      <td>0.000000</td>\n",
       "      <td>0.000000</td>\n",
       "      <td>[0.0, 0.0, 0.0, 0.0, 0.0, 0.0, 0.0, 0.0, 0.0, ...</td>\n",
       "    </tr>\n",
       "    <tr>\n",
       "      <th>1</th>\n",
       "      <td>1</td>\n",
       "      <td>-</td>\n",
       "      <td>Intergenic1</td>\n",
       "      <td>0.000000</td>\n",
       "      <td>0.000000</td>\n",
       "      <td>0.000000</td>\n",
       "      <td>[0.0, 0.0, 0.0, 0.0, 0.0, 0.0, 0.0, 0.0, 0.0, ...</td>\n",
       "    </tr>\n",
       "    <tr>\n",
       "      <th>2</th>\n",
       "      <td>2</td>\n",
       "      <td>+</td>\n",
       "      <td>Intergenic1</td>\n",
       "      <td>0.000000</td>\n",
       "      <td>0.000000</td>\n",
       "      <td>0.000000</td>\n",
       "      <td>[0.0, 0.0, 0.0, 0.0, 0.0, 0.0, 0.0, 0.0, 0.0, ...</td>\n",
       "    </tr>\n",
       "    <tr>\n",
       "      <th>3</th>\n",
       "      <td>3</td>\n",
       "      <td>-</td>\n",
       "      <td>Intergenic1</td>\n",
       "      <td>0.000000</td>\n",
       "      <td>0.000000</td>\n",
       "      <td>0.000000</td>\n",
       "      <td>[0.0, 0.0, 0.0, 0.0, 0.0, 0.0, 0.0, 0.0, 0.0, ...</td>\n",
       "    </tr>\n",
       "    <tr>\n",
       "      <th>4</th>\n",
       "      <td>4</td>\n",
       "      <td>-</td>\n",
       "      <td>Intergenic1</td>\n",
       "      <td>0.000000</td>\n",
       "      <td>0.000000</td>\n",
       "      <td>0.000000</td>\n",
       "      <td>[0.0, 0.0, 0.0, 0.0, 0.0, 0.0, 0.0, 0.0, 0.0, ...</td>\n",
       "    </tr>\n",
       "    <tr>\n",
       "      <th>...</th>\n",
       "      <td>...</td>\n",
       "      <td>...</td>\n",
       "      <td>...</td>\n",
       "      <td>...</td>\n",
       "      <td>...</td>\n",
       "      <td>...</td>\n",
       "      <td>...</td>\n",
       "    </tr>\n",
       "    <tr>\n",
       "      <th>48851</th>\n",
       "      <td>50877</td>\n",
       "      <td>-</td>\n",
       "      <td>Intergenic1076</td>\n",
       "      <td>0.013465</td>\n",
       "      <td>0.042581</td>\n",
       "      <td>0.013465</td>\n",
       "      <td>[0.0, 0.0, 0.13465186232277962, 0.0, 0.0, 0.0,...</td>\n",
       "    </tr>\n",
       "    <tr>\n",
       "      <th>48852</th>\n",
       "      <td>50880</td>\n",
       "      <td>-</td>\n",
       "      <td>Intergenic1077</td>\n",
       "      <td>0.000000</td>\n",
       "      <td>0.000000</td>\n",
       "      <td>0.000000</td>\n",
       "      <td>[0.0, 0.0, 0.0, 0.0, 0.0, 0.0, 0.0, 0.0, 0.0, ...</td>\n",
       "    </tr>\n",
       "    <tr>\n",
       "      <th>48853</th>\n",
       "      <td>50881</td>\n",
       "      <td>+</td>\n",
       "      <td>Intergenic1077</td>\n",
       "      <td>0.000000</td>\n",
       "      <td>0.000000</td>\n",
       "      <td>0.000000</td>\n",
       "      <td>[0.0, 0.0, 0.0, 0.0, 0.0, 0.0, 0.0, 0.0, 0.0, ...</td>\n",
       "    </tr>\n",
       "    <tr>\n",
       "      <th>48854</th>\n",
       "      <td>50882</td>\n",
       "      <td>-</td>\n",
       "      <td>Intergenic1077</td>\n",
       "      <td>0.000000</td>\n",
       "      <td>0.000000</td>\n",
       "      <td>0.000000</td>\n",
       "      <td>[0.0, 0.0, 0.0, 0.0, 0.0, 0.0, 0.0, 0.0, 0.0, ...</td>\n",
       "    </tr>\n",
       "    <tr>\n",
       "      <th>48855</th>\n",
       "      <td>50883</td>\n",
       "      <td>+</td>\n",
       "      <td>Intergenic1077</td>\n",
       "      <td>0.000000</td>\n",
       "      <td>0.000000</td>\n",
       "      <td>0.000000</td>\n",
       "      <td>[0.0, 0.0, 0.0, 0.0, 0.0, 0.0, 0.0, 0.0, 0.0, ...</td>\n",
       "    </tr>\n",
       "  </tbody>\n",
       "</table>\n",
       "<p>48856 rows × 7 columns</p>\n",
       "</div>"
      ],
      "text/plain": [
       "       Gene ID Strand Corresponding_intergenic_region  \\\n",
       "0            0      +                     Intergenic1   \n",
       "1            1      -                     Intergenic1   \n",
       "2            2      +                     Intergenic1   \n",
       "3            3      -                     Intergenic1   \n",
       "4            4      -                     Intergenic1   \n",
       "...        ...    ...                             ...   \n",
       "48851    50877      -                  Intergenic1076   \n",
       "48852    50880      -                  Intergenic1077   \n",
       "48853    50881      +                  Intergenic1077   \n",
       "48854    50882      -                  Intergenic1077   \n",
       "48855    50883      +                  Intergenic1077   \n",
       "\n",
       "       Mean_normalized_count_perM  SD_normalized_count_perM  \\\n",
       "0                        0.000000                  0.000000   \n",
       "1                        0.000000                  0.000000   \n",
       "2                        0.000000                  0.000000   \n",
       "3                        0.000000                  0.000000   \n",
       "4                        0.000000                  0.000000   \n",
       "...                           ...                       ...   \n",
       "48851                    0.013465                  0.042581   \n",
       "48852                    0.000000                  0.000000   \n",
       "48853                    0.000000                  0.000000   \n",
       "48854                    0.000000                  0.000000   \n",
       "48855                    0.000000                  0.000000   \n",
       "\n",
       "       SE_normalized_count_perM  \\\n",
       "0                      0.000000   \n",
       "1                      0.000000   \n",
       "2                      0.000000   \n",
       "3                      0.000000   \n",
       "4                      0.000000   \n",
       "...                         ...   \n",
       "48851                  0.013465   \n",
       "48852                  0.000000   \n",
       "48853                  0.000000   \n",
       "48854                  0.000000   \n",
       "48855                  0.000000   \n",
       "\n",
       "                                             data_vector  \n",
       "0      [0.0, 0.0, 0.0, 0.0, 0.0, 0.0, 0.0, 0.0, 0.0, ...  \n",
       "1      [0.0, 0.0, 0.0, 0.0, 0.0, 0.0, 0.0, 0.0, 0.0, ...  \n",
       "2      [0.0, 0.0, 0.0, 0.0, 0.0, 0.0, 0.0, 0.0, 0.0, ...  \n",
       "3      [0.0, 0.0, 0.0, 0.0, 0.0, 0.0, 0.0, 0.0, 0.0, ...  \n",
       "4      [0.0, 0.0, 0.0, 0.0, 0.0, 0.0, 0.0, 0.0, 0.0, ...  \n",
       "...                                                  ...  \n",
       "48851  [0.0, 0.0, 0.13465186232277962, 0.0, 0.0, 0.0,...  \n",
       "48852  [0.0, 0.0, 0.0, 0.0, 0.0, 0.0, 0.0, 0.0, 0.0, ...  \n",
       "48853  [0.0, 0.0, 0.0, 0.0, 0.0, 0.0, 0.0, 0.0, 0.0, ...  \n",
       "48854  [0.0, 0.0, 0.0, 0.0, 0.0, 0.0, 0.0, 0.0, 0.0, ...  \n",
       "48855  [0.0, 0.0, 0.0, 0.0, 0.0, 0.0, 0.0, 0.0, 0.0, ...  \n",
       "\n",
       "[48856 rows x 7 columns]"
      ]
     },
     "execution_count": 72,
     "metadata": {},
     "output_type": "execute_result"
    }
   ],
   "source": [
    "Average_intergenic_df1"
   ]
  },
  {
   "cell_type": "code",
   "execution_count": 73,
   "metadata": {},
   "outputs": [],
   "source": [
    "# V1"
   ]
  },
  {
   "cell_type": "code",
   "execution_count": 104,
   "metadata": {
    "tags": []
   },
   "outputs": [],
   "source": [
    "temp_cut = np.array(list(np.linspace(0,100,11)/100))*control_list.mean()\n",
    "input_df = Average_intergenic_df1\n",
    "temp_total = input_df.shape[0]# total number of sequence\n",
    "temp_fraction = []\n",
    "output_df = copy.deepcopy(input_df[['Corresponding_intergenic_region','Strand','Mean_normalized_count_perM']])\n",
    "\n",
    "for x in range(0,len(temp_cut)):\n",
    "    if x == 10:\n",
    "        temp_column_name = '>=100%' # colums name\n",
    "        tt = (input_df['Mean_normalized_count_perM'] >=temp_cut[x])*1\n",
    "        output_df[temp_column_name] = tt\n",
    "        temp_fraction.append(sum(tt)/temp_total)\n",
    "    else:\n",
    "        temp_column_name = str(x*10)+'-'+str((x+1)*10)+'%' # colums name\n",
    "        tt = ((input_df['Mean_normalized_count_perM'] >=temp_cut[x])&(input_df['Mean_normalized_count_perM']<temp_cut[x+1]))*1\n",
    "        output_df[temp_column_name] = tt\n",
    "        temp_fraction.append(sum(tt)/temp_total)\n",
    "DF_fraction = pd.DataFrame({'bins':np.linspace(0,100,11)/100,'Fraction':temp_fraction})"
   ]
  },
  {
   "cell_type": "markdown",
   "metadata": {},
   "source": [
    "##### Output"
   ]
  },
  {
   "cell_type": "code",
   "execution_count": 105,
   "metadata": {},
   "outputs": [],
   "source": [
    "DF_fraction.to_csv(output_address+'YPD_PC_average_fraction_10_V1_NO.csv')\n",
    "output_df.to_csv(output_address+'YPD_PC_average_fraction_10_V1_details_NO.csv')"
   ]
  },
  {
   "cell_type": "code",
   "execution_count": 106,
   "metadata": {},
   "outputs": [],
   "source": [
    "#V2"
   ]
  },
  {
   "cell_type": "code",
   "execution_count": 107,
   "metadata": {},
   "outputs": [],
   "source": [
    "temp_cut = np.array(list(np.linspace(0,100,11)/100))*control_list.mean()\n",
    "input_df = Average_intergenic_df2\n",
    "temp_total = input_df.shape[0]# total number of sequence\n",
    "temp_fraction = []\n",
    "output_df = copy.deepcopy(input_df[['Corresponding_intergenic_region','Strand','Mean_normalized_count_perM']])\n",
    "\n",
    "for x in range(0,len(temp_cut)):\n",
    "    if x == 10:\n",
    "        temp_column_name = '>=100%' # colums name\n",
    "        tt = (input_df['Mean_normalized_count_perM'] >=temp_cut[x])*1\n",
    "        output_df[temp_column_name] = tt\n",
    "        temp_fraction.append(sum(tt)/temp_total)\n",
    "    else:\n",
    "        temp_column_name = str(x*10)+'-'+str((x+1)*10)+'%' # colums name\n",
    "        tt = ((input_df['Mean_normalized_count_perM'] >=temp_cut[x])&(input_df['Mean_normalized_count_perM']<temp_cut[x+1]))*1\n",
    "        output_df[temp_column_name] = tt\n",
    "        temp_fraction.append(sum(tt)/temp_total)\n",
    "DF_fraction = pd.DataFrame({'bins':np.linspace(0,100,11)/100,'Fraction':temp_fraction})"
   ]
  },
  {
   "cell_type": "markdown",
   "metadata": {
    "tags": []
   },
   "source": [
    "##### Output"
   ]
  },
  {
   "cell_type": "code",
   "execution_count": 108,
   "metadata": {},
   "outputs": [],
   "source": [
    "DF_fraction.to_csv(output_address+'YPD_PC_average_fraction_10_V2_NO.csv')\n",
    "output_df.to_csv(output_address+'YPD_PC_average_fraction_10_V2_details_NO.csv')"
   ]
  },
  {
   "cell_type": "code",
   "execution_count": null,
   "metadata": {},
   "outputs": [],
   "source": []
  },
  {
   "cell_type": "code",
   "execution_count": null,
   "metadata": {},
   "outputs": [],
   "source": []
  },
  {
   "cell_type": "code",
   "execution_count": 38,
   "metadata": {},
   "outputs": [],
   "source": [
    "# V1"
   ]
  },
  {
   "cell_type": "code",
   "execution_count": 22,
   "metadata": {
    "tags": []
   },
   "outputs": [],
   "source": [
    "temp_cut = np.array(list(np.linspace(0,100,21)/100))*control_list.mean()\n",
    "input_df = Average_intergenic_df1\n",
    "temp_total = input_df.shape[0]# total number of sequence\n",
    "temp_fraction = []\n",
    "output_df = copy.deepcopy(input_df[['Corresponding_intergenic_region','Strand','Mean_normalized_count_perM']])\n",
    "\n",
    "for x in range(0,len(temp_cut)):\n",
    "    if x == 20:\n",
    "        temp_column_name = '>=100%' # colums name\n",
    "        tt = (input_df['Mean_normalized_count_perM'] >=temp_cut[x])*1\n",
    "        output_df[temp_column_name] = tt\n",
    "        temp_fraction.append(sum(tt)/temp_total)\n",
    "    else:\n",
    "        temp_column_name = str(x*5)+'-'+str((x+1)*5)+'%' # colums name\n",
    "        tt = ((input_df['Mean_normalized_count_perM'] >=temp_cut[x])&(input_df['Mean_normalized_count_perM']<temp_cut[x+1]))*1\n",
    "        output_df[temp_column_name] = tt\n",
    "        temp_fraction.append(sum(tt)/temp_total)\n",
    "DF_fraction = pd.DataFrame({'bins':np.linspace(0,100,21)/100,'Fraction':temp_fraction})"
   ]
  },
  {
   "cell_type": "markdown",
   "metadata": {},
   "source": [
    "##### Output"
   ]
  },
  {
   "cell_type": "code",
   "execution_count": 23,
   "metadata": {},
   "outputs": [],
   "source": [
    "DF_fraction.to_csv(output_address+'YPD_PC_average_fraction_20_V1_NO.csv')\n",
    "output_df.to_csv(output_address+'YPD_PC_average_fraction_20_V1_details_NO.csv')"
   ]
  },
  {
   "cell_type": "code",
   "execution_count": 24,
   "metadata": {},
   "outputs": [],
   "source": [
    "#V2"
   ]
  },
  {
   "cell_type": "code",
   "execution_count": 25,
   "metadata": {},
   "outputs": [],
   "source": [
    "temp_cut = np.array(list(np.linspace(0,100,21)/100))*control_list.mean()\n",
    "input_df = Average_intergenic_df2\n",
    "temp_total = input_df.shape[0]# total number of sequence\n",
    "temp_fraction = []\n",
    "output_df = copy.deepcopy(input_df[['Corresponding_intergenic_region','Strand','Mean_normalized_count_perM']])\n",
    "\n",
    "for x in range(0,len(temp_cut)):\n",
    "    if x == 20:\n",
    "        temp_column_name = '>=100%' # colums name\n",
    "        tt = (input_df['Mean_normalized_count_perM'] >=temp_cut[x])*1\n",
    "        output_df[temp_column_name] = tt\n",
    "        temp_fraction.append(sum(tt)/temp_total)\n",
    "    else:\n",
    "        temp_column_name = str(x*5)+'-'+str((x+1)*5)+'%' # colums name\n",
    "        tt = ((input_df['Mean_normalized_count_perM'] >=temp_cut[x])&(input_df['Mean_normalized_count_perM']<temp_cut[x+1]))*1\n",
    "        output_df[temp_column_name] = tt\n",
    "        temp_fraction.append(sum(tt)/temp_total)\n",
    "DF_fraction = pd.DataFrame({'bins':np.linspace(0,100,21)/100,'Fraction':temp_fraction})"
   ]
  },
  {
   "cell_type": "markdown",
   "metadata": {
    "tags": []
   },
   "source": [
    "##### Output"
   ]
  },
  {
   "cell_type": "code",
   "execution_count": 26,
   "metadata": {},
   "outputs": [],
   "source": [
    "DF_fraction.to_csv(output_address+'YPD_PC_average_fraction_20_V2_NO.csv')\n",
    "output_df.to_csv(output_address+'YPD_PC_average_fraction_20_V2_details_NO.csv')"
   ]
  },
  {
   "cell_type": "markdown",
   "metadata": {
    "tags": []
   },
   "source": [
    "### 2.5 Analysis by T test to different percentage of PC control"
   ]
  },
  {
   "cell_type": "markdown",
   "metadata": {},
   "source": [
    "#### 2.5.1 compare to NC"
   ]
  },
  {
   "cell_type": "code",
   "execution_count": 27,
   "metadata": {},
   "outputs": [],
   "source": [
    "PC_comparison_nc_V1 = comparison_function_V1(E_intergenic_dic, E_genic_dic,'YML017W','V1',[50,100,200,400,800,1200,1600],[1/37.5])"
   ]
  },
  {
   "cell_type": "code",
   "execution_count": 28,
   "metadata": {},
   "outputs": [],
   "source": [
    "PC_comparison_nc_V2 = comparison_function_V1(E_intergenic_dic, E_genic_dic,'YML017W','V1',[50,100,200,400,800,1200,1600],[1/37.5])"
   ]
  },
  {
   "cell_type": "code",
   "execution_count": 29,
   "metadata": {},
   "outputs": [],
   "source": [
    "PC_comparison_nc_V1.to_csv(output_address +'YPD_PC_NC_comparison_V1_NO',index=False)\n",
    "PC_comparison_nc_V2.to_csv(output_address +'YPD_PC_NC_comparison_V2_NO',index=False)"
   ]
  },
  {
   "cell_type": "markdown",
   "metadata": {},
   "source": [
    "#### 2.5.1 compare to PC"
   ]
  },
  {
   "cell_type": "markdown",
   "metadata": {},
   "source": [
    "##### 2.5.1.1. V1"
   ]
  },
  {
   "cell_type": "code",
   "execution_count": 132,
   "metadata": {},
   "outputs": [],
   "source": [
    "PC_comparison_new_V1 = comparison_function_V1(E_intergenic_dic, E_genic_dic,'YML017W','V1',[50,100,200,400,800,1200,1600],list(np.linspace(1,10,10)/10))"
   ]
  },
  {
   "cell_type": "markdown",
   "metadata": {},
   "source": [
    "##### 2.5.1.2. V2"
   ]
  },
  {
   "cell_type": "code",
   "execution_count": 133,
   "metadata": {},
   "outputs": [],
   "source": [
    "PC_comparison_new_V2 = comparison_function_V1(E_intergenic_dic, E_genic_dic,'YML017W','V2',[50,100,200,400,800,1200,1600],list(np.linspace(1,10,10)/10))"
   ]
  },
  {
   "cell_type": "markdown",
   "metadata": {},
   "source": [
    "##### Output"
   ]
  },
  {
   "cell_type": "code",
   "execution_count": 134,
   "metadata": {},
   "outputs": [],
   "source": [
    "PC_comparison_new_V1.to_csv(output_address +'YPD_PC_percentile_comparison_V1_NO',index=False)\n",
    "PC_comparison_new_V2.to_csv(output_address +'YPD_PC_percentile_comparison_V2_NO',index=False)"
   ]
  },
  {
   "cell_type": "markdown",
   "metadata": {
    "tags": []
   },
   "source": [
    "##### Plotting"
   ]
  },
  {
   "cell_type": "code",
   "execution_count": 138,
   "metadata": {},
   "outputs": [
    {
     "data": {
      "text/html": [
       "<div>\n",
       "<style scoped>\n",
       "    .dataframe tbody tr th:only-of-type {\n",
       "        vertical-align: middle;\n",
       "    }\n",
       "\n",
       "    .dataframe tbody tr th {\n",
       "        vertical-align: top;\n",
       "    }\n",
       "\n",
       "    .dataframe thead th {\n",
       "        text-align: right;\n",
       "    }\n",
       "</style>\n",
       "<table border=\"1\" class=\"dataframe\">\n",
       "  <thead>\n",
       "    <tr style=\"text-align: right;\">\n",
       "      <th></th>\n",
       "      <th>UTR_length</th>\n",
       "      <th>Total_number</th>\n",
       "      <th>Control_percentile</th>\n",
       "      <th>More_than_Control_fraction</th>\n",
       "      <th>More_than_Control_number</th>\n",
       "      <th>More_than_Control_FDR_fraction</th>\n",
       "      <th>More_than_Control_FDR_number</th>\n",
       "      <th>More_than_Control_list</th>\n",
       "      <th>More_than_PC_consecutive</th>\n",
       "      <th>lower_than_Control_FDR_fraction</th>\n",
       "      <th>lower_than_Control_FDR_number</th>\n",
       "      <th>lower_than_Control_list</th>\n",
       "    </tr>\n",
       "  </thead>\n",
       "  <tbody>\n",
       "    <tr>\n",
       "      <th>20</th>\n",
       "      <td>200</td>\n",
       "      <td>48856</td>\n",
       "      <td>0.1</td>\n",
       "      <td>0.074075</td>\n",
       "      <td>3619</td>\n",
       "      <td>0.072437</td>\n",
       "      <td>3539</td>\n",
       "      <td>[0, 0, 0, 0, 0, 0, 0, 0, 0, 0, 0, 0, 0, 0, 0, ...</td>\n",
       "      <td>3539</td>\n",
       "      <td>0.805919</td>\n",
       "      <td>39374</td>\n",
       "      <td>[1, 1, 1, 1, 1, 1, 1, 1, 1, 1, 1, 1, 1, 1, 1, ...</td>\n",
       "    </tr>\n",
       "    <tr>\n",
       "      <th>21</th>\n",
       "      <td>200</td>\n",
       "      <td>48856</td>\n",
       "      <td>0.2</td>\n",
       "      <td>0.028963</td>\n",
       "      <td>1415</td>\n",
       "      <td>0.028738</td>\n",
       "      <td>1404</td>\n",
       "      <td>[0, 0, 0, 0, 0, 0, 0, 0, 0, 0, 0, 0, 0, 0, 0, ...</td>\n",
       "      <td>1404</td>\n",
       "      <td>0.922302</td>\n",
       "      <td>45060</td>\n",
       "      <td>[1, 1, 1, 1, 1, 1, 1, 1, 1, 1, 1, 1, 1, 1, 1, ...</td>\n",
       "    </tr>\n",
       "    <tr>\n",
       "      <th>22</th>\n",
       "      <td>200</td>\n",
       "      <td>48856</td>\n",
       "      <td>0.3</td>\n",
       "      <td>0.016518</td>\n",
       "      <td>807</td>\n",
       "      <td>0.016477</td>\n",
       "      <td>805</td>\n",
       "      <td>[0, 0, 0, 0, 0, 0, 0, 0, 0, 0, 0, 0, 0, 0, 0, ...</td>\n",
       "      <td>805</td>\n",
       "      <td>0.962502</td>\n",
       "      <td>47024</td>\n",
       "      <td>[1, 1, 1, 1, 1, 1, 1, 1, 1, 1, 1, 1, 1, 1, 1, ...</td>\n",
       "    </tr>\n",
       "    <tr>\n",
       "      <th>23</th>\n",
       "      <td>200</td>\n",
       "      <td>48856</td>\n",
       "      <td>0.4</td>\n",
       "      <td>0.010828</td>\n",
       "      <td>529</td>\n",
       "      <td>0.010828</td>\n",
       "      <td>529</td>\n",
       "      <td>[0, 0, 0, 0, 0, 0, 0, 0, 0, 0, 0, 0, 0, 0, 0, ...</td>\n",
       "      <td>529</td>\n",
       "      <td>0.976768</td>\n",
       "      <td>47721</td>\n",
       "      <td>[1, 1, 1, 1, 1, 1, 1, 1, 1, 1, 1, 1, 1, 1, 1, ...</td>\n",
       "    </tr>\n",
       "    <tr>\n",
       "      <th>24</th>\n",
       "      <td>200</td>\n",
       "      <td>48856</td>\n",
       "      <td>0.5</td>\n",
       "      <td>0.007983</td>\n",
       "      <td>390</td>\n",
       "      <td>0.007983</td>\n",
       "      <td>390</td>\n",
       "      <td>[0, 0, 0, 0, 0, 0, 0, 0, 0, 0, 0, 0, 0, 0, 0, ...</td>\n",
       "      <td>390</td>\n",
       "      <td>0.984649</td>\n",
       "      <td>48106</td>\n",
       "      <td>[1, 1, 1, 1, 1, 1, 1, 1, 1, 1, 1, 1, 1, 1, 1, ...</td>\n",
       "    </tr>\n",
       "    <tr>\n",
       "      <th>25</th>\n",
       "      <td>200</td>\n",
       "      <td>48856</td>\n",
       "      <td>0.6</td>\n",
       "      <td>0.005772</td>\n",
       "      <td>282</td>\n",
       "      <td>0.005772</td>\n",
       "      <td>282</td>\n",
       "      <td>[0, 0, 0, 0, 0, 0, 0, 0, 0, 0, 0, 0, 0, 0, 0, ...</td>\n",
       "      <td>282</td>\n",
       "      <td>0.988517</td>\n",
       "      <td>48295</td>\n",
       "      <td>[1, 1, 1, 1, 1, 1, 1, 1, 1, 1, 1, 1, 1, 1, 1, ...</td>\n",
       "    </tr>\n",
       "    <tr>\n",
       "      <th>26</th>\n",
       "      <td>200</td>\n",
       "      <td>48856</td>\n",
       "      <td>0.7</td>\n",
       "      <td>0.004176</td>\n",
       "      <td>204</td>\n",
       "      <td>0.004176</td>\n",
       "      <td>204</td>\n",
       "      <td>[0, 0, 0, 0, 0, 0, 0, 0, 0, 0, 0, 0, 0, 0, 0, ...</td>\n",
       "      <td>204</td>\n",
       "      <td>0.990994</td>\n",
       "      <td>48416</td>\n",
       "      <td>[1, 1, 1, 1, 1, 1, 1, 1, 1, 1, 1, 1, 1, 1, 1, ...</td>\n",
       "    </tr>\n",
       "    <tr>\n",
       "      <th>27</th>\n",
       "      <td>200</td>\n",
       "      <td>48856</td>\n",
       "      <td>0.8</td>\n",
       "      <td>0.003295</td>\n",
       "      <td>161</td>\n",
       "      <td>0.003275</td>\n",
       "      <td>160</td>\n",
       "      <td>[0, 0, 0, 0, 0, 0, 0, 0, 0, 0, 0, 0, 0, 0, 0, ...</td>\n",
       "      <td>160</td>\n",
       "      <td>0.992897</td>\n",
       "      <td>48509</td>\n",
       "      <td>[1, 1, 1, 1, 1, 1, 1, 1, 1, 1, 1, 1, 1, 1, 1, ...</td>\n",
       "    </tr>\n",
       "    <tr>\n",
       "      <th>28</th>\n",
       "      <td>200</td>\n",
       "      <td>48856</td>\n",
       "      <td>0.9</td>\n",
       "      <td>0.002518</td>\n",
       "      <td>123</td>\n",
       "      <td>0.002497</td>\n",
       "      <td>122</td>\n",
       "      <td>[0, 0, 0, 0, 0, 0, 0, 0, 0, 0, 0, 0, 0, 0, 0, ...</td>\n",
       "      <td>122</td>\n",
       "      <td>0.994289</td>\n",
       "      <td>48577</td>\n",
       "      <td>[1, 1, 1, 1, 1, 1, 1, 1, 1, 1, 1, 1, 1, 1, 1, ...</td>\n",
       "    </tr>\n",
       "    <tr>\n",
       "      <th>29</th>\n",
       "      <td>200</td>\n",
       "      <td>48856</td>\n",
       "      <td>1.0</td>\n",
       "      <td>0.002088</td>\n",
       "      <td>102</td>\n",
       "      <td>0.002088</td>\n",
       "      <td>102</td>\n",
       "      <td>[0, 0, 0, 0, 0, 0, 0, 0, 0, 0, 0, 0, 0, 0, 0, ...</td>\n",
       "      <td>102</td>\n",
       "      <td>0.995497</td>\n",
       "      <td>48636</td>\n",
       "      <td>[1, 1, 1, 1, 1, 1, 1, 1, 1, 1, 1, 1, 1, 1, 1, ...</td>\n",
       "    </tr>\n",
       "  </tbody>\n",
       "</table>\n",
       "</div>"
      ],
      "text/plain": [
       "    UTR_length  Total_number  Control_percentile  More_than_Control_fraction  \\\n",
       "20         200         48856                 0.1                    0.074075   \n",
       "21         200         48856                 0.2                    0.028963   \n",
       "22         200         48856                 0.3                    0.016518   \n",
       "23         200         48856                 0.4                    0.010828   \n",
       "24         200         48856                 0.5                    0.007983   \n",
       "25         200         48856                 0.6                    0.005772   \n",
       "26         200         48856                 0.7                    0.004176   \n",
       "27         200         48856                 0.8                    0.003295   \n",
       "28         200         48856                 0.9                    0.002518   \n",
       "29         200         48856                 1.0                    0.002088   \n",
       "\n",
       "    More_than_Control_number  More_than_Control_FDR_fraction  \\\n",
       "20                      3619                        0.072437   \n",
       "21                      1415                        0.028738   \n",
       "22                       807                        0.016477   \n",
       "23                       529                        0.010828   \n",
       "24                       390                        0.007983   \n",
       "25                       282                        0.005772   \n",
       "26                       204                        0.004176   \n",
       "27                       161                        0.003275   \n",
       "28                       123                        0.002497   \n",
       "29                       102                        0.002088   \n",
       "\n",
       "    More_than_Control_FDR_number  \\\n",
       "20                          3539   \n",
       "21                          1404   \n",
       "22                           805   \n",
       "23                           529   \n",
       "24                           390   \n",
       "25                           282   \n",
       "26                           204   \n",
       "27                           160   \n",
       "28                           122   \n",
       "29                           102   \n",
       "\n",
       "                               More_than_Control_list  \\\n",
       "20  [0, 0, 0, 0, 0, 0, 0, 0, 0, 0, 0, 0, 0, 0, 0, ...   \n",
       "21  [0, 0, 0, 0, 0, 0, 0, 0, 0, 0, 0, 0, 0, 0, 0, ...   \n",
       "22  [0, 0, 0, 0, 0, 0, 0, 0, 0, 0, 0, 0, 0, 0, 0, ...   \n",
       "23  [0, 0, 0, 0, 0, 0, 0, 0, 0, 0, 0, 0, 0, 0, 0, ...   \n",
       "24  [0, 0, 0, 0, 0, 0, 0, 0, 0, 0, 0, 0, 0, 0, 0, ...   \n",
       "25  [0, 0, 0, 0, 0, 0, 0, 0, 0, 0, 0, 0, 0, 0, 0, ...   \n",
       "26  [0, 0, 0, 0, 0, 0, 0, 0, 0, 0, 0, 0, 0, 0, 0, ...   \n",
       "27  [0, 0, 0, 0, 0, 0, 0, 0, 0, 0, 0, 0, 0, 0, 0, ...   \n",
       "28  [0, 0, 0, 0, 0, 0, 0, 0, 0, 0, 0, 0, 0, 0, 0, ...   \n",
       "29  [0, 0, 0, 0, 0, 0, 0, 0, 0, 0, 0, 0, 0, 0, 0, ...   \n",
       "\n",
       "    More_than_PC_consecutive  lower_than_Control_FDR_fraction  \\\n",
       "20                      3539                         0.805919   \n",
       "21                      1404                         0.922302   \n",
       "22                       805                         0.962502   \n",
       "23                       529                         0.976768   \n",
       "24                       390                         0.984649   \n",
       "25                       282                         0.988517   \n",
       "26                       204                         0.990994   \n",
       "27                       160                         0.992897   \n",
       "28                       122                         0.994289   \n",
       "29                       102                         0.995497   \n",
       "\n",
       "    lower_than_Control_FDR_number  \\\n",
       "20                          39374   \n",
       "21                          45060   \n",
       "22                          47024   \n",
       "23                          47721   \n",
       "24                          48106   \n",
       "25                          48295   \n",
       "26                          48416   \n",
       "27                          48509   \n",
       "28                          48577   \n",
       "29                          48636   \n",
       "\n",
       "                              lower_than_Control_list  \n",
       "20  [1, 1, 1, 1, 1, 1, 1, 1, 1, 1, 1, 1, 1, 1, 1, ...  \n",
       "21  [1, 1, 1, 1, 1, 1, 1, 1, 1, 1, 1, 1, 1, 1, 1, ...  \n",
       "22  [1, 1, 1, 1, 1, 1, 1, 1, 1, 1, 1, 1, 1, 1, 1, ...  \n",
       "23  [1, 1, 1, 1, 1, 1, 1, 1, 1, 1, 1, 1, 1, 1, 1, ...  \n",
       "24  [1, 1, 1, 1, 1, 1, 1, 1, 1, 1, 1, 1, 1, 1, 1, ...  \n",
       "25  [1, 1, 1, 1, 1, 1, 1, 1, 1, 1, 1, 1, 1, 1, 1, ...  \n",
       "26  [1, 1, 1, 1, 1, 1, 1, 1, 1, 1, 1, 1, 1, 1, 1, ...  \n",
       "27  [1, 1, 1, 1, 1, 1, 1, 1, 1, 1, 1, 1, 1, 1, 1, ...  \n",
       "28  [1, 1, 1, 1, 1, 1, 1, 1, 1, 1, 1, 1, 1, 1, 1, ...  \n",
       "29  [1, 1, 1, 1, 1, 1, 1, 1, 1, 1, 1, 1, 1, 1, 1, ...  "
      ]
     },
     "execution_count": 138,
     "metadata": {},
     "output_type": "execute_result"
    }
   ],
   "source": [
    "PC_comparison_new_V1[PC_comparison_new_V1['UTR_length']==200]"
   ]
  },
  {
   "cell_type": "code",
   "execution_count": 135,
   "metadata": {},
   "outputs": [
    {
     "data": {
      "text/plain": [
       "Text(0.5, 0.07, 'UTR extension length (bp)')"
      ]
     },
     "execution_count": 135,
     "metadata": {},
     "output_type": "execute_result"
    },
    {
     "data": {
      "image/png": "[encoded data removed]",
      "text/plain": [
       "<Figure size 720x720 with 4 Axes>"
      ]
     },
     "metadata": {
      "needs_background": "light"
     },
     "output_type": "display_data"
    }
   ],
   "source": [
    "fig1,ax = plt.subplots(2, 2, figsize=(10,10),sharex=True)\n",
    "axes = ax.flatten()\n",
    "temp_input_percentile = 1\n",
    "temp_input_df_V1 = PC_comparison_new_V1[PC_comparison_new_V1['Control_percentile']==temp_input_percentile]\n",
    "temp_input_df_V2 = PC_comparison_new_V2[PC_comparison_new_V2['Control_percentile']==temp_input_percentile]\n",
    "axes[0].plot(temp_input_df_V1['UTR_length'], temp_input_df_V1['More_than_Control_FDR_fraction'],  '-o',label = 'V1')\n",
    "axes[0].plot(temp_input_df_V2['UTR_length'], temp_input_df_V2['More_than_Control_FDR_fraction'],  '-o',label = 'V2')\n",
    "axes[0].set_title('Fraction of 20bp intergenic region > PC')\n",
    "axes[0].set_ylabel('Fraction')\n",
    "axes[0].legend(loc='upper right')\n",
    "\n",
    "axes[1].plot(temp_input_df_V1['UTR_length'], temp_input_df_V1['More_than_Control_FDR_number'],  '-o')\n",
    "axes[1].plot(temp_input_df_V2['UTR_length'], temp_input_df_V2['More_than_Control_FDR_number'],  '-o')\n",
    "axes[1].set_title('Number of 20bp intergenic region > PC')\n",
    "axes[1].set_ylabel('Number')\n",
    "\n",
    "axes[2].plot(temp_input_df_V1['UTR_length'], temp_input_df_V1['More_than_PC_consecutive'],  '-o')\n",
    "axes[2].plot(temp_input_df_V2['UTR_length'], temp_input_df_V2['More_than_PC_consecutive'],  '-o')\n",
    "axes[2].set_ylabel('Number')\n",
    "axes[2].set_title('Number of consecutive region > PC')\n",
    "\n",
    "axes[3].plot(temp_input_df_V1['UTR_length'], temp_input_df_V1['Total_number'],  '-o')\n",
    "axes[3].plot(temp_input_df_V2['UTR_length'], temp_input_df_V2['Total_number'],  '-o')\n",
    "axes[3].set_title('Total number of 20 bp intergenic region')\n",
    "# fig1.text(0.08, 0.5, 'UTR extension length (bp)', va='center', rotation='vertical',fontsize=20)\n",
    "fig1.text(0.5, 0.07, 'UTR extension length (bp)', ha='center',fontsize=14)"
   ]
  }
 ],
 "metadata": {
  "kernelspec": {
   "display_name": "Python 3 (ipykernel)",
   "language": "python",
   "name": "python3"
  },
  "language_info": {
   "codemirror_mode": {
    "name": "ipython",
    "version": 3
   },
   "file_extension": ".py",
   "mimetype": "text/x-python",
   "name": "python",
   "nbconvert_exporter": "python",
   "pygments_lexer": "ipython3",
   "version": "3.8.12"
  }
 },
 "nbformat": 4,
 "nbformat_minor": 4
}
